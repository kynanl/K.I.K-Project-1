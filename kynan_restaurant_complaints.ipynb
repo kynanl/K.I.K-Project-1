{
 "cells": [
  {
   "cell_type": "code",
   "execution_count": 1,
   "metadata": {},
   "outputs": [],
   "source": [
    "import matplotlib.pyplot as plt\n",
    "import numpy as np\n",
    "import pandas as pd\n",
    "import scipy.stats as st\n",
    "from scipy.stats import linregress\n"
   ]
  },
  {
   "cell_type": "code",
   "execution_count": 2,
   "metadata": {},
   "outputs": [],
   "source": [
    "#import csv file\n",
    "# kynan add dempgraphic file\n",
    "data_path2 = \"Food_Inspections.csv\"\n",
    "request_data2 =pd.read_csv(data_path2)\n",
    "demo_path = \"Demographics.csv\"\n",
    "demo_request = pd.read_csv(demo_path)"
   ]
  },
  {
   "cell_type": "code",
   "execution_count": 3,
   "metadata": {},
   "outputs": [],
   "source": [
    "# Kynan rename df to align with Ioana's code\n",
    "data = request_data2 "
   ]
  },
  {
   "cell_type": "code",
   "execution_count": null,
   "metadata": {},
   "outputs": [],
   "source": []
  },
  {
   "cell_type": "code",
   "execution_count": 4,
   "metadata": {},
   "outputs": [
    {
     "name": "stdout",
     "output_type": "stream",
     "text": [
      "(208254, 17)\n"
     ]
    }
   ],
   "source": [
    "#look at the number or rows and columns in the dataset\n",
    "print(data.shape)"
   ]
  },
  {
   "cell_type": "code",
   "execution_count": null,
   "metadata": {},
   "outputs": [],
   "source": []
  },
  {
   "cell_type": "code",
   "execution_count": 5,
   "metadata": {},
   "outputs": [
    {
     "data": {
      "text/plain": [
       "True"
      ]
     },
     "execution_count": 5,
     "metadata": {},
     "output_type": "execute_result"
    }
   ],
   "source": [
    "#check if there are any null values\n",
    "data.isnull().values.any()"
   ]
  },
  {
   "cell_type": "code",
   "execution_count": 6,
   "metadata": {},
   "outputs": [
    {
     "data": {
      "text/plain": [
       "AKA Name            2479\n",
       "License #             17\n",
       "Facility Type       4861\n",
       "Risk                  73\n",
       "City                 150\n",
       "State                 48\n",
       "Zip                   50\n",
       "Inspection Type        1\n",
       "Violations         55325\n",
       "Latitude             688\n",
       "Longitude            688\n",
       "Location             688\n",
       "dtype: int64"
      ]
     },
     "execution_count": 6,
     "metadata": {},
     "output_type": "execute_result"
    }
   ],
   "source": [
    "#view all the columns that have null values\n",
    "null_columns=data.columns[data.isnull().any()]\n",
    "data[null_columns].isnull().sum()"
   ]
  },
  {
   "cell_type": "code",
   "execution_count": 7,
   "metadata": {},
   "outputs": [
    {
     "name": "stdout",
     "output_type": "stream",
     "text": [
      "                               AKA Name  License #  \\\n",
      "4483               ST. DEMETRIOS CHURCH        NaN   \n",
      "4641               ST. DEMETRIOS CHURCH        NaN   \n",
      "34562   GOD'S BATTLE AXE PRAYER ACADEMY        NaN   \n",
      "45604              ST. DEMETRIOS CHURCH        NaN   \n",
      "60700          OLD ST. PATRICK'S CHURCH        NaN   \n",
      "94116          OLD ST. PATRICK'S CHURCH        NaN   \n",
      "96001              ST. DEMETRIOS CHURCH        NaN   \n",
      "96068                               NaN        NaN   \n",
      "99050   GOD'S BATTLE AXE PRAYER ACADEMY        NaN   \n",
      "114901                              NaN        NaN   \n",
      "122683             ST. DEMETRIOS CHURCH        NaN   \n",
      "124533             ST. DEMETRIOS CHURCH        NaN   \n",
      "132290             ST. DEMETRIOS CHURCH        NaN   \n",
      "184529             ST. DEMETRIOS CHURCH        NaN   \n",
      "194554             ST. DEMETRIOS CHURCH        NaN   \n",
      "196808  GOD'S BATTLE AXE PRAYER ACADEMY        NaN   \n",
      "196948                  ARGENTINA FOODS        NaN   \n",
      "\n",
      "                      Facility Type             Risk     City State      Zip  \\\n",
      "4483                  Special Event  Risk 2 (Medium)  CHICAGO    IL  60625.0   \n",
      "4641                  Special Event  Risk 2 (Medium)  CHICAGO    IL  60625.0   \n",
      "34562               CHURCH/DAY CARE    Risk 1 (High)  CHICAGO    IL  60645.0   \n",
      "45604                 Special Event  Risk 2 (Medium)  CHICAGO    IL  60625.0   \n",
      "60700                        Church  Risk 2 (Medium)  CHICAGO    IL  60661.0   \n",
      "94116                        Church  Risk 2 (Medium)  CHICAGO    IL  60661.0   \n",
      "96001                 Special Event  Risk 2 (Medium)  CHICAGO    IL  60625.0   \n",
      "96068   CHURCH/AFTER SCHOOL PROGRAM    Risk 1 (High)  CHICAGO    IL  60619.0   \n",
      "99050               CHURCH/DAY CARE    Risk 1 (High)  CHICAGO    IL  60645.0   \n",
      "114901                Special Event    Risk 1 (High)  CHICAGO    IL  60625.0   \n",
      "122683                Special Event  Risk 2 (Medium)  CHICAGO    IL  60625.0   \n",
      "124533                Special Event  Risk 2 (Medium)  CHICAGO    IL  60625.0   \n",
      "132290                Special Event  Risk 2 (Medium)  CHICAGO    IL  60625.0   \n",
      "184529                Special Event  Risk 2 (Medium)  CHICAGO    IL  60625.0   \n",
      "194554                Special Event  Risk 2 (Medium)  CHICAGO    IL  60625.0   \n",
      "196808              CHURCH/DAY CARE    Risk 1 (High)  CHICAGO    IL  60645.0   \n",
      "196948                Grocery Store  Risk 2 (Medium)  CHICAGO    IL  60609.0   \n",
      "\n",
      "                   Inspection Type  \\\n",
      "4483                       Canvass   \n",
      "4641                       Canvass   \n",
      "34562        Canvass Re-Inspection   \n",
      "45604                      Canvass   \n",
      "60700   Special Events (Festivals)   \n",
      "94116   Special Events (Festivals)   \n",
      "96001                      Canvass   \n",
      "96068         Short Form Complaint   \n",
      "99050        Canvass Re-Inspection   \n",
      "114901  Special Events (Festivals)   \n",
      "122683                     Canvass   \n",
      "124533                     Canvass   \n",
      "132290                     Canvass   \n",
      "184529                     Canvass   \n",
      "194554                     Canvass   \n",
      "196808                     Canvass   \n",
      "196948                     Canvass   \n",
      "\n",
      "                                               Violations   Latitude  \\\n",
      "4483    32. FOOD AND NON-FOOD CONTACT SURFACES PROPERL...  41.974653   \n",
      "4641                                                  NaN  41.974653   \n",
      "34562                                                 NaN  42.008303   \n",
      "45604   33. FOOD AND NON-FOOD CONTACT EQUIPMENT UTENSI...  41.974653   \n",
      "60700   33. FOOD AND NON-FOOD CONTACT EQUIPMENT UTENSI...  41.879367   \n",
      "94116   34. FLOORS: CONSTRUCTED PER CODE, CLEANED, GOO...  41.879367   \n",
      "96001   38. VENTILATION: ROOMS AND EQUIPMENT VENTED AS...  41.974653   \n",
      "96068                                                 NaN  41.747711   \n",
      "99050   9. WATER SOURCE: SAFE, HOT & COLD UNDER CITY P...  42.008303   \n",
      "114901  32. FOOD AND NON-FOOD CONTACT SURFACES PROPERL...  41.974653   \n",
      "122683  32. FOOD AND NON-FOOD CONTACT SURFACES PROPERL...  41.974653   \n",
      "124533  32. FOOD AND NON-FOOD CONTACT SURFACES PROPERL...  41.974653   \n",
      "132290  33. FOOD AND NON-FOOD CONTACT EQUIPMENT UTENSI...  41.974653   \n",
      "184529  3. MANAGEMENT, FOOD EMPLOYEE AND CONDITIONAL E...  41.974653   \n",
      "194554                                                NaN  41.974653   \n",
      "196808  11. ADEQUATE NUMBER, CONVENIENT, ACCESSIBLE, D...  42.008303   \n",
      "196948                                                NaN  41.812105   \n",
      "\n",
      "        Longitude                                  Location  \n",
      "4483   -87.697529  (41.974653353169366, -87.69752945714046)  \n",
      "4641   -87.697529  (41.974653353169366, -87.69752945714046)  \n",
      "34562  -87.690005  (42.008303130687445, -87.69000508529592)  \n",
      "45604  -87.697529  (41.974653353169366, -87.69752945714046)  \n",
      "60700  -87.644105   (41.87936739625875, -87.64410546134096)  \n",
      "94116  -87.644105   (41.87936739625875, -87.64410546134096)  \n",
      "96001  -87.697529  (41.974653353169366, -87.69752945714046)  \n",
      "96068  -87.589539     (41.7477112449663, -87.5895386579929)  \n",
      "99050  -87.690005  (42.008303130687445, -87.69000508529592)  \n",
      "114901 -87.697529  (41.974653353169366, -87.69752945714046)  \n",
      "122683 -87.697529  (41.974653353169366, -87.69752945714046)  \n",
      "124533 -87.697529  (41.974653353169366, -87.69752945714046)  \n",
      "132290 -87.697529  (41.974653353169366, -87.69752945714046)  \n",
      "184529 -87.697529  (41.974653353169366, -87.69752945714046)  \n",
      "194554 -87.697529  (41.974653353169366, -87.69752945714046)  \n",
      "196808 -87.690005  (42.008303130687445, -87.69000508529592)  \n",
      "196948 -87.670072   (41.81210515297724, -87.67007183351623)  \n"
     ]
    }
   ],
   "source": [
    "#look at specific column that have nulls\n",
    "print(data[data[\"License #\"].isnull()][null_columns])"
   ]
  },
  {
   "cell_type": "code",
   "execution_count": 8,
   "metadata": {},
   "outputs": [
    {
     "data": {
      "text/plain": [
       "Restaurant                           138590\n",
       "Grocery Store                         27156\n",
       "School                                12823\n",
       "Children's Services Facility           3396\n",
       "Bakery                                 3046\n",
       "Daycare (2 - 6 Years)                  2767\n",
       "Daycare Above and Under 2 Years        2550\n",
       "Long Term Care                         1422\n",
       "Catering                               1255\n",
       "Liquor                                  913\n",
       "Mobile Food Dispenser                   877\n",
       "Daycare Combo 1586                      747\n",
       "Mobile Food Preparer                    667\n",
       "Golden Diner                            597\n",
       "Hospital                                580\n",
       "Wholesale                               542\n",
       "TAVERN                                  300\n",
       "Daycare (Under 2 Years)                 265\n",
       "Special Event                           223\n",
       "Shared Kitchen User (Long Term)         205\n",
       "BANQUET HALL                            161\n",
       "GAS STATION                             140\n",
       "Shared Kitchen                          133\n",
       "Mobile Prepared Food Vendor             116\n",
       "KIOSK                                   106\n",
       "Shelter                                 105\n",
       "CHARTER SCHOOL                           83\n",
       "LIVE POULTRY                             79\n",
       "BANQUET                                  64\n",
       "GROCERY/RESTAURANT                       56\n",
       "Mobile Frozen Desserts Vendor            55\n",
       "Navy Pier Kiosk                          54\n",
       "Daycare (2 Years)                        49\n",
       "DAYCARE                                  49\n",
       "STADIUM                                  45\n",
       "STORE                                    43\n",
       "PRIVATE SCHOOL                           43\n",
       "Shared Kitchen User (Short Term)         42\n",
       "RESTAURANT/BAR                           40\n",
       "ICE CREAM SHOP                           39\n",
       "ROOFTOP                                  37\n",
       "CONVENIENCE STORE                        37\n",
       "1023 CHILDERN'S SERVICES FACILITY        36\n",
       "CAFETERIA                                36\n",
       "Pop-Up Establishment Host-Tier II        34\n",
       "HOTEL                                    30\n",
       "CULINARY SCHOOL                          29\n",
       "CHURCH                                   28\n",
       "CHURCH KITCHEN                           28\n",
       "CONVENIENCE                              28\n",
       "1023-CHILDREN'S SERVICES FACILITY        28\n",
       "COMMISSARY                               28\n",
       "RESTAURANT/GROCERY STORE                 27\n",
       "convenience store                        27\n",
       "BREWERY                                  24\n",
       "ROOF TOPS                                24\n",
       "Name: Facility Type, dtype: int64"
      ]
     },
     "execution_count": 8,
     "metadata": {},
     "output_type": "execute_result"
    }
   ],
   "source": [
    "#Kynan check how many different restaurnt types are classified under \"Facility Type\"\n",
    "restaurant_types = data['Facility Type'].value_counts()\n",
    "restaurant_types.head(56)"
   ]
  },
  {
   "cell_type": "code",
   "execution_count": 9,
   "metadata": {},
   "outputs": [
    {
     "name": "stdout",
     "output_type": "stream",
     "text": [
      "(138590, 17)\n"
     ]
    }
   ],
   "source": [
    "# filter the dataset by facility type =restaurant and look at its shape\n",
    "\n",
    "restaurant_data = data[data['Facility Type']== \"Restaurant\"]\n",
    "print(restaurant_data.shape)"
   ]
  },
  {
   "cell_type": "code",
   "execution_count": 10,
   "metadata": {},
   "outputs": [
    {
     "data": {
      "text/html": [
       "<div>\n",
       "<style scoped>\n",
       "    .dataframe tbody tr th:only-of-type {\n",
       "        vertical-align: middle;\n",
       "    }\n",
       "\n",
       "    .dataframe tbody tr th {\n",
       "        vertical-align: top;\n",
       "    }\n",
       "\n",
       "    .dataframe thead th {\n",
       "        text-align: right;\n",
       "    }\n",
       "</style>\n",
       "<table border=\"1\" class=\"dataframe\">\n",
       "  <thead>\n",
       "    <tr style=\"text-align: right;\">\n",
       "      <th></th>\n",
       "      <th>Inspection ID</th>\n",
       "      <th>DBA Name</th>\n",
       "      <th>AKA Name</th>\n",
       "      <th>License #</th>\n",
       "      <th>Facility Type</th>\n",
       "      <th>Risk</th>\n",
       "      <th>Address</th>\n",
       "      <th>City</th>\n",
       "      <th>State</th>\n",
       "      <th>Zip</th>\n",
       "      <th>Inspection Date</th>\n",
       "      <th>Inspection Type</th>\n",
       "      <th>Results</th>\n",
       "      <th>Violations</th>\n",
       "      <th>Latitude</th>\n",
       "      <th>Longitude</th>\n",
       "      <th>Location</th>\n",
       "    </tr>\n",
       "  </thead>\n",
       "  <tbody>\n",
       "    <tr>\n",
       "      <th>1</th>\n",
       "      <td>1561742</td>\n",
       "      <td>LE CAFE</td>\n",
       "      <td>LE CAFE</td>\n",
       "      <td>2178017.0</td>\n",
       "      <td>Restaurant</td>\n",
       "      <td>Risk 1 (High)</td>\n",
       "      <td>4655 N LINCOLN AVE</td>\n",
       "      <td>CHICAGO</td>\n",
       "      <td>IL</td>\n",
       "      <td>60625.0</td>\n",
       "      <td>7/31/2015</td>\n",
       "      <td>Recent Inspection</td>\n",
       "      <td>Pass w/ Conditions</td>\n",
       "      <td>21. * CERTIFIED FOOD MANAGER ON SITE WHEN POTE...</td>\n",
       "      <td>41.966413</td>\n",
       "      <td>-87.686937</td>\n",
       "      <td>(41.96641308847062, -87.68693718914149)</td>\n",
       "    </tr>\n",
       "    <tr>\n",
       "      <th>3</th>\n",
       "      <td>335329</td>\n",
       "      <td>J &amp; J FISH</td>\n",
       "      <td>J &amp; J FISH</td>\n",
       "      <td>69148.0</td>\n",
       "      <td>Restaurant</td>\n",
       "      <td>Risk 2 (Medium)</td>\n",
       "      <td>1945 E 79TH ST</td>\n",
       "      <td>CHICAGO</td>\n",
       "      <td>IL</td>\n",
       "      <td>60649.0</td>\n",
       "      <td>10/7/2010</td>\n",
       "      <td>Canvass</td>\n",
       "      <td>Pass</td>\n",
       "      <td>32. FOOD AND NON-FOOD CONTACT SURFACES PROPERL...</td>\n",
       "      <td>41.751489</td>\n",
       "      <td>-87.576634</td>\n",
       "      <td>(41.75148901882857, -87.57663364715819)</td>\n",
       "    </tr>\n",
       "    <tr>\n",
       "      <th>4</th>\n",
       "      <td>1389412</td>\n",
       "      <td>ROYAL CHICKEN</td>\n",
       "      <td>NaN</td>\n",
       "      <td>2289533.0</td>\n",
       "      <td>Restaurant</td>\n",
       "      <td>Risk 2 (Medium)</td>\n",
       "      <td>5254 W CHICAGO AVE</td>\n",
       "      <td>CHICAGO</td>\n",
       "      <td>IL</td>\n",
       "      <td>60651.0</td>\n",
       "      <td>4/9/2014</td>\n",
       "      <td>License Re-Inspection</td>\n",
       "      <td>Pass</td>\n",
       "      <td>NaN</td>\n",
       "      <td>41.895023</td>\n",
       "      <td>-87.757835</td>\n",
       "      <td>(41.89502331496054, -87.75783480830066)</td>\n",
       "    </tr>\n",
       "    <tr>\n",
       "      <th>6</th>\n",
       "      <td>1096394</td>\n",
       "      <td>JIMMY GREEN'S</td>\n",
       "      <td>JIMMY GREEN'S</td>\n",
       "      <td>1979963.0</td>\n",
       "      <td>Restaurant</td>\n",
       "      <td>Risk 1 (High)</td>\n",
       "      <td>825 S STATE ST</td>\n",
       "      <td>CHICAGO</td>\n",
       "      <td>IL</td>\n",
       "      <td>60605.0</td>\n",
       "      <td>7/24/2012</td>\n",
       "      <td>Canvass</td>\n",
       "      <td>Out of Business</td>\n",
       "      <td>NaN</td>\n",
       "      <td>41.871464</td>\n",
       "      <td>-87.627369</td>\n",
       "      <td>(41.87146433662049, -87.62736908629603)</td>\n",
       "    </tr>\n",
       "    <tr>\n",
       "      <th>7</th>\n",
       "      <td>2135370</td>\n",
       "      <td>CONRAD CHICAGO</td>\n",
       "      <td>BAPTISTE &amp; BOTTLE</td>\n",
       "      <td>2457427.0</td>\n",
       "      <td>Restaurant</td>\n",
       "      <td>Risk 1 (High)</td>\n",
       "      <td>101 E ERIE ST</td>\n",
       "      <td>CHICAGO</td>\n",
       "      <td>IL</td>\n",
       "      <td>60611.0</td>\n",
       "      <td>1/12/2018</td>\n",
       "      <td>Canvass</td>\n",
       "      <td>Pass w/ Conditions</td>\n",
       "      <td>3. POTENTIALLY HAZARDOUS FOOD MEETS TEMPERATUR...</td>\n",
       "      <td>41.894010</td>\n",
       "      <td>-87.625368</td>\n",
       "      <td>(41.89400968711272, -87.62536771830537)</td>\n",
       "    </tr>\n",
       "  </tbody>\n",
       "</table>\n",
       "</div>"
      ],
      "text/plain": [
       "   Inspection ID        DBA Name           AKA Name  License # Facility Type  \\\n",
       "1        1561742         LE CAFE            LE CAFE  2178017.0    Restaurant   \n",
       "3         335329      J & J FISH         J & J FISH    69148.0    Restaurant   \n",
       "4        1389412   ROYAL CHICKEN                NaN  2289533.0    Restaurant   \n",
       "6        1096394   JIMMY GREEN'S      JIMMY GREEN'S  1979963.0    Restaurant   \n",
       "7        2135370  CONRAD CHICAGO  BAPTISTE & BOTTLE  2457427.0    Restaurant   \n",
       "\n",
       "              Risk             Address     City State      Zip  \\\n",
       "1    Risk 1 (High)  4655 N LINCOLN AVE  CHICAGO    IL  60625.0   \n",
       "3  Risk 2 (Medium)      1945 E 79TH ST  CHICAGO    IL  60649.0   \n",
       "4  Risk 2 (Medium)  5254 W CHICAGO AVE  CHICAGO    IL  60651.0   \n",
       "6    Risk 1 (High)      825 S STATE ST  CHICAGO    IL  60605.0   \n",
       "7    Risk 1 (High)       101 E ERIE ST  CHICAGO    IL  60611.0   \n",
       "\n",
       "  Inspection Date        Inspection Type             Results  \\\n",
       "1       7/31/2015      Recent Inspection  Pass w/ Conditions   \n",
       "3       10/7/2010                Canvass                Pass   \n",
       "4        4/9/2014  License Re-Inspection                Pass   \n",
       "6       7/24/2012                Canvass     Out of Business   \n",
       "7       1/12/2018                Canvass  Pass w/ Conditions   \n",
       "\n",
       "                                          Violations   Latitude  Longitude  \\\n",
       "1  21. * CERTIFIED FOOD MANAGER ON SITE WHEN POTE...  41.966413 -87.686937   \n",
       "3  32. FOOD AND NON-FOOD CONTACT SURFACES PROPERL...  41.751489 -87.576634   \n",
       "4                                                NaN  41.895023 -87.757835   \n",
       "6                                                NaN  41.871464 -87.627369   \n",
       "7  3. POTENTIALLY HAZARDOUS FOOD MEETS TEMPERATUR...  41.894010 -87.625368   \n",
       "\n",
       "                                  Location  \n",
       "1  (41.96641308847062, -87.68693718914149)  \n",
       "3  (41.75148901882857, -87.57663364715819)  \n",
       "4  (41.89502331496054, -87.75783480830066)  \n",
       "6  (41.87146433662049, -87.62736908629603)  \n",
       "7  (41.89400968711272, -87.62536771830537)  "
      ]
     },
     "execution_count": 10,
     "metadata": {},
     "output_type": "execute_result"
    }
   ],
   "source": [
    "restaurant_data.head()"
   ]
  },
  {
   "cell_type": "code",
   "execution_count": 11,
   "metadata": {},
   "outputs": [
    {
     "data": {
      "text/html": [
       "<div>\n",
       "<style scoped>\n",
       "    .dataframe tbody tr th:only-of-type {\n",
       "        vertical-align: middle;\n",
       "    }\n",
       "\n",
       "    .dataframe tbody tr th {\n",
       "        vertical-align: top;\n",
       "    }\n",
       "\n",
       "    .dataframe thead th {\n",
       "        text-align: right;\n",
       "    }\n",
       "</style>\n",
       "<table border=\"1\" class=\"dataframe\">\n",
       "  <thead>\n",
       "    <tr style=\"text-align: right;\">\n",
       "      <th></th>\n",
       "      <th>Inspection ID</th>\n",
       "      <th>DBA Name</th>\n",
       "      <th>AKA Name</th>\n",
       "      <th>License #</th>\n",
       "      <th>Facility Type</th>\n",
       "      <th>Risk</th>\n",
       "      <th>Address</th>\n",
       "      <th>City</th>\n",
       "      <th>State</th>\n",
       "      <th>Zip</th>\n",
       "      <th>Inspection Date</th>\n",
       "      <th>Inspection Type</th>\n",
       "      <th>Results</th>\n",
       "      <th>Violations</th>\n",
       "      <th>Latitude</th>\n",
       "      <th>Longitude</th>\n",
       "      <th>Location</th>\n",
       "    </tr>\n",
       "  </thead>\n",
       "  <tbody>\n",
       "    <tr>\n",
       "      <th>1</th>\n",
       "      <td>1561742</td>\n",
       "      <td>LE CAFE</td>\n",
       "      <td>LE CAFE</td>\n",
       "      <td>2178017.0</td>\n",
       "      <td>Restaurant</td>\n",
       "      <td>Risk 1 (High)</td>\n",
       "      <td>4655 N LINCOLN AVE</td>\n",
       "      <td>CHICAGO</td>\n",
       "      <td>IL</td>\n",
       "      <td>60625.0</td>\n",
       "      <td>7/31/2015</td>\n",
       "      <td>Recent Inspection</td>\n",
       "      <td>Pass w/ Conditions</td>\n",
       "      <td>21. * CERTIFIED FOOD MANAGER ON SITE WHEN POTE...</td>\n",
       "      <td>41.966413</td>\n",
       "      <td>-87.686937</td>\n",
       "      <td>(41.96641308847062, -87.68693718914149)</td>\n",
       "    </tr>\n",
       "    <tr>\n",
       "      <th>3</th>\n",
       "      <td>335329</td>\n",
       "      <td>J &amp; J FISH</td>\n",
       "      <td>J &amp; J FISH</td>\n",
       "      <td>69148.0</td>\n",
       "      <td>Restaurant</td>\n",
       "      <td>Risk 2 (Medium)</td>\n",
       "      <td>1945 E 79TH ST</td>\n",
       "      <td>CHICAGO</td>\n",
       "      <td>IL</td>\n",
       "      <td>60649.0</td>\n",
       "      <td>10/7/2010</td>\n",
       "      <td>Canvass</td>\n",
       "      <td>Pass</td>\n",
       "      <td>32. FOOD AND NON-FOOD CONTACT SURFACES PROPERL...</td>\n",
       "      <td>41.751489</td>\n",
       "      <td>-87.576634</td>\n",
       "      <td>(41.75148901882857, -87.57663364715819)</td>\n",
       "    </tr>\n",
       "    <tr>\n",
       "      <th>4</th>\n",
       "      <td>1389412</td>\n",
       "      <td>ROYAL CHICKEN</td>\n",
       "      <td>NaN</td>\n",
       "      <td>2289533.0</td>\n",
       "      <td>Restaurant</td>\n",
       "      <td>Risk 2 (Medium)</td>\n",
       "      <td>5254 W CHICAGO AVE</td>\n",
       "      <td>CHICAGO</td>\n",
       "      <td>IL</td>\n",
       "      <td>60651.0</td>\n",
       "      <td>4/9/2014</td>\n",
       "      <td>License Re-Inspection</td>\n",
       "      <td>Pass</td>\n",
       "      <td>NaN</td>\n",
       "      <td>41.895023</td>\n",
       "      <td>-87.757835</td>\n",
       "      <td>(41.89502331496054, -87.75783480830066)</td>\n",
       "    </tr>\n",
       "    <tr>\n",
       "      <th>6</th>\n",
       "      <td>1096394</td>\n",
       "      <td>JIMMY GREEN'S</td>\n",
       "      <td>JIMMY GREEN'S</td>\n",
       "      <td>1979963.0</td>\n",
       "      <td>Restaurant</td>\n",
       "      <td>Risk 1 (High)</td>\n",
       "      <td>825 S STATE ST</td>\n",
       "      <td>CHICAGO</td>\n",
       "      <td>IL</td>\n",
       "      <td>60605.0</td>\n",
       "      <td>7/24/2012</td>\n",
       "      <td>Canvass</td>\n",
       "      <td>Out of Business</td>\n",
       "      <td>NaN</td>\n",
       "      <td>41.871464</td>\n",
       "      <td>-87.627369</td>\n",
       "      <td>(41.87146433662049, -87.62736908629603)</td>\n",
       "    </tr>\n",
       "    <tr>\n",
       "      <th>7</th>\n",
       "      <td>2135370</td>\n",
       "      <td>CONRAD CHICAGO</td>\n",
       "      <td>BAPTISTE &amp; BOTTLE</td>\n",
       "      <td>2457427.0</td>\n",
       "      <td>Restaurant</td>\n",
       "      <td>Risk 1 (High)</td>\n",
       "      <td>101 E ERIE ST</td>\n",
       "      <td>CHICAGO</td>\n",
       "      <td>IL</td>\n",
       "      <td>60611.0</td>\n",
       "      <td>1/12/2018</td>\n",
       "      <td>Canvass</td>\n",
       "      <td>Pass w/ Conditions</td>\n",
       "      <td>3. POTENTIALLY HAZARDOUS FOOD MEETS TEMPERATUR...</td>\n",
       "      <td>41.894010</td>\n",
       "      <td>-87.625368</td>\n",
       "      <td>(41.89400968711272, -87.62536771830537)</td>\n",
       "    </tr>\n",
       "  </tbody>\n",
       "</table>\n",
       "</div>"
      ],
      "text/plain": [
       "   Inspection ID        DBA Name           AKA Name  License # Facility Type  \\\n",
       "1        1561742         LE CAFE            LE CAFE  2178017.0    Restaurant   \n",
       "3         335329      J & J FISH         J & J FISH    69148.0    Restaurant   \n",
       "4        1389412   ROYAL CHICKEN                NaN  2289533.0    Restaurant   \n",
       "6        1096394   JIMMY GREEN'S      JIMMY GREEN'S  1979963.0    Restaurant   \n",
       "7        2135370  CONRAD CHICAGO  BAPTISTE & BOTTLE  2457427.0    Restaurant   \n",
       "\n",
       "              Risk             Address     City State      Zip  \\\n",
       "1    Risk 1 (High)  4655 N LINCOLN AVE  CHICAGO    IL  60625.0   \n",
       "3  Risk 2 (Medium)      1945 E 79TH ST  CHICAGO    IL  60649.0   \n",
       "4  Risk 2 (Medium)  5254 W CHICAGO AVE  CHICAGO    IL  60651.0   \n",
       "6    Risk 1 (High)      825 S STATE ST  CHICAGO    IL  60605.0   \n",
       "7    Risk 1 (High)       101 E ERIE ST  CHICAGO    IL  60611.0   \n",
       "\n",
       "  Inspection Date        Inspection Type             Results  \\\n",
       "1       7/31/2015      Recent Inspection  Pass w/ Conditions   \n",
       "3       10/7/2010                Canvass                Pass   \n",
       "4        4/9/2014  License Re-Inspection                Pass   \n",
       "6       7/24/2012                Canvass     Out of Business   \n",
       "7       1/12/2018                Canvass  Pass w/ Conditions   \n",
       "\n",
       "                                          Violations   Latitude  Longitude  \\\n",
       "1  21. * CERTIFIED FOOD MANAGER ON SITE WHEN POTE...  41.966413 -87.686937   \n",
       "3  32. FOOD AND NON-FOOD CONTACT SURFACES PROPERL...  41.751489 -87.576634   \n",
       "4                                                NaN  41.895023 -87.757835   \n",
       "6                                                NaN  41.871464 -87.627369   \n",
       "7  3. POTENTIALLY HAZARDOUS FOOD MEETS TEMPERATUR...  41.894010 -87.625368   \n",
       "\n",
       "                                  Location  \n",
       "1  (41.96641308847062, -87.68693718914149)  \n",
       "3  (41.75148901882857, -87.57663364715819)  \n",
       "4  (41.89502331496054, -87.75783480830066)  \n",
       "6  (41.87146433662049, -87.62736908629603)  \n",
       "7  (41.89400968711272, -87.62536771830537)  "
      ]
     },
     "execution_count": 11,
     "metadata": {},
     "output_type": "execute_result"
    }
   ],
   "source": [
    "# we want to keep just the restaurants where we know the location, so we keep just the rows where location is not NaN:\n",
    "restaurants_df = restaurant_data[restaurant_data['Location'].notna()]\n",
    "restaurants_df.head()"
   ]
  },
  {
   "cell_type": "code",
   "execution_count": 12,
   "metadata": {},
   "outputs": [
    {
     "data": {
      "text/plain": [
       "60"
      ]
     },
     "execution_count": 12,
     "metadata": {},
     "output_type": "execute_result"
    }
   ],
   "source": [
    "#find out how many unique zip codes we have in our dataset:\n",
    "len(restaurants_df['Zip'].unique().tolist())"
   ]
  },
  {
   "cell_type": "code",
   "execution_count": 13,
   "metadata": {},
   "outputs": [
    {
     "data": {
      "text/plain": [
       "AKA Name            2479\n",
       "Risk                  73\n",
       "City                 150\n",
       "State                 48\n",
       "Zip                   50\n",
       "Inspection Type        1\n",
       "Violations         55325\n",
       "dtype: int64"
      ]
     },
     "execution_count": 13,
     "metadata": {},
     "output_type": "execute_result"
    }
   ],
   "source": [
    "#double-check there are no more null values in the \"location\" column\n",
    "null_columns=restaurants_df.columns[restaurants_df.isnull().any()]\n",
    "data[null_columns].isnull().sum()"
   ]
  },
  {
   "cell_type": "code",
   "execution_count": 14,
   "metadata": {},
   "outputs": [],
   "source": [
    "# Export the restaurants data into a csv. i've comment this out because I don't want to save the file multiple times on my machine\n",
    "#restaurants_df.to_csv(\"Restaurants.csv\")"
   ]
  },
  {
   "cell_type": "code",
   "execution_count": 15,
   "metadata": {},
   "outputs": [
    {
     "data": {
      "text/plain": [
       "9523"
      ]
     },
     "execution_count": 15,
     "metadata": {},
     "output_type": "execute_result"
    }
   ],
   "source": [
    "#look at how many unique restaurants, based on location\n",
    "len(restaurants_df['Location'].unique().tolist())"
   ]
  },
  {
   "cell_type": "code",
   "execution_count": 16,
   "metadata": {},
   "outputs": [],
   "source": [
    "# eliminate restaurants that are \"out of business\" or \"business not located\"\n",
    "clean_data = restaurants_df[(restaurants_df[\"Results\"] != \"Out of Business\") & (restaurants_df[\"Results\"] != \"Business Not Located\")]\n",
    "#Kynan isolate complaint inspections and canvas inspections\n",
    "complaint_data = clean_data[clean_data[\"Inspection Type\"]== \"Complaint\"]\n",
    "canvass_data = clean_data[clean_data[\"Inspection Type\"]== \"Canvass\"]\n"
   ]
  },
  {
   "cell_type": "code",
   "execution_count": 17,
   "metadata": {},
   "outputs": [
    {
     "data": {
      "text/plain": [
       "Pass                  6190\n",
       "Fail                  4580\n",
       "Pass w/ Conditions    3273\n",
       "No Entry               660\n",
       "Not Ready               12\n",
       "Name: Results, dtype: int64"
      ]
     },
     "execution_count": 17,
     "metadata": {},
     "output_type": "execute_result"
    }
   ],
   "source": [
    "#Kynan look at inspection pass fail rates by inspection type\n",
    "complaint_consequence = complaint_data[\"Results\"]\n",
    "canvass_consequence = canvass_data[\"Results\"]\n",
    "complaint_consequence.value_counts()\n",
    "com_consequences = [\"Pass\", \"Fail\", \"Pass w/Conditions\", \"No Entry\", \" \"]\n",
    "canvass_consequence.value_counts()\n",
    "can_consequences = [\"Pass\", \"Pass w/Conditions\",  \"Fail\",\"No Entry\", \" \"]\n",
    "complaint_consequence.value_counts()"
   ]
  },
  {
   "cell_type": "code",
   "execution_count": 18,
   "metadata": {},
   "outputs": [
    {
     "data": {
      "image/png": "[encoded data removed]",
      "text/plain": [
       "<Figure size 432x288 with 1 Axes>"
      ]
     },
     "metadata": {},
     "output_type": "display_data"
    }
   ],
   "source": [
    "#Kynan visualize Inspection results for Canvass Inspections\n",
    "colors_can = [\"green\", \"Chartreuse\", \"red\", \"darkgrey\", \"white\"]\n",
    "explode = (0.1,0,0,0,0)\n",
    "plt.pie(canvass_consequence.value_counts(), labels = can_consequences, autopct=\"%1.1f%%\", colors = colors_can, explode = explode)\n",
    "plt.title(\"64,992 Canvass Inspection Results\")\n",
    "plt.savefig(\"Canvass Inspection Results\")\n"
   ]
  },
  {
   "cell_type": "code",
   "execution_count": 19,
   "metadata": {},
   "outputs": [
    {
     "data": {
      "image/png": "[encoded data removed]",
      "text/plain": [
       "<Figure size 432x288 with 1 Axes>"
      ]
     },
     "metadata": {},
     "output_type": "display_data"
    }
   ],
   "source": [
    "#Kynan visualize inspection results for \n",
    "colors_com = [\"green\", \"red\",\"Chartreuse\", \"grey\", \"black\"]\n",
    "explode = (0,0.1,0,0,0)\n",
    "plt.pie(complaint_consequence.value_counts(), labels = com_consequences, autopct=\"%1.1f%%\", colors = colors_com, explode = explode)\n",
    "plt.title(\"14,715 Complaint Inspection Results\")\n",
    "plt.savefig(\"Complaint Inspection Results\")"
   ]
  },
  {
   "cell_type": "code",
   "execution_count": null,
   "metadata": {},
   "outputs": [],
   "source": [
    "\n"
   ]
  },
  {
   "cell_type": "code",
   "execution_count": 20,
   "metadata": {},
   "outputs": [],
   "source": [
    "#Kynan look at complaint and canvas inspections by zip code\n",
    "complaint_zip_count = complaint_data[\"Zip\"].value_counts()\n",
    "canvass_zip_count = canvass_data[\"Zip\"].value_counts()\n",
    "complaint_zip_count = complaint_zip_count.sort_index()\n",
    "canvass_zip_count = canvass_zip_count.sort_index()"
   ]
  },
  {
   "cell_type": "code",
   "execution_count": null,
   "metadata": {},
   "outputs": [],
   "source": []
  },
  {
   "cell_type": "code",
   "execution_count": 21,
   "metadata": {},
   "outputs": [],
   "source": [
    "# Kynan create variables for total canvass inspections and total complaint inspections\n",
    "canvass_sum = canvass_zip_count.sum()\n",
    "complaint_sum = complaint_zip_count.sum()\n",
    "\n",
    "\n"
   ]
  },
  {
   "cell_type": "code",
   "execution_count": 22,
   "metadata": {},
   "outputs": [],
   "source": [
    "#Kynan calculate relative distribution of canvas and complaint based inspections per zip code\n",
    "complaint_percent = []\n",
    "canvass_percent = []\n",
    "for complaint in complaint_zip_count:\n",
    "    complaint_percent.append((complaint/complaint_sum)*100)\n",
    "\n",
    "for canvass in canvass_zip_count:\n",
    "    canvass_percent.append(canvass/canvass_sum*100)\n",
    "\n",
    "# add null value to complaint percent\n",
    "complaint_percent.append(0)\n",
    "# format to percent \n",
    "#complaint_percent = ['{:.2f}%'.format(elem) for elem in complaint_percent]\n",
    "#canvass_percent =  ['{:.2f}%'.format(elem) for elem in canvass_percent]\n",
    "#canvass_percent = canvass_percent.astype(float)\n",
    "#round complaint zip count\n",
    "#complaint_zip_count = ['{:f}'.format(elem) for elem in complaint_zip_count]\n",
    "\n",
    "\n"
   ]
  },
  {
   "cell_type": "code",
   "execution_count": 23,
   "metadata": {},
   "outputs": [],
   "source": [
    "#Kynan combine complaint and canvass data into new df add zip code as int\n",
    "relative_inspection_types = pd.DataFrame({\"Canvass Raw\": canvass_zip_count, \"Complaint Raw\": complaint_zip_count, \n",
    "                                          \"Canvass Percent\": canvass_percent,\n",
    "                                          \"Complaint Percent\": complaint_percent})\n",
    "zips = relative_inspection_types.index\n",
    "zips.astype(int)\n",
    "\n",
    "relative_inspection_types[\"Zip\"] = zips"
   ]
  },
  {
   "cell_type": "raw",
   "metadata": {},
   "source": []
  },
  {
   "cell_type": "code",
   "execution_count": 24,
   "metadata": {},
   "outputs": [],
   "source": [
    "# Kynan calculate which zip codes get a disproportional share of complaint based inspections by calculating an expected number of complaints\n",
    "relative_inspection_types[\"Expected Complaints\"] = round(relative_inspection_types[\"Canvass Percent\"]/100 * complaint_sum)\n",
    "relative_inspection_types[\"Complaint Index\"] = relative_inspection_types[\"Complaint Raw\"]/relative_inspection_types[\"Expected Complaints\"]*100"
   ]
  },
  {
   "cell_type": "code",
   "execution_count": 25,
   "metadata": {},
   "outputs": [],
   "source": [
    "#Kynan add the differnece to df\n",
    "relative_inspection_types = relative_inspection_types.sort_values([\"Complaint Index\"])\n"
   ]
  },
  {
   "cell_type": "code",
   "execution_count": 26,
   "metadata": {},
   "outputs": [
    {
     "data": {
      "text/plain": [
       "75.62374846937608"
      ]
     },
     "execution_count": 26,
     "metadata": {},
     "output_type": "execute_result"
    }
   ],
   "source": [
    "#Kynan calculate  chi square critical value \n",
    "import scipy.stats as stats\n",
    "chi_square = pd.DataFrame([relative_inspection_types[\"Complaint Raw\"], relative_inspection_types[\"Expected Complaints\"]]).T\n",
    "chi_square = chi_square.drop([60827.0], axis = 0)\n",
    "critical_value = stats.chi2.ppf(q = 0.95, df = 57)\n",
    "critical_value\n",
    "\n"
   ]
  },
  {
   "cell_type": "code",
   "execution_count": 27,
   "metadata": {},
   "outputs": [
    {
     "data": {
      "text/plain": [
       "Power_divergenceResult(statistic=4556.242367484178, pvalue=0.0)"
      ]
     },
     "execution_count": 27,
     "metadata": {},
     "output_type": "execute_result"
    }
   ],
   "source": [
    "#Kynan calcualte chi square value\n",
    "stats.chisquare(chi_square['Complaint Raw'], chi_square['Expected Complaints'])\n"
   ]
  },
  {
   "cell_type": "code",
   "execution_count": 28,
   "metadata": {},
   "outputs": [
    {
     "name": "stdout",
     "output_type": "stream",
     "text": [
      "Since the chi square value of 3615 is larger than the critical value of 75, we conclude the results are statistically significant\n"
     ]
    }
   ],
   "source": [
    "print(\"Since the chi square value of 3615 is larger than the critical value of 75, we conclude the results are statistically significant\")"
   ]
  },
  {
   "cell_type": "code",
   "execution_count": 29,
   "metadata": {},
   "outputs": [],
   "source": [
    "#Kynan isolate and visualize the zips that have the most relative complaints\n",
    "too_many_complaints = relative_inspection_types.iloc[54:59, :]\n",
    "#x_axis = ([\"Kenwood\",\"Roseland\",\"South Shore\", \"Auburn Gresham\", \"Chatham\"])\n",
    "#plt.bar(x_axis, too_many_complaints[\"Complaint Index\"])\n",
    "\n"
   ]
  },
  {
   "cell_type": "code",
   "execution_count": 30,
   "metadata": {},
   "outputs": [],
   "source": [
    "# Kynan add income and lat/long data\n",
    "inspection_demo = pd.merge(relative_inspection_types, demo_request, on = \"Zip\")"
   ]
  },
  {
   "cell_type": "code",
   "execution_count": 31,
   "metadata": {},
   "outputs": [
    {
     "data": {
      "text/plain": [
       "54"
      ]
     },
     "execution_count": 31,
     "metadata": {},
     "output_type": "execute_result"
    }
   ],
   "source": [
    "len(inspection_demo)"
   ]
  },
  {
   "cell_type": "code",
   "execution_count": 32,
   "metadata": {},
   "outputs": [
    {
     "data": {
      "text/plain": [
       "Canvass Raw              int64\n",
       "Complaint Raw          float64\n",
       "Canvass Percent        float64\n",
       "Complaint Percent      float64\n",
       "Zip                    float64\n",
       "Expected Complaints    float64\n",
       "Complaint Index        float64\n",
       "Location                object\n",
       "Population             float64\n",
       "Income                 float64\n",
       "dtype: object"
      ]
     },
     "execution_count": 32,
     "metadata": {},
     "output_type": "execute_result"
    }
   ],
   "source": [
    "#kynan convert income to float\n",
    "\n",
    "inspection_demo.dtypes"
   ]
  },
  {
   "cell_type": "code",
   "execution_count": 33,
   "metadata": {},
   "outputs": [
    {
     "data": {
      "text/html": [
       "<div>\n",
       "<style scoped>\n",
       "    .dataframe tbody tr th:only-of-type {\n",
       "        vertical-align: middle;\n",
       "    }\n",
       "\n",
       "    .dataframe tbody tr th {\n",
       "        vertical-align: top;\n",
       "    }\n",
       "\n",
       "    .dataframe thead th {\n",
       "        text-align: right;\n",
       "    }\n",
       "</style>\n",
       "<table border=\"1\" class=\"dataframe\">\n",
       "  <thead>\n",
       "    <tr style=\"text-align: right;\">\n",
       "      <th></th>\n",
       "      <th>Canvass Raw</th>\n",
       "      <th>Complaint Raw</th>\n",
       "      <th>Canvass Percent</th>\n",
       "      <th>Complaint Percent</th>\n",
       "      <th>Zip</th>\n",
       "      <th>Expected Complaints</th>\n",
       "      <th>Complaint Index</th>\n",
       "      <th>Location</th>\n",
       "      <th>Population</th>\n",
       "      <th>Income</th>\n",
       "    </tr>\n",
       "  </thead>\n",
       "  <tbody>\n",
       "    <tr>\n",
       "      <th>0</th>\n",
       "      <td>597</td>\n",
       "      <td>68.0</td>\n",
       "      <td>0.918659</td>\n",
       "      <td>0.462145</td>\n",
       "      <td>60646.0</td>\n",
       "      <td>135.0</td>\n",
       "      <td>50.370370</td>\n",
       "      <td>41.992931, -87.760278</td>\n",
       "      <td>27016.0</td>\n",
       "      <td>58232.0</td>\n",
       "    </tr>\n",
       "    <tr>\n",
       "      <th>1</th>\n",
       "      <td>542</td>\n",
       "      <td>62.0</td>\n",
       "      <td>0.834026</td>\n",
       "      <td>0.421367</td>\n",
       "      <td>60631.0</td>\n",
       "      <td>123.0</td>\n",
       "      <td>50.406504</td>\n",
       "      <td>41.994948, -87.813225</td>\n",
       "      <td>28832.0</td>\n",
       "      <td>55316.0</td>\n",
       "    </tr>\n",
       "    <tr>\n",
       "      <th>2</th>\n",
       "      <td>1768</td>\n",
       "      <td>202.0</td>\n",
       "      <td>2.720586</td>\n",
       "      <td>1.372842</td>\n",
       "      <td>60606.0</td>\n",
       "      <td>400.0</td>\n",
       "      <td>50.500000</td>\n",
       "      <td>41.881988, -87.637329</td>\n",
       "      <td>NaN</td>\n",
       "      <td>100377.0</td>\n",
       "    </tr>\n",
       "    <tr>\n",
       "      <th>3</th>\n",
       "      <td>1536</td>\n",
       "      <td>205.0</td>\n",
       "      <td>2.363586</td>\n",
       "      <td>1.393231</td>\n",
       "      <td>60634.0</td>\n",
       "      <td>348.0</td>\n",
       "      <td>58.908046</td>\n",
       "      <td>41.946189, -87.806117</td>\n",
       "      <td>74164.0</td>\n",
       "      <td>50042.0</td>\n",
       "    </tr>\n",
       "    <tr>\n",
       "      <th>4</th>\n",
       "      <td>296</td>\n",
       "      <td>42.0</td>\n",
       "      <td>0.455483</td>\n",
       "      <td>0.285442</td>\n",
       "      <td>60655.0</td>\n",
       "      <td>67.0</td>\n",
       "      <td>62.686567</td>\n",
       "      <td>41.694722, -87.703687</td>\n",
       "      <td>29138.0</td>\n",
       "      <td>59849.0</td>\n",
       "    </tr>\n",
       "  </tbody>\n",
       "</table>\n",
       "</div>"
      ],
      "text/plain": [
       "   Canvass Raw  Complaint Raw  Canvass Percent  Complaint Percent      Zip  \\\n",
       "0          597           68.0         0.918659           0.462145  60646.0   \n",
       "1          542           62.0         0.834026           0.421367  60631.0   \n",
       "2         1768          202.0         2.720586           1.372842  60606.0   \n",
       "3         1536          205.0         2.363586           1.393231  60634.0   \n",
       "4          296           42.0         0.455483           0.285442  60655.0   \n",
       "\n",
       "   Expected Complaints  Complaint Index               Location  Population  \\\n",
       "0                135.0        50.370370  41.992931, -87.760278     27016.0   \n",
       "1                123.0        50.406504  41.994948, -87.813225     28832.0   \n",
       "2                400.0        50.500000  41.881988, -87.637329         NaN   \n",
       "3                348.0        58.908046  41.946189, -87.806117     74164.0   \n",
       "4                 67.0        62.686567  41.694722, -87.703687     29138.0   \n",
       "\n",
       "     Income  \n",
       "0   58232.0  \n",
       "1   55316.0  \n",
       "2  100377.0  \n",
       "3   50042.0  \n",
       "4   59849.0  "
      ]
     },
     "execution_count": 33,
     "metadata": {},
     "output_type": "execute_result"
    }
   ],
   "source": [
    "#Kynan review merged file.\n",
    "inspection_demo.head()"
   ]
  },
  {
   "cell_type": "code",
   "execution_count": 34,
   "metadata": {},
   "outputs": [
    {
     "data": {
      "text/plain": [
       "count        54.000000\n",
       "mean      41787.481481\n",
       "std       15768.665417\n",
       "min       14205.000000\n",
       "25%       31267.000000\n",
       "50%       40124.000000\n",
       "75%       50981.000000\n",
       "max      100377.000000\n",
       "Name: Income, dtype: float64"
      ]
     },
     "execution_count": 34,
     "metadata": {},
     "output_type": "execute_result"
    }
   ],
   "source": [
    "#Kynan look at quartiles by income\n",
    "inspection_demo[\"Income\"].describe()"
   ]
  },
  {
   "cell_type": "code",
   "execution_count": 35,
   "metadata": {},
   "outputs": [
    {
     "data": {
      "text/html": [
       "<div>\n",
       "<style scoped>\n",
       "    .dataframe tbody tr th:only-of-type {\n",
       "        vertical-align: middle;\n",
       "    }\n",
       "\n",
       "    .dataframe tbody tr th {\n",
       "        vertical-align: top;\n",
       "    }\n",
       "\n",
       "    .dataframe thead th {\n",
       "        text-align: right;\n",
       "    }\n",
       "</style>\n",
       "<table border=\"1\" class=\"dataframe\">\n",
       "  <thead>\n",
       "    <tr style=\"text-align: right;\">\n",
       "      <th></th>\n",
       "      <th>Canvass Raw</th>\n",
       "      <th>Complaint Raw</th>\n",
       "      <th>Canvass Percent</th>\n",
       "      <th>Complaint Percent</th>\n",
       "      <th>Zip</th>\n",
       "      <th>Expected Complaints</th>\n",
       "      <th>Complaint Index</th>\n",
       "      <th>Location</th>\n",
       "      <th>Population</th>\n",
       "      <th>Income</th>\n",
       "      <th>Quartile</th>\n",
       "    </tr>\n",
       "  </thead>\n",
       "  <tbody>\n",
       "    <tr>\n",
       "      <th>0</th>\n",
       "      <td>597</td>\n",
       "      <td>68.0</td>\n",
       "      <td>0.918659</td>\n",
       "      <td>0.462145</td>\n",
       "      <td>60646.0</td>\n",
       "      <td>135.0</td>\n",
       "      <td>50.370370</td>\n",
       "      <td>41.992931, -87.760278</td>\n",
       "      <td>27016.0</td>\n",
       "      <td>58232.0</td>\n",
       "      <td>$51K - $100K</td>\n",
       "    </tr>\n",
       "    <tr>\n",
       "      <th>1</th>\n",
       "      <td>542</td>\n",
       "      <td>62.0</td>\n",
       "      <td>0.834026</td>\n",
       "      <td>0.421367</td>\n",
       "      <td>60631.0</td>\n",
       "      <td>123.0</td>\n",
       "      <td>50.406504</td>\n",
       "      <td>41.994948, -87.813225</td>\n",
       "      <td>28832.0</td>\n",
       "      <td>55316.0</td>\n",
       "      <td>$51K - $100K</td>\n",
       "    </tr>\n",
       "    <tr>\n",
       "      <th>2</th>\n",
       "      <td>1768</td>\n",
       "      <td>202.0</td>\n",
       "      <td>2.720586</td>\n",
       "      <td>1.372842</td>\n",
       "      <td>60606.0</td>\n",
       "      <td>400.0</td>\n",
       "      <td>50.500000</td>\n",
       "      <td>41.881988, -87.637329</td>\n",
       "      <td>NaN</td>\n",
       "      <td>100377.0</td>\n",
       "      <td>$51K - $100K</td>\n",
       "    </tr>\n",
       "  </tbody>\n",
       "</table>\n",
       "</div>"
      ],
      "text/plain": [
       "   Canvass Raw  Complaint Raw  Canvass Percent  Complaint Percent      Zip  \\\n",
       "0          597           68.0         0.918659           0.462145  60646.0   \n",
       "1          542           62.0         0.834026           0.421367  60631.0   \n",
       "2         1768          202.0         2.720586           1.372842  60606.0   \n",
       "\n",
       "   Expected Complaints  Complaint Index               Location  Population  \\\n",
       "0                135.0        50.370370  41.992931, -87.760278     27016.0   \n",
       "1                123.0        50.406504  41.994948, -87.813225     28832.0   \n",
       "2                400.0        50.500000  41.881988, -87.637329         NaN   \n",
       "\n",
       "     Income      Quartile  \n",
       "0   58232.0  $51K - $100K  \n",
       "1   55316.0  $51K - $100K  \n",
       "2  100377.0  $51K - $100K  "
      ]
     },
     "execution_count": 35,
     "metadata": {},
     "output_type": "execute_result"
    }
   ],
   "source": [
    "#Kynan create quartile bins based on income\n",
    "\n",
    "bin_labels = [\"$14K - $31K\", \"$31K - $40K\", \"$40K - $51K\", \"$51K - $100K\"]\n",
    "inspection_demo[\"Quartile\"] = pd.qcut(inspection_demo[\"Income\"], q=[0, .25, .5, .75, 1], labels = bin_labels)\n",
    "#Kynan take a peek at data \n",
    "inspection_demo.head(3)\n",
    "                  "
   ]
  },
  {
   "cell_type": "code",
   "execution_count": 36,
   "metadata": {},
   "outputs": [],
   "source": [
    "#Kynan create variables to build a visualization based on bins\n",
    "x_axis = np.arange(len(bin_labels))\n",
    "y_ax = inspection_demo.groupby(inspection_demo[\"Quartile\"])\n",
    "y_axis = round(y_ax[\"Complaint Raw\"].sum()/y_ax[\"Expected Complaints\"].sum()*100)\n",
    "\n"
   ]
  },
  {
   "cell_type": "code",
   "execution_count": 37,
   "metadata": {},
   "outputs": [
    {
     "data": {
      "image/png": "[encoded data removed]",
      "text/plain": [
       "<Figure size 432x288 with 1 Axes>"
      ]
     },
     "metadata": {
      "needs_background": "light"
     },
     "output_type": "display_data"
    }
   ],
   "source": [
    "#Kynan create bin bar chart\n",
    "plt.bar(x_axis, y_axis)\n",
    "tick_locations = [0, 1, 2, 3]\n",
    "plt.xticks(tick_locations, bin_labels)\n",
    "plt.title(\"Complaint Index vs. Median Household Income\")\n",
    "plt.xlabel(\"Chicago Household Income Quartiles\")\n",
    "plt.ylabel(\"Complaint Index\")\n",
    "plt.show\n",
    "plt.savefig(\"Income Quartiles vs. Complaint Index.png\")"
   ]
  },
  {
   "cell_type": "code",
   "execution_count": 38,
   "metadata": {},
   "outputs": [
    {
     "name": "stdout",
     "output_type": "stream",
     "text": [
      "The correlation between both factors is -0.53\n"
     ]
    },
    {
     "data": {
      "image/png": "[encoded data removed]",
      "text/plain": [
       "<Figure size 432x288 with 1 Axes>"
      ]
     },
     "metadata": {
      "needs_background": "light"
     },
     "output_type": "display_data"
    }
   ],
   "source": [
    "#Kynan Calculate and Visulize the correlation between restaurant complaint index and median household income per zip\n",
    "income = inspection_demo[\"Income\"]\n",
    "complaints = inspection_demo[\"Complaint Index\"]\n",
    "correlation = st.pearsonr(income, complaints)\n",
    "fig, ax = plt.subplots()\n",
    "ax.set_axisbelow(True)\n",
    "print(f\"The correlation between both factors is {round(correlation[0],2)}\")\n",
    "plt.scatter(income, complaints, marker = \"o\", s = 60)\n",
    "plt.ylim(40, 310)\n",
    "plt.xlim(10000, 110000)\n",
    "plt.ylabel(\"Complaint Index\")\n",
    "plt.xlabel(\"Median Household Income\")\n",
    "ax.minorticks_on()\n",
    "plt.grid(which='major', linestyle='-', linewidth='0.5', color='red')\n",
    "plt.grid(which='minor', linestyle=':', linewidth='0.5', color='black')\n",
    "plt.title(\"Chicago Restaurant Complaints and Household Income by Zip\")\n",
    "plt.savefig(\"Income vs. Complaints.png\")"
   ]
  },
  {
   "cell_type": "code",
   "execution_count": 39,
   "metadata": {},
   "outputs": [],
   "source": [
    "# kynan prepate to look at variance for each quartile using standard deviation and box wisker plots\n",
    "\n",
    "q1= inspection_demo.loc[inspection_demo[\"Quartile\"]== \"$14K - $31K\", \"Complaint Index\"]\n",
    "q2= inspection_demo.loc[inspection_demo[\"Quartile\"]== \"$31K - $40K\", \"Complaint Index\"]\n",
    "q3 = inspection_demo.loc[inspection_demo[\"Quartile\"]== \"$40K - $51K\", \"Complaint Index\"]\n",
    "q4=  inspection_demo.loc[inspection_demo[\"Quartile\"]== \"$51K - $100K\", \"Complaint Index\"]\n",
    "quarts = [q1, q2, q3, q4]\n"
   ]
  },
  {
   "cell_type": "code",
   "execution_count": 40,
   "metadata": {},
   "outputs": [
    {
     "name": "stdout",
     "output_type": "stream",
     "text": [
      "the $14K -$31K standard deviation is 95\n",
      "the $31K - $40K standard deviation is 104\n",
      "the $40K - $51K standard deviation is 23\n",
      "the $51K - $100K standard deviation is 20\n"
     ]
    },
    {
     "data": {
      "image/png": "[encoded data removed]",
      "text/plain": [
       "<Figure size 432x288 with 1 Axes>"
      ]
     },
     "metadata": {
      "needs_background": "light"
     },
     "output_type": "display_data"
    }
   ],
   "source": [
    "# kynan look at variance for each quartile using standard deviation and box wisker plots\n",
    "fig1, ax1 = plt.subplots()\n",
    "ax1.set_title(f'Restaurant Complaint Index')\n",
    "ax1.set_ylabel('Complaint Index')\n",
    "ax1.set_xlabel(\"Income Quartiles\")\n",
    "ax1.set_xticklabels(bin_labels)\n",
    "ax1.boxplot(quarts)\n",
    "print(f'the $14K -$31K standard deviation is {round(q1.std())}')\n",
    "print(f'the $31K - $40K standard deviation is {round(q2.std())}')\n",
    "print(f'the $40K - $51K standard deviation is {round(q3.std())}')\n",
    "print(f'the $51K - $100K standard deviation is {round(q4.std())}')\n",
    "plt.show()\n",
    "fig1.savefig(\"Income Quartiles and Complaint Index Variance.png\")"
   ]
  },
  {
   "cell_type": "code",
   "execution_count": 41,
   "metadata": {},
   "outputs": [],
   "source": [
    "#Kynan prep df for gmap visulaiztion by splitting Location columns and converting data to float\n",
    "inspection_demo[[\"Lat\",\"Lng\"]] = inspection_demo.Location.str.split(\",\", expand = True,)\n",
    "gmap_location= inspection_demo[[\"Lat\", \"Lng\"]].astype(float)\n"
   ]
  },
  {
   "cell_type": "code",
   "execution_count": 42,
   "metadata": {},
   "outputs": [
    {
     "data": {
      "application/vnd.jupyter.widget-view+json": {
       "model_id": "d2ce2ae89fd846d58b00ba620ecf77a9",
       "version_major": 2,
       "version_minor": 0
      },
      "text/plain": [
       "Figure(layout=FigureLayout(height='420px'))"
      ]
     },
     "metadata": {},
     "output_type": "display_data"
    }
   ],
   "source": [
    "#create map to visualize complaint index by zip\n",
    "import gmaps\n",
    "import os\n",
    "from api_key import g_key\n",
    "\n",
    "locations = gmap_location\n",
    "weights = inspection_demo[\"Complaint Index\"]\n",
    "center = (41.88, -87.63)\n",
    "markers = locations\n",
    "gmaps.configure(api_key = g_key)\n",
    "\n",
    "fig = gmaps.figure(center = center, zoom_level = 10)\n",
    "fig.add_layer(gmaps.heatmap_layer(locations, weights = weights, dissipating=False, max_intensity=275, point_radius = .03))\n",
    "fig\n"
   ]
  },
  {
   "cell_type": "code",
   "execution_count": 43,
   "metadata": {},
   "outputs": [],
   "source": [
    "#isolate zip codes from the lowest two income quartiles \n",
    "fourth = inspection_demo[~inspection_demo[\"Quartile\"].isin([\"$51K - $100K\", \"$40K - $51K\"])]\n",
    "fourth_location = fourth[[\"Lat\", \"Lng\"]].astype(float)\n",
    "decimals = 2    \n",
    "\n",
    "fourth = fourth.round({\"Complaint Index\": 0})\n"
   ]
  },
  {
   "cell_type": "code",
   "execution_count": 44,
   "metadata": {},
   "outputs": [
    {
     "data": {
      "application/vnd.jupyter.widget-view+json": {
       "model_id": "b0a3ba9f3ba04dab97b63d6fa79a35d8",
       "version_major": 2,
       "version_minor": 0
      },
      "text/plain": [
       "Figure(layout=FigureLayout(height='420px'))"
      ]
     },
     "metadata": {},
     "output_type": "display_data"
    }
   ],
   "source": [
    "#add markers from lowest two income level zips to map\n",
    "info_box_template = \"\"\"\n",
    "<dl>\n",
    "<dt>Zip</dt><dd>{Zip}</dd>\n",
    "<dt>ci</dt><dd>{Complaint Index}</dd>\n",
    "</dl>\n",
    "\"\"\"\n",
    "locations = fourth_location\n",
    "weights = fourth[\"Complaint Index\"]\n",
    "center = (41.88, -87.63)\n",
    "zip_info = [info_box_template.format(**row) for index, row in fourth.iterrows()]\n",
    "marker_layer = gmaps.marker_layer(fourth_location, info_box_content = zip_info)\n",
    "\n",
    "gmaps.configure(api_key = g_key)\n",
    "\n",
    "fig = gmaps.figure(center = center, zoom_level = 11)\n",
    "fig.add_layer(gmaps.heatmap_layer(locations, weights = weights, dissipating=False, max_intensity=275, point_radius = .03))\n",
    "fig.add_layer(marker_layer)\n",
    "fig\n"
   ]
  },
  {
   "cell_type": "code",
   "execution_count": 74,
   "metadata": {},
   "outputs": [
    {
     "name": "stdout",
     "output_type": "stream",
     "text": [
      "the correlation between non-english speaking lower income communities and complaints is -0.68\n"
     ]
    },
    {
     "data": {
      "image/png": "[encoded data removed]",
      "text/plain": [
       "<Figure size 432x288 with 1 Axes>"
      ]
     },
     "metadata": {
      "needs_background": "light"
     },
     "output_type": "display_data"
    }
   ],
   "source": [
    "#look at relationship between lanugage and complaints by importing census data\n",
    "lan_path = \"census_language.csv\"\n",
    "lan_request = pd.read_csv(lan_path)\n",
    "\n",
    "lan_demo = pd.merge(fourth, lan_request, on = \"Zip\")\n",
    "lan_demo.head()\n",
    "language = lan_demo[\"Non English Speaking %\"].astype(float) * 100\n",
    "index = lan_demo[\"Complaint Index\"]\n",
    "\n",
    "#create a scatter plot and calcualte correlation\n",
    "lan_factor_cor= st.pearsonr(language, index)\n",
    "print(f'the correlation between non-english speaking lower income communities and complaints is {round(lan_factor_cor[0],2)}')\n",
    "plt.scatter(language, index, marker = \"o\", s = 60)\n",
    "plt.xlabel(\"Percent Non-English Speaking Households\")\n",
    "plt.ylabel(\"Complaint Index\")\n",
    "plt.title(\"Household Language and Complaint Index\")\n",
    "plt.xlim(-5, 45, 5)\n",
    "ax.minorticks_on()\n",
    "plt.grid(which='major', linestyle='-', linewidth='0.5', color='red')\n",
    "plt.grid(which='minor', linestyle=':', linewidth='0.5', color='black')\n",
    "plt.savefig(\"Language vs. Complaints.png\")"
   ]
  },
  {
   "cell_type": "code",
   "execution_count": 49,
   "metadata": {},
   "outputs": [
    {
     "data": {
      "text/plain": [
       "43    60644.0\n",
       "44    60615.0\n",
       "45    60651.0\n",
       "46    60624.0\n",
       "47    60653.0\n",
       "48    60628.0\n",
       "49    60620.0\n",
       "50    60636.0\n",
       "51    60649.0\n",
       "52    60621.0\n",
       "53    60619.0\n",
       "Name: Zip, dtype: float64"
      ]
     },
     "execution_count": 49,
     "metadata": {},
     "output_type": "execute_result"
    }
   ],
   "source": [
    "# Kynan Sort Data to look at restaurnt types\n",
    "ho = fourth[\"Complaint Index\"] < 200\n",
    "hot = fourth.drop(fourth.index[ho])\n",
    "co = fourth[\"Complaint Index\"] > 100\n",
    "cool = fourth.drop(fourth.index[co])\n",
    "\n",
    "cool_zip = cool[\"Zip\"].astype(int)\n",
    "\n",
    "kynan = 60604 | 60625 | 60623 | 60660 | 60626 | 60632 | 60647\n",
    "#coolio = complaint_data[\"Zip\"].loc[60604.0]\n",
    "#list_= []\n",
    "#for row in complaint_data:\n",
    "    #if complaint_data[\"Zip\"] = cool_zip:\n",
    "        #list_.append(complaint_data[\"DBA Name\"])\n",
    "hot[\"Zip\"]"
   ]
  },
  {
   "cell_type": "code",
   "execution_count": 50,
   "metadata": {},
   "outputs": [
    {
     "data": {
      "text/plain": [
       "MCDONALD'S #4305    9\n",
       "YUMMY BUFFET        7\n",
       "DUNKIN DONUTS       7\n",
       "FORK                6\n",
       "GARCIA'S INC        6\n",
       "Name: DBA Name, dtype: int64"
      ]
     },
     "execution_count": 50,
     "metadata": {},
     "output_type": "execute_result"
    }
   ],
   "source": [
    "#look at which restaurants are getting the most complaints \n",
    "fiver = [60636, 60649, 60621, 60619, 60627]\n",
    "#bot_ = complaint_data[\"Zip\"] != fiver\n",
    "bott_ = complaint_data[\"Zip\"] != 60604\n",
    "botto_ = complaint_data[\"Zip\"] != 60625\n",
    "bottom_ = complaint_data[\"Zip\"] != 60623\n",
    "\n",
    "#60649, 60621, 60619, 60627\n",
    "#bot_five[bot_five.index]\n",
    "#drop = bot_five.index\n",
    "#drop\n",
    "#bot_complaint_data = complaint_data.drop(complaint_data.index[bot_])\n",
    "bott_complaint_data = complaint_data.drop(complaint_data.index[bott_])\n",
    "botto_complaint_data = complaint_data.drop(complaint_data.index[botto_])\n",
    "bottom_complaint_data = complaint_data.drop(complaint_data.index[bottom_])\n",
    "#bot_complaint_data\n",
    "#bot_complaint_data[\"DBA Name\"].value_counts()\n",
    "botto_complaint_data[\"DBA Name\"].value_counts().head()"
   ]
  },
  {
   "cell_type": "code",
   "execution_count": null,
   "metadata": {},
   "outputs": [],
   "source": [
    "(#Kynancalculate zip codes where complaints inspections are greater than canvass\n",
    "#x_axis = np.arange(len(relative_inspection_types))\n",
    "#plt.bar(x_axis, relative_inspection_types['Canvass Percent'])\n",
    "#tick_locations = [value for value in x_axis]\n",
    "#plt.xticks(zips.all(), rotation = 'vertical')\n",
    "#plt.yticks(np.arange(0, ,0.5),[\"0\", \".5%\", \"1\", \"1.5%\", \"2%\", \"2.5%\", \"3%\", \"3.5%\", \"4%\", \"4.5%\"])\n",
    "#plt\n",
    "#plt.ylim(0,5)\n",
    "#plt.show)"
   ]
  },
  {
   "cell_type": "code",
   "execution_count": null,
   "metadata": {},
   "outputs": [],
   "source": [
    "#find out how many unique restaurant locations we have in our dataset:\n",
    "len(clean_data['Location'].unique().tolist())"
   ]
  },
  {
   "cell_type": "code",
   "execution_count": null,
   "metadata": {},
   "outputs": [],
   "source": [
    "# Generate a bar plot showing the total number of restaurants for each Risk category \n",
    "\n",
    "#First, we use groupby \"risk category\" and count location to determine the data points\n",
    "risk_data_points = clean_data.groupby([\"Risk\"]).count()[\"Location\"]\n",
    "risk_data_points\n",
    "\n",
    "#Second, we plot the points\n",
    "risk_data_points.plot(kind=\"bar\", color=\"mediumvioletred\", figsize=(12,7))\n",
    "\n",
    "#Last, we set chart title and axis labels\n",
    "plt.title(\"Total number of restaurants per Risk category\")\n",
    "plt.xlabel(\"Risk category\")\n",
    "plt.ylabel(\"Number of restaurants\")\n",
    "\n",
    "#show chart and set layout\n",
    "plt.show()\n",
    "plt.tight_layout()"
   ]
  },
  {
   "cell_type": "code",
   "execution_count": null,
   "metadata": {},
   "outputs": [],
   "source": [
    "#We can see that most restaurants are at high risk. We can also confirm this from the data:\n",
    "clean_data['Risk'].value_counts()"
   ]
  },
  {
   "cell_type": "code",
   "execution_count": null,
   "metadata": {},
   "outputs": [],
   "source": [
    "#Next, we look at the results of the inspections\n",
    "\n",
    "#First, we use groupby \"Results\" and count location to determine the data points\n",
    "risk_data_points = clean_data.groupby([\"Results\"]).count()[\"Location\"]\n",
    "risk_data_points\n",
    "\n",
    "#Second, we plot the points\n",
    "risk_data_points.plot(kind=\"bar\", color=\"dodgerblue\", figsize=(12,7))\n",
    "\n",
    "#Last, we set chart title and axis labels\n",
    "plt.title(\"Results of the inspection\")\n",
    "plt.xlabel(\"Results\")\n",
    "plt.ylabel(\"Location\")\n",
    "\n",
    "#show chart and set layout\n",
    "plt.show()\n",
    "plt.tight_layout()"
   ]
  },
  {
   "cell_type": "code",
   "execution_count": null,
   "metadata": {},
   "outputs": [],
   "source": [
    "#confirm from the data:\n",
    "clean_data['Results'].value_counts()"
   ]
  },
  {
   "cell_type": "code",
   "execution_count": null,
   "metadata": {},
   "outputs": [],
   "source": []
  },
  {
   "cell_type": "code",
   "execution_count": null,
   "metadata": {},
   "outputs": [],
   "source": []
  },
  {
   "cell_type": "code",
   "execution_count": null,
   "metadata": {},
   "outputs": [],
   "source": []
  }
 ],
 "metadata": {
  "kernelspec": {
   "display_name": "Python 3",
   "language": "python",
   "name": "python3"
  },
  "language_info": {
   "codemirror_mode": {
    "name": "ipython",
    "version": 3
   },
   "file_extension": ".py",
   "mimetype": "text/x-python",
   "name": "python",
   "nbconvert_exporter": "python",
   "pygments_lexer": "ipython3",
   "version": "3.7.6"
  }
 },
 "nbformat": 4,
 "nbformat_minor": 4
}
