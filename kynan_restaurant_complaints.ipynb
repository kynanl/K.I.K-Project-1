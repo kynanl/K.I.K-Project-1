{
 "cells": [
  {
   "cell_type": "code",
   "execution_count": 1,
   "metadata": {},
   "outputs": [],
   "source": [
    "import matplotlib.pyplot as plt\n",
    "import numpy as np\n",
    "import pandas as pd\n",
    "import scipy.stats as st\n",
    "from scipy.stats import linregress\n"
   ]
  },
  {
   "cell_type": "code",
   "execution_count": 2,
   "metadata": {},
   "outputs": [],
   "source": [
    "#import csv file\n",
    "# kynan add dempgraphic file\n",
    "data_path2 = \"Food_Inspections.csv\"\n",
    "request_data2 =pd.read_csv(data_path2)\n",
    "demo_path = \"Demographics.csv\"\n",
    "demo_request = pd.read_csv(demo_path)"
   ]
  },
  {
   "cell_type": "code",
   "execution_count": 3,
   "metadata": {},
   "outputs": [],
   "source": [
    "# Kynan rename df to align with Ioana's code\n",
    "data = request_data2 "
   ]
  },
  {
   "cell_type": "code",
   "execution_count": null,
   "metadata": {},
   "outputs": [],
   "source": []
  },
  {
   "cell_type": "code",
   "execution_count": 4,
   "metadata": {},
   "outputs": [
    {
     "name": "stdout",
     "output_type": "stream",
     "text": [
      "(208254, 17)\n"
     ]
    }
   ],
   "source": [
    "#look at the number or rows and columns in the dataset\n",
    "print(data.shape)"
   ]
  },
  {
   "cell_type": "code",
   "execution_count": null,
   "metadata": {},
   "outputs": [],
   "source": []
  },
  {
   "cell_type": "code",
   "execution_count": 5,
   "metadata": {},
   "outputs": [
    {
     "data": {
      "text/plain": [
       "True"
      ]
     },
     "execution_count": 5,
     "metadata": {},
     "output_type": "execute_result"
    }
   ],
   "source": [
    "#check if there are any null values\n",
    "data.isnull().values.any()"
   ]
  },
  {
   "cell_type": "code",
   "execution_count": 6,
   "metadata": {},
   "outputs": [
    {
     "data": {
      "text/plain": [
       "AKA Name            2479\n",
       "License #             17\n",
       "Facility Type       4861\n",
       "Risk                  73\n",
       "City                 150\n",
       "State                 48\n",
       "Zip                   50\n",
       "Inspection Type        1\n",
       "Violations         55325\n",
       "Latitude             688\n",
       "Longitude            688\n",
       "Location             688\n",
       "dtype: int64"
      ]
     },
     "execution_count": 6,
     "metadata": {},
     "output_type": "execute_result"
    }
   ],
   "source": [
    "#view all the columns that have null values\n",
    "null_columns=data.columns[data.isnull().any()]\n",
    "data[null_columns].isnull().sum()"
   ]
  },
  {
   "cell_type": "code",
   "execution_count": 7,
   "metadata": {},
   "outputs": [
    {
     "name": "stdout",
     "output_type": "stream",
     "text": [
      "                               AKA Name  License #  \\\n",
      "4483               ST. DEMETRIOS CHURCH        NaN   \n",
      "4641               ST. DEMETRIOS CHURCH        NaN   \n",
      "34562   GOD'S BATTLE AXE PRAYER ACADEMY        NaN   \n",
      "45604              ST. DEMETRIOS CHURCH        NaN   \n",
      "60700          OLD ST. PATRICK'S CHURCH        NaN   \n",
      "94116          OLD ST. PATRICK'S CHURCH        NaN   \n",
      "96001              ST. DEMETRIOS CHURCH        NaN   \n",
      "96068                               NaN        NaN   \n",
      "99050   GOD'S BATTLE AXE PRAYER ACADEMY        NaN   \n",
      "114901                              NaN        NaN   \n",
      "122683             ST. DEMETRIOS CHURCH        NaN   \n",
      "124533             ST. DEMETRIOS CHURCH        NaN   \n",
      "132290             ST. DEMETRIOS CHURCH        NaN   \n",
      "184529             ST. DEMETRIOS CHURCH        NaN   \n",
      "194554             ST. DEMETRIOS CHURCH        NaN   \n",
      "196808  GOD'S BATTLE AXE PRAYER ACADEMY        NaN   \n",
      "196948                  ARGENTINA FOODS        NaN   \n",
      "\n",
      "                      Facility Type             Risk     City State      Zip  \\\n",
      "4483                  Special Event  Risk 2 (Medium)  CHICAGO    IL  60625.0   \n",
      "4641                  Special Event  Risk 2 (Medium)  CHICAGO    IL  60625.0   \n",
      "34562               CHURCH/DAY CARE    Risk 1 (High)  CHICAGO    IL  60645.0   \n",
      "45604                 Special Event  Risk 2 (Medium)  CHICAGO    IL  60625.0   \n",
      "60700                        Church  Risk 2 (Medium)  CHICAGO    IL  60661.0   \n",
      "94116                        Church  Risk 2 (Medium)  CHICAGO    IL  60661.0   \n",
      "96001                 Special Event  Risk 2 (Medium)  CHICAGO    IL  60625.0   \n",
      "96068   CHURCH/AFTER SCHOOL PROGRAM    Risk 1 (High)  CHICAGO    IL  60619.0   \n",
      "99050               CHURCH/DAY CARE    Risk 1 (High)  CHICAGO    IL  60645.0   \n",
      "114901                Special Event    Risk 1 (High)  CHICAGO    IL  60625.0   \n",
      "122683                Special Event  Risk 2 (Medium)  CHICAGO    IL  60625.0   \n",
      "124533                Special Event  Risk 2 (Medium)  CHICAGO    IL  60625.0   \n",
      "132290                Special Event  Risk 2 (Medium)  CHICAGO    IL  60625.0   \n",
      "184529                Special Event  Risk 2 (Medium)  CHICAGO    IL  60625.0   \n",
      "194554                Special Event  Risk 2 (Medium)  CHICAGO    IL  60625.0   \n",
      "196808              CHURCH/DAY CARE    Risk 1 (High)  CHICAGO    IL  60645.0   \n",
      "196948                Grocery Store  Risk 2 (Medium)  CHICAGO    IL  60609.0   \n",
      "\n",
      "                   Inspection Type  \\\n",
      "4483                       Canvass   \n",
      "4641                       Canvass   \n",
      "34562        Canvass Re-Inspection   \n",
      "45604                      Canvass   \n",
      "60700   Special Events (Festivals)   \n",
      "94116   Special Events (Festivals)   \n",
      "96001                      Canvass   \n",
      "96068         Short Form Complaint   \n",
      "99050        Canvass Re-Inspection   \n",
      "114901  Special Events (Festivals)   \n",
      "122683                     Canvass   \n",
      "124533                     Canvass   \n",
      "132290                     Canvass   \n",
      "184529                     Canvass   \n",
      "194554                     Canvass   \n",
      "196808                     Canvass   \n",
      "196948                     Canvass   \n",
      "\n",
      "                                               Violations   Latitude  \\\n",
      "4483    32. FOOD AND NON-FOOD CONTACT SURFACES PROPERL...  41.974653   \n",
      "4641                                                  NaN  41.974653   \n",
      "34562                                                 NaN  42.008303   \n",
      "45604   33. FOOD AND NON-FOOD CONTACT EQUIPMENT UTENSI...  41.974653   \n",
      "60700   33. FOOD AND NON-FOOD CONTACT EQUIPMENT UTENSI...  41.879367   \n",
      "94116   34. FLOORS: CONSTRUCTED PER CODE, CLEANED, GOO...  41.879367   \n",
      "96001   38. VENTILATION: ROOMS AND EQUIPMENT VENTED AS...  41.974653   \n",
      "96068                                                 NaN  41.747711   \n",
      "99050   9. WATER SOURCE: SAFE, HOT & COLD UNDER CITY P...  42.008303   \n",
      "114901  32. FOOD AND NON-FOOD CONTACT SURFACES PROPERL...  41.974653   \n",
      "122683  32. FOOD AND NON-FOOD CONTACT SURFACES PROPERL...  41.974653   \n",
      "124533  32. FOOD AND NON-FOOD CONTACT SURFACES PROPERL...  41.974653   \n",
      "132290  33. FOOD AND NON-FOOD CONTACT EQUIPMENT UTENSI...  41.974653   \n",
      "184529  3. MANAGEMENT, FOOD EMPLOYEE AND CONDITIONAL E...  41.974653   \n",
      "194554                                                NaN  41.974653   \n",
      "196808  11. ADEQUATE NUMBER, CONVENIENT, ACCESSIBLE, D...  42.008303   \n",
      "196948                                                NaN  41.812105   \n",
      "\n",
      "        Longitude                                  Location  \n",
      "4483   -87.697529  (41.974653353169366, -87.69752945714046)  \n",
      "4641   -87.697529  (41.974653353169366, -87.69752945714046)  \n",
      "34562  -87.690005  (42.008303130687445, -87.69000508529592)  \n",
      "45604  -87.697529  (41.974653353169366, -87.69752945714046)  \n",
      "60700  -87.644105   (41.87936739625875, -87.64410546134096)  \n",
      "94116  -87.644105   (41.87936739625875, -87.64410546134096)  \n",
      "96001  -87.697529  (41.974653353169366, -87.69752945714046)  \n",
      "96068  -87.589539     (41.7477112449663, -87.5895386579929)  \n",
      "99050  -87.690005  (42.008303130687445, -87.69000508529592)  \n",
      "114901 -87.697529  (41.974653353169366, -87.69752945714046)  \n",
      "122683 -87.697529  (41.974653353169366, -87.69752945714046)  \n",
      "124533 -87.697529  (41.974653353169366, -87.69752945714046)  \n",
      "132290 -87.697529  (41.974653353169366, -87.69752945714046)  \n",
      "184529 -87.697529  (41.974653353169366, -87.69752945714046)  \n",
      "194554 -87.697529  (41.974653353169366, -87.69752945714046)  \n",
      "196808 -87.690005  (42.008303130687445, -87.69000508529592)  \n",
      "196948 -87.670072   (41.81210515297724, -87.67007183351623)  \n"
     ]
    }
   ],
   "source": [
    "#look at specific column that have nulls\n",
    "print(data[data[\"License #\"].isnull()][null_columns])"
   ]
  },
  {
   "cell_type": "code",
   "execution_count": 8,
   "metadata": {},
   "outputs": [
    {
     "data": {
      "text/plain": [
       "Restaurant                           138590\n",
       "Grocery Store                         27156\n",
       "School                                12823\n",
       "Children's Services Facility           3396\n",
       "Bakery                                 3046\n",
       "Daycare (2 - 6 Years)                  2767\n",
       "Daycare Above and Under 2 Years        2550\n",
       "Long Term Care                         1422\n",
       "Catering                               1255\n",
       "Liquor                                  913\n",
       "Mobile Food Dispenser                   877\n",
       "Daycare Combo 1586                      747\n",
       "Mobile Food Preparer                    667\n",
       "Golden Diner                            597\n",
       "Hospital                                580\n",
       "Wholesale                               542\n",
       "TAVERN                                  300\n",
       "Daycare (Under 2 Years)                 265\n",
       "Special Event                           223\n",
       "Shared Kitchen User (Long Term)         205\n",
       "BANQUET HALL                            161\n",
       "GAS STATION                             140\n",
       "Shared Kitchen                          133\n",
       "Mobile Prepared Food Vendor             116\n",
       "KIOSK                                   106\n",
       "Shelter                                 105\n",
       "CHARTER SCHOOL                           83\n",
       "LIVE POULTRY                             79\n",
       "BANQUET                                  64\n",
       "GROCERY/RESTAURANT                       56\n",
       "Mobile Frozen Desserts Vendor            55\n",
       "Navy Pier Kiosk                          54\n",
       "DAYCARE                                  49\n",
       "Daycare (2 Years)                        49\n",
       "STADIUM                                  45\n",
       "STORE                                    43\n",
       "PRIVATE SCHOOL                           43\n",
       "Shared Kitchen User (Short Term)         42\n",
       "RESTAURANT/BAR                           40\n",
       "ICE CREAM SHOP                           39\n",
       "CONVENIENCE STORE                        37\n",
       "ROOFTOP                                  37\n",
       "1023 CHILDERN'S SERVICES FACILITY        36\n",
       "CAFETERIA                                36\n",
       "Pop-Up Establishment Host-Tier II        34\n",
       "HOTEL                                    30\n",
       "CULINARY SCHOOL                          29\n",
       "1023-CHILDREN'S SERVICES FACILITY        28\n",
       "COMMISSARY                               28\n",
       "CHURCH KITCHEN                           28\n",
       "CHURCH                                   28\n",
       "CONVENIENCE                              28\n",
       "RESTAURANT/GROCERY STORE                 27\n",
       "convenience store                        27\n",
       "BREWERY                                  24\n",
       "ROOF TOPS                                24\n",
       "Name: Facility Type, dtype: int64"
      ]
     },
     "execution_count": 8,
     "metadata": {},
     "output_type": "execute_result"
    }
   ],
   "source": [
    "#check how many different restaurnt types are classified under \"Facility Type\"\n",
    "restaurant_types = data['Facility Type'].value_counts()\n",
    "restaurant_types.head(56)"
   ]
  },
  {
   "cell_type": "code",
   "execution_count": 9,
   "metadata": {},
   "outputs": [
    {
     "name": "stdout",
     "output_type": "stream",
     "text": [
      "(138590, 17)\n"
     ]
    }
   ],
   "source": [
    "# filter the dataset by facility type =restaurant and look at its shape\n",
    "\n",
    "restaurant_data = data[data['Facility Type']== \"Restaurant\"]\n",
    "print(restaurant_data.shape)"
   ]
  },
  {
   "cell_type": "code",
   "execution_count": 10,
   "metadata": {},
   "outputs": [
    {
     "data": {
      "text/html": [
       "<div>\n",
       "<style scoped>\n",
       "    .dataframe tbody tr th:only-of-type {\n",
       "        vertical-align: middle;\n",
       "    }\n",
       "\n",
       "    .dataframe tbody tr th {\n",
       "        vertical-align: top;\n",
       "    }\n",
       "\n",
       "    .dataframe thead th {\n",
       "        text-align: right;\n",
       "    }\n",
       "</style>\n",
       "<table border=\"1\" class=\"dataframe\">\n",
       "  <thead>\n",
       "    <tr style=\"text-align: right;\">\n",
       "      <th></th>\n",
       "      <th>Inspection ID</th>\n",
       "      <th>DBA Name</th>\n",
       "      <th>AKA Name</th>\n",
       "      <th>License #</th>\n",
       "      <th>Facility Type</th>\n",
       "      <th>Risk</th>\n",
       "      <th>Address</th>\n",
       "      <th>City</th>\n",
       "      <th>State</th>\n",
       "      <th>Zip</th>\n",
       "      <th>Inspection Date</th>\n",
       "      <th>Inspection Type</th>\n",
       "      <th>Results</th>\n",
       "      <th>Violations</th>\n",
       "      <th>Latitude</th>\n",
       "      <th>Longitude</th>\n",
       "      <th>Location</th>\n",
       "    </tr>\n",
       "  </thead>\n",
       "  <tbody>\n",
       "    <tr>\n",
       "      <th>1</th>\n",
       "      <td>1561742</td>\n",
       "      <td>LE CAFE</td>\n",
       "      <td>LE CAFE</td>\n",
       "      <td>2178017.0</td>\n",
       "      <td>Restaurant</td>\n",
       "      <td>Risk 1 (High)</td>\n",
       "      <td>4655 N LINCOLN AVE</td>\n",
       "      <td>CHICAGO</td>\n",
       "      <td>IL</td>\n",
       "      <td>60625.0</td>\n",
       "      <td>7/31/2015</td>\n",
       "      <td>Recent Inspection</td>\n",
       "      <td>Pass w/ Conditions</td>\n",
       "      <td>21. * CERTIFIED FOOD MANAGER ON SITE WHEN POTE...</td>\n",
       "      <td>41.966413</td>\n",
       "      <td>-87.686937</td>\n",
       "      <td>(41.96641308847062, -87.68693718914149)</td>\n",
       "    </tr>\n",
       "    <tr>\n",
       "      <th>3</th>\n",
       "      <td>335329</td>\n",
       "      <td>J &amp; J FISH</td>\n",
       "      <td>J &amp; J FISH</td>\n",
       "      <td>69148.0</td>\n",
       "      <td>Restaurant</td>\n",
       "      <td>Risk 2 (Medium)</td>\n",
       "      <td>1945 E 79TH ST</td>\n",
       "      <td>CHICAGO</td>\n",
       "      <td>IL</td>\n",
       "      <td>60649.0</td>\n",
       "      <td>10/7/2010</td>\n",
       "      <td>Canvass</td>\n",
       "      <td>Pass</td>\n",
       "      <td>32. FOOD AND NON-FOOD CONTACT SURFACES PROPERL...</td>\n",
       "      <td>41.751489</td>\n",
       "      <td>-87.576634</td>\n",
       "      <td>(41.75148901882857, -87.57663364715819)</td>\n",
       "    </tr>\n",
       "    <tr>\n",
       "      <th>4</th>\n",
       "      <td>1389412</td>\n",
       "      <td>ROYAL CHICKEN</td>\n",
       "      <td>NaN</td>\n",
       "      <td>2289533.0</td>\n",
       "      <td>Restaurant</td>\n",
       "      <td>Risk 2 (Medium)</td>\n",
       "      <td>5254 W CHICAGO AVE</td>\n",
       "      <td>CHICAGO</td>\n",
       "      <td>IL</td>\n",
       "      <td>60651.0</td>\n",
       "      <td>4/9/2014</td>\n",
       "      <td>License Re-Inspection</td>\n",
       "      <td>Pass</td>\n",
       "      <td>NaN</td>\n",
       "      <td>41.895023</td>\n",
       "      <td>-87.757835</td>\n",
       "      <td>(41.89502331496054, -87.75783480830066)</td>\n",
       "    </tr>\n",
       "    <tr>\n",
       "      <th>6</th>\n",
       "      <td>1096394</td>\n",
       "      <td>JIMMY GREEN'S</td>\n",
       "      <td>JIMMY GREEN'S</td>\n",
       "      <td>1979963.0</td>\n",
       "      <td>Restaurant</td>\n",
       "      <td>Risk 1 (High)</td>\n",
       "      <td>825 S STATE ST</td>\n",
       "      <td>CHICAGO</td>\n",
       "      <td>IL</td>\n",
       "      <td>60605.0</td>\n",
       "      <td>7/24/2012</td>\n",
       "      <td>Canvass</td>\n",
       "      <td>Out of Business</td>\n",
       "      <td>NaN</td>\n",
       "      <td>41.871464</td>\n",
       "      <td>-87.627369</td>\n",
       "      <td>(41.87146433662049, -87.62736908629603)</td>\n",
       "    </tr>\n",
       "    <tr>\n",
       "      <th>7</th>\n",
       "      <td>2135370</td>\n",
       "      <td>CONRAD CHICAGO</td>\n",
       "      <td>BAPTISTE &amp; BOTTLE</td>\n",
       "      <td>2457427.0</td>\n",
       "      <td>Restaurant</td>\n",
       "      <td>Risk 1 (High)</td>\n",
       "      <td>101 E ERIE ST</td>\n",
       "      <td>CHICAGO</td>\n",
       "      <td>IL</td>\n",
       "      <td>60611.0</td>\n",
       "      <td>1/12/2018</td>\n",
       "      <td>Canvass</td>\n",
       "      <td>Pass w/ Conditions</td>\n",
       "      <td>3. POTENTIALLY HAZARDOUS FOOD MEETS TEMPERATUR...</td>\n",
       "      <td>41.894010</td>\n",
       "      <td>-87.625368</td>\n",
       "      <td>(41.89400968711272, -87.62536771830537)</td>\n",
       "    </tr>\n",
       "  </tbody>\n",
       "</table>\n",
       "</div>"
      ],
      "text/plain": [
       "   Inspection ID        DBA Name           AKA Name  License # Facility Type  \\\n",
       "1        1561742         LE CAFE            LE CAFE  2178017.0    Restaurant   \n",
       "3         335329      J & J FISH         J & J FISH    69148.0    Restaurant   \n",
       "4        1389412   ROYAL CHICKEN                NaN  2289533.0    Restaurant   \n",
       "6        1096394   JIMMY GREEN'S      JIMMY GREEN'S  1979963.0    Restaurant   \n",
       "7        2135370  CONRAD CHICAGO  BAPTISTE & BOTTLE  2457427.0    Restaurant   \n",
       "\n",
       "              Risk             Address     City State      Zip  \\\n",
       "1    Risk 1 (High)  4655 N LINCOLN AVE  CHICAGO    IL  60625.0   \n",
       "3  Risk 2 (Medium)      1945 E 79TH ST  CHICAGO    IL  60649.0   \n",
       "4  Risk 2 (Medium)  5254 W CHICAGO AVE  CHICAGO    IL  60651.0   \n",
       "6    Risk 1 (High)      825 S STATE ST  CHICAGO    IL  60605.0   \n",
       "7    Risk 1 (High)       101 E ERIE ST  CHICAGO    IL  60611.0   \n",
       "\n",
       "  Inspection Date        Inspection Type             Results  \\\n",
       "1       7/31/2015      Recent Inspection  Pass w/ Conditions   \n",
       "3       10/7/2010                Canvass                Pass   \n",
       "4        4/9/2014  License Re-Inspection                Pass   \n",
       "6       7/24/2012                Canvass     Out of Business   \n",
       "7       1/12/2018                Canvass  Pass w/ Conditions   \n",
       "\n",
       "                                          Violations   Latitude  Longitude  \\\n",
       "1  21. * CERTIFIED FOOD MANAGER ON SITE WHEN POTE...  41.966413 -87.686937   \n",
       "3  32. FOOD AND NON-FOOD CONTACT SURFACES PROPERL...  41.751489 -87.576634   \n",
       "4                                                NaN  41.895023 -87.757835   \n",
       "6                                                NaN  41.871464 -87.627369   \n",
       "7  3. POTENTIALLY HAZARDOUS FOOD MEETS TEMPERATUR...  41.894010 -87.625368   \n",
       "\n",
       "                                  Location  \n",
       "1  (41.96641308847062, -87.68693718914149)  \n",
       "3  (41.75148901882857, -87.57663364715819)  \n",
       "4  (41.89502331496054, -87.75783480830066)  \n",
       "6  (41.87146433662049, -87.62736908629603)  \n",
       "7  (41.89400968711272, -87.62536771830537)  "
      ]
     },
     "execution_count": 10,
     "metadata": {},
     "output_type": "execute_result"
    }
   ],
   "source": [
    "restaurant_data.head()"
   ]
  },
  {
   "cell_type": "code",
   "execution_count": 11,
   "metadata": {},
   "outputs": [
    {
     "data": {
      "text/html": [
       "<div>\n",
       "<style scoped>\n",
       "    .dataframe tbody tr th:only-of-type {\n",
       "        vertical-align: middle;\n",
       "    }\n",
       "\n",
       "    .dataframe tbody tr th {\n",
       "        vertical-align: top;\n",
       "    }\n",
       "\n",
       "    .dataframe thead th {\n",
       "        text-align: right;\n",
       "    }\n",
       "</style>\n",
       "<table border=\"1\" class=\"dataframe\">\n",
       "  <thead>\n",
       "    <tr style=\"text-align: right;\">\n",
       "      <th></th>\n",
       "      <th>Inspection ID</th>\n",
       "      <th>DBA Name</th>\n",
       "      <th>AKA Name</th>\n",
       "      <th>License #</th>\n",
       "      <th>Facility Type</th>\n",
       "      <th>Risk</th>\n",
       "      <th>Address</th>\n",
       "      <th>City</th>\n",
       "      <th>State</th>\n",
       "      <th>Zip</th>\n",
       "      <th>Inspection Date</th>\n",
       "      <th>Inspection Type</th>\n",
       "      <th>Results</th>\n",
       "      <th>Violations</th>\n",
       "      <th>Latitude</th>\n",
       "      <th>Longitude</th>\n",
       "      <th>Location</th>\n",
       "    </tr>\n",
       "  </thead>\n",
       "  <tbody>\n",
       "    <tr>\n",
       "      <th>1</th>\n",
       "      <td>1561742</td>\n",
       "      <td>LE CAFE</td>\n",
       "      <td>LE CAFE</td>\n",
       "      <td>2178017.0</td>\n",
       "      <td>Restaurant</td>\n",
       "      <td>Risk 1 (High)</td>\n",
       "      <td>4655 N LINCOLN AVE</td>\n",
       "      <td>CHICAGO</td>\n",
       "      <td>IL</td>\n",
       "      <td>60625.0</td>\n",
       "      <td>7/31/2015</td>\n",
       "      <td>Recent Inspection</td>\n",
       "      <td>Pass w/ Conditions</td>\n",
       "      <td>21. * CERTIFIED FOOD MANAGER ON SITE WHEN POTE...</td>\n",
       "      <td>41.966413</td>\n",
       "      <td>-87.686937</td>\n",
       "      <td>(41.96641308847062, -87.68693718914149)</td>\n",
       "    </tr>\n",
       "    <tr>\n",
       "      <th>3</th>\n",
       "      <td>335329</td>\n",
       "      <td>J &amp; J FISH</td>\n",
       "      <td>J &amp; J FISH</td>\n",
       "      <td>69148.0</td>\n",
       "      <td>Restaurant</td>\n",
       "      <td>Risk 2 (Medium)</td>\n",
       "      <td>1945 E 79TH ST</td>\n",
       "      <td>CHICAGO</td>\n",
       "      <td>IL</td>\n",
       "      <td>60649.0</td>\n",
       "      <td>10/7/2010</td>\n",
       "      <td>Canvass</td>\n",
       "      <td>Pass</td>\n",
       "      <td>32. FOOD AND NON-FOOD CONTACT SURFACES PROPERL...</td>\n",
       "      <td>41.751489</td>\n",
       "      <td>-87.576634</td>\n",
       "      <td>(41.75148901882857, -87.57663364715819)</td>\n",
       "    </tr>\n",
       "    <tr>\n",
       "      <th>4</th>\n",
       "      <td>1389412</td>\n",
       "      <td>ROYAL CHICKEN</td>\n",
       "      <td>NaN</td>\n",
       "      <td>2289533.0</td>\n",
       "      <td>Restaurant</td>\n",
       "      <td>Risk 2 (Medium)</td>\n",
       "      <td>5254 W CHICAGO AVE</td>\n",
       "      <td>CHICAGO</td>\n",
       "      <td>IL</td>\n",
       "      <td>60651.0</td>\n",
       "      <td>4/9/2014</td>\n",
       "      <td>License Re-Inspection</td>\n",
       "      <td>Pass</td>\n",
       "      <td>NaN</td>\n",
       "      <td>41.895023</td>\n",
       "      <td>-87.757835</td>\n",
       "      <td>(41.89502331496054, -87.75783480830066)</td>\n",
       "    </tr>\n",
       "    <tr>\n",
       "      <th>6</th>\n",
       "      <td>1096394</td>\n",
       "      <td>JIMMY GREEN'S</td>\n",
       "      <td>JIMMY GREEN'S</td>\n",
       "      <td>1979963.0</td>\n",
       "      <td>Restaurant</td>\n",
       "      <td>Risk 1 (High)</td>\n",
       "      <td>825 S STATE ST</td>\n",
       "      <td>CHICAGO</td>\n",
       "      <td>IL</td>\n",
       "      <td>60605.0</td>\n",
       "      <td>7/24/2012</td>\n",
       "      <td>Canvass</td>\n",
       "      <td>Out of Business</td>\n",
       "      <td>NaN</td>\n",
       "      <td>41.871464</td>\n",
       "      <td>-87.627369</td>\n",
       "      <td>(41.87146433662049, -87.62736908629603)</td>\n",
       "    </tr>\n",
       "    <tr>\n",
       "      <th>7</th>\n",
       "      <td>2135370</td>\n",
       "      <td>CONRAD CHICAGO</td>\n",
       "      <td>BAPTISTE &amp; BOTTLE</td>\n",
       "      <td>2457427.0</td>\n",
       "      <td>Restaurant</td>\n",
       "      <td>Risk 1 (High)</td>\n",
       "      <td>101 E ERIE ST</td>\n",
       "      <td>CHICAGO</td>\n",
       "      <td>IL</td>\n",
       "      <td>60611.0</td>\n",
       "      <td>1/12/2018</td>\n",
       "      <td>Canvass</td>\n",
       "      <td>Pass w/ Conditions</td>\n",
       "      <td>3. POTENTIALLY HAZARDOUS FOOD MEETS TEMPERATUR...</td>\n",
       "      <td>41.894010</td>\n",
       "      <td>-87.625368</td>\n",
       "      <td>(41.89400968711272, -87.62536771830537)</td>\n",
       "    </tr>\n",
       "  </tbody>\n",
       "</table>\n",
       "</div>"
      ],
      "text/plain": [
       "   Inspection ID        DBA Name           AKA Name  License # Facility Type  \\\n",
       "1        1561742         LE CAFE            LE CAFE  2178017.0    Restaurant   \n",
       "3         335329      J & J FISH         J & J FISH    69148.0    Restaurant   \n",
       "4        1389412   ROYAL CHICKEN                NaN  2289533.0    Restaurant   \n",
       "6        1096394   JIMMY GREEN'S      JIMMY GREEN'S  1979963.0    Restaurant   \n",
       "7        2135370  CONRAD CHICAGO  BAPTISTE & BOTTLE  2457427.0    Restaurant   \n",
       "\n",
       "              Risk             Address     City State      Zip  \\\n",
       "1    Risk 1 (High)  4655 N LINCOLN AVE  CHICAGO    IL  60625.0   \n",
       "3  Risk 2 (Medium)      1945 E 79TH ST  CHICAGO    IL  60649.0   \n",
       "4  Risk 2 (Medium)  5254 W CHICAGO AVE  CHICAGO    IL  60651.0   \n",
       "6    Risk 1 (High)      825 S STATE ST  CHICAGO    IL  60605.0   \n",
       "7    Risk 1 (High)       101 E ERIE ST  CHICAGO    IL  60611.0   \n",
       "\n",
       "  Inspection Date        Inspection Type             Results  \\\n",
       "1       7/31/2015      Recent Inspection  Pass w/ Conditions   \n",
       "3       10/7/2010                Canvass                Pass   \n",
       "4        4/9/2014  License Re-Inspection                Pass   \n",
       "6       7/24/2012                Canvass     Out of Business   \n",
       "7       1/12/2018                Canvass  Pass w/ Conditions   \n",
       "\n",
       "                                          Violations   Latitude  Longitude  \\\n",
       "1  21. * CERTIFIED FOOD MANAGER ON SITE WHEN POTE...  41.966413 -87.686937   \n",
       "3  32. FOOD AND NON-FOOD CONTACT SURFACES PROPERL...  41.751489 -87.576634   \n",
       "4                                                NaN  41.895023 -87.757835   \n",
       "6                                                NaN  41.871464 -87.627369   \n",
       "7  3. POTENTIALLY HAZARDOUS FOOD MEETS TEMPERATUR...  41.894010 -87.625368   \n",
       "\n",
       "                                  Location  \n",
       "1  (41.96641308847062, -87.68693718914149)  \n",
       "3  (41.75148901882857, -87.57663364715819)  \n",
       "4  (41.89502331496054, -87.75783480830066)  \n",
       "6  (41.87146433662049, -87.62736908629603)  \n",
       "7  (41.89400968711272, -87.62536771830537)  "
      ]
     },
     "execution_count": 11,
     "metadata": {},
     "output_type": "execute_result"
    }
   ],
   "source": [
    "# we want to keep just the restaurants where we know the location, so we keep just the rows where location is not NaN:\n",
    "restaurants_df = restaurant_data[restaurant_data['Location'].notna()]\n",
    "restaurants_df.head()"
   ]
  },
  {
   "cell_type": "code",
   "execution_count": 12,
   "metadata": {},
   "outputs": [
    {
     "data": {
      "text/plain": [
       "60"
      ]
     },
     "execution_count": 12,
     "metadata": {},
     "output_type": "execute_result"
    }
   ],
   "source": [
    "#find out how many unique zip codes we have in our dataset:\n",
    "len(restaurants_df['Zip'].unique().tolist())"
   ]
  },
  {
   "cell_type": "code",
   "execution_count": 13,
   "metadata": {},
   "outputs": [
    {
     "data": {
      "text/plain": [
       "AKA Name            2479\n",
       "Risk                  73\n",
       "City                 150\n",
       "State                 48\n",
       "Zip                   50\n",
       "Inspection Type        1\n",
       "Violations         55325\n",
       "dtype: int64"
      ]
     },
     "execution_count": 13,
     "metadata": {},
     "output_type": "execute_result"
    }
   ],
   "source": [
    "#double-check there are no more null values in the \"location\" column\n",
    "null_columns=restaurants_df.columns[restaurants_df.isnull().any()]\n",
    "data[null_columns].isnull().sum()"
   ]
  },
  {
   "cell_type": "code",
   "execution_count": 14,
   "metadata": {},
   "outputs": [],
   "source": [
    "# Export the restaurants data into a csv. i've comment this out because I don't want to save the file multiple times on my machine\n",
    "#restaurants_df.to_csv(\"Restaurants.csv\")"
   ]
  },
  {
   "cell_type": "code",
   "execution_count": 15,
   "metadata": {},
   "outputs": [
    {
     "data": {
      "text/plain": [
       "9523"
      ]
     },
     "execution_count": 15,
     "metadata": {},
     "output_type": "execute_result"
    }
   ],
   "source": [
    "#look at how many unique restaurants, based on location\n",
    "len(restaurants_df['Location'].unique().tolist())"
   ]
  },
  {
   "cell_type": "code",
   "execution_count": 163,
   "metadata": {},
   "outputs": [],
   "source": [
    "# eliminate restaurants that are \"out of business\" or \"business not located\"\n",
    "clean_data = restaurants_df[(restaurants_df[\"Results\"] != \"Out of Business\") & (restaurants_df[\"Results\"] != \"Business Not Located\")]\n",
    "#Kynan isolate complaint inspections and canvas inspections\n",
    "complaint_data = clean_data[clean_data[\"Inspection Type\"]== \"Complaint\"]\n",
    "canvass_data = clean_data[clean_data[\"Inspection Type\"]== \"Canvass\"]"
   ]
  },
  {
   "cell_type": "code",
   "execution_count": 186,
   "metadata": {},
   "outputs": [
    {
     "data": {
      "text/plain": [
       "Pass                  6190\n",
       "Fail                  4580\n",
       "Pass w/ Conditions    3273\n",
       "No Entry               660\n",
       "Not Ready               12\n",
       "Name: Results, dtype: int64"
      ]
     },
     "execution_count": 186,
     "metadata": {},
     "output_type": "execute_result"
    }
   ],
   "source": [
    "#Kynan look at inspection pass fail rates by inspection type\n",
    "complaint_consequence = complaint_data[\"Results\"]\n",
    "canvass_consequence = canvass_data[\"Results\"]\n",
    "complaint_consequence.value_counts()\n",
    "com_consequences = [\"Pass\", \"Fail\", \"Pass w/Conditions\", \"No Entry\", \" \"]\n",
    "canvass_consequence.value_counts()\n",
    "can_consequences = [\"Pass\", \"Pass w/Conditions\",  \"Fail\",\"No Entry\", \" \"]\n",
    "complaint_consequence.value_counts()"
   ]
  },
  {
   "cell_type": "code",
   "execution_count": 187,
   "metadata": {},
   "outputs": [
    {
     "data": {
      "image/png": "[encoded data removed]",
      "text/plain": [
       "<Figure size 432x288 with 1 Axes>"
      ]
     },
     "metadata": {},
     "output_type": "display_data"
    }
   ],
   "source": [
    "#Kynan visualize Inspection results for Canvass Inspections\n",
    "colors_can = [\"green\", \"Chartreuse\", \"red\", \"darkgrey\", \"white\"]\n",
    "explode = (0.1,0,0,0,0)\n",
    "plt.pie(canvass_consequence.value_counts(), labels = can_consequences, autopct=\"%1.1f%%\", colors = colors_can, explode = explode)\n",
    "plt.title(\"64,992 Canvass Inspection Results\")\n",
    "plt.savefig(\"Canvass Inspection Results\")\n"
   ]
  },
  {
   "cell_type": "code",
   "execution_count": 188,
   "metadata": {},
   "outputs": [
    {
     "data": {
      "image/png": "[encoded data removed]",
      "text/plain": [
       "<Figure size 432x288 with 1 Axes>"
      ]
     },
     "metadata": {},
     "output_type": "display_data"
    }
   ],
   "source": [
    "#Kynan visualize inspection results for \n",
    "colors_com = [\"green\", \"red\",\"Chartreuse\", \"grey\", \"black\"]\n",
    "explode = (0,0.1,0,0,0)\n",
    "plt.pie(complaint_consequence.value_counts(), labels = com_consequences, autopct=\"%1.1f%%\", colors = colors_com, explode = explode)\n",
    "plt.title(\"14,715 Complaint Inspection Results\")\n",
    "plt.savefig(\"Complaint Inspection Results\")"
   ]
  },
  {
   "cell_type": "code",
   "execution_count": null,
   "metadata": {},
   "outputs": [],
   "source": [
    "\n"
   ]
  },
  {
   "cell_type": "code",
   "execution_count": 20,
   "metadata": {},
   "outputs": [],
   "source": [
    "#Kynan look at complaint and canvas inspections by zip code\n",
    "complaint_zip_count = complaint_data[\"Zip\"].value_counts()\n",
    "canvass_zip_count = canvass_data[\"Zip\"].value_counts()\n",
    "complaint_zip_count = complaint_zip_count.sort_index()\n",
    "canvass_zip_count = canvass_zip_count.sort_index()"
   ]
  },
  {
   "cell_type": "code",
   "execution_count": null,
   "metadata": {},
   "outputs": [],
   "source": []
  },
  {
   "cell_type": "code",
   "execution_count": 21,
   "metadata": {},
   "outputs": [],
   "source": [
    "# Kynan create variables for total canvass inspections and total complaint inspections\n",
    "canvass_sum = canvass_zip_count.sum()\n",
    "complaint_sum = complaint_zip_count.sum()\n",
    "\n",
    "\n"
   ]
  },
  {
   "cell_type": "code",
   "execution_count": 22,
   "metadata": {},
   "outputs": [],
   "source": [
    "#Kynan calculate relative distribution of canvas and complaint based inspections per zip code\n",
    "complaint_percent = []\n",
    "canvass_percent = []\n",
    "for complaint in complaint_zip_count:\n",
    "    complaint_percent.append((complaint/complaint_sum)*100)\n",
    "\n",
    "for canvass in canvass_zip_count:\n",
    "    canvass_percent.append(canvass/canvass_sum*100)\n",
    "\n",
    "# add null value to complaint percent\n",
    "complaint_percent.append(0)\n",
    "# format to percent \n",
    "#complaint_percent = ['{:.2f}%'.format(elem) for elem in complaint_percent]\n",
    "#canvass_percent =  ['{:.2f}%'.format(elem) for elem in canvass_percent]\n",
    "#canvass_percent = canvass_percent.astype(float)\n",
    "#round complaint zip count\n",
    "#complaint_zip_count = ['{:f}'.format(elem) for elem in complaint_zip_count]\n",
    "\n",
    "\n"
   ]
  },
  {
   "cell_type": "code",
   "execution_count": 23,
   "metadata": {},
   "outputs": [],
   "source": [
    "#Kynan combine complaint and canvass data into new df add zip code \n",
    "relative_inspection_types = pd.DataFrame({\"Canvass Raw\": canvass_zip_count, \"Complaint Raw\": complaint_zip_count, \n",
    "                                          \"Canvass Percent\": canvass_percent,\n",
    "                                          \"Complaint Percent\": complaint_percent})\n",
    "zips = relative_inspection_types.index\n",
    "zips.astype(int)\n",
    "\n",
    "relative_inspection_types[\"Zip\"] = zips"
   ]
  },
  {
   "cell_type": "raw",
   "metadata": {},
   "source": []
  },
  {
   "cell_type": "code",
   "execution_count": 24,
   "metadata": {},
   "outputs": [],
   "source": [
    "# Kynan calculate which zip codes get a disproportional share of complaint based inspections by calculating an expected number of complaints\n",
    "relative_inspection_types[\"Expected Complaints\"] = round(relative_inspection_types[\"Canvass Percent\"]/100 * complaint_sum)\n",
    "relative_inspection_types[\"Complaint Index\"] = relative_inspection_types[\"Complaint Raw\"]/relative_inspection_types[\"Expected Complaints\"]*100"
   ]
  },
  {
   "cell_type": "code",
   "execution_count": 25,
   "metadata": {},
   "outputs": [],
   "source": [
    "#Kynan add the differnece to df\n",
    "relative_inspection_types = relative_inspection_types.sort_values([\"Complaint Index\"])\n"
   ]
  },
  {
   "cell_type": "code",
   "execution_count": 26,
   "metadata": {},
   "outputs": [
    {
     "data": {
      "text/plain": [
       "75.62374846937608"
      ]
     },
     "execution_count": 26,
     "metadata": {},
     "output_type": "execute_result"
    }
   ],
   "source": [
    "#Kynan calculate  chi square critical value \n",
    "import scipy.stats as stats\n",
    "chi_square = pd.DataFrame([relative_inspection_types[\"Complaint Raw\"], relative_inspection_types[\"Expected Complaints\"]]).T\n",
    "chi_square = chi_square.drop([60827.0], axis = 0)\n",
    "critical_value = stats.chi2.ppf(q = 0.95, df = 57)\n",
    "critical_value\n",
    "\n"
   ]
  },
  {
   "cell_type": "code",
   "execution_count": 27,
   "metadata": {},
   "outputs": [
    {
     "data": {
      "text/plain": [
       "Power_divergenceResult(statistic=3615.674134905505, pvalue=0.0)"
      ]
     },
     "execution_count": 27,
     "metadata": {},
     "output_type": "execute_result"
    }
   ],
   "source": [
    "#Kynan calcualte chi square value\n",
    "stats.chisquare(chi_square['Complaint Raw'], chi_square['Expected Complaints'])\n"
   ]
  },
  {
   "cell_type": "code",
   "execution_count": 28,
   "metadata": {},
   "outputs": [
    {
     "name": "stdout",
     "output_type": "stream",
     "text": [
      "Since the chi square values of 3615 is larger than the critical value of 75, we conclude the results are statistically significant\n"
     ]
    }
   ],
   "source": [
    "print(\"Since the chi square value of 3615 is larger than the critical value of 75, we conclude the results are statistically significant\")"
   ]
  },
  {
   "cell_type": "code",
   "execution_count": 149,
   "metadata": {},
   "outputs": [],
   "source": [
    "#Kynan isolate and visualize the zips that have the most relative complaints\n",
    "#too_many_complaints = relative_inspection_types.iloc[54:59, :]\n",
    "#x_axis = ([\"Kenwood\",\"Roseland\",\"South Shore\", \"Auburn Gresham\", \"Chatham\"])\n",
    "#plt.bar(x_axis, too_many_complaints[\"Complaint Index\"])\n",
    "\n"
   ]
  },
  {
   "cell_type": "code",
   "execution_count": 150,
   "metadata": {},
   "outputs": [],
   "source": [
    "# Kynan add income and lat/long data\n",
    "inspection_demo = pd.merge(relative_inspection_types, demo_request, on = \"Zip\")"
   ]
  },
  {
   "cell_type": "code",
   "execution_count": 151,
   "metadata": {},
   "outputs": [
    {
     "data": {
      "text/plain": [
       "54"
      ]
     },
     "execution_count": 151,
     "metadata": {},
     "output_type": "execute_result"
    }
   ],
   "source": [
    "len(inspection_demo)"
   ]
  },
  {
   "cell_type": "code",
   "execution_count": 152,
   "metadata": {},
   "outputs": [
    {
     "data": {
      "text/plain": [
       "Canvass Raw              int64\n",
       "Complaint Raw          float64\n",
       "Canvass Percent        float64\n",
       "Complaint Percent      float64\n",
       "Zip                    float64\n",
       "Expected Complaints    float64\n",
       "Complaint Index        float64\n",
       "Location                object\n",
       "Population             float64\n",
       "Income                 float64\n",
       "dtype: object"
      ]
     },
     "execution_count": 152,
     "metadata": {},
     "output_type": "execute_result"
    }
   ],
   "source": [
    "#kynan convert income to float\n",
    "\n",
    "inspection_demo.dtypes"
   ]
  },
  {
   "cell_type": "code",
   "execution_count": 153,
   "metadata": {},
   "outputs": [
    {
     "data": {
      "text/html": [
       "<div>\n",
       "<style scoped>\n",
       "    .dataframe tbody tr th:only-of-type {\n",
       "        vertical-align: middle;\n",
       "    }\n",
       "\n",
       "    .dataframe tbody tr th {\n",
       "        vertical-align: top;\n",
       "    }\n",
       "\n",
       "    .dataframe thead th {\n",
       "        text-align: right;\n",
       "    }\n",
       "</style>\n",
       "<table border=\"1\" class=\"dataframe\">\n",
       "  <thead>\n",
       "    <tr style=\"text-align: right;\">\n",
       "      <th></th>\n",
       "      <th>Canvass Raw</th>\n",
       "      <th>Complaint Raw</th>\n",
       "      <th>Canvass Percent</th>\n",
       "      <th>Complaint Percent</th>\n",
       "      <th>Zip</th>\n",
       "      <th>Expected Complaints</th>\n",
       "      <th>Complaint Index</th>\n",
       "      <th>Location</th>\n",
       "      <th>Population</th>\n",
       "      <th>Income</th>\n",
       "    </tr>\n",
       "  </thead>\n",
       "  <tbody>\n",
       "    <tr>\n",
       "      <th>0</th>\n",
       "      <td>606</td>\n",
       "      <td>62.0</td>\n",
       "      <td>0.813619</td>\n",
       "      <td>0.419940</td>\n",
       "      <td>60631.0</td>\n",
       "      <td>120.0</td>\n",
       "      <td>51.666667</td>\n",
       "      <td>41.994948, -87.813225</td>\n",
       "      <td>28832.0</td>\n",
       "      <td>55316.0</td>\n",
       "    </tr>\n",
       "    <tr>\n",
       "      <th>1</th>\n",
       "      <td>659</td>\n",
       "      <td>68.0</td>\n",
       "      <td>0.884778</td>\n",
       "      <td>0.460580</td>\n",
       "      <td>60646.0</td>\n",
       "      <td>131.0</td>\n",
       "      <td>51.908397</td>\n",
       "      <td>41.992931, -87.760278</td>\n",
       "      <td>27016.0</td>\n",
       "      <td>58232.0</td>\n",
       "    </tr>\n",
       "    <tr>\n",
       "      <th>2</th>\n",
       "      <td>1933</td>\n",
       "      <td>202.0</td>\n",
       "      <td>2.595258</td>\n",
       "      <td>1.368193</td>\n",
       "      <td>60606.0</td>\n",
       "      <td>383.0</td>\n",
       "      <td>52.741514</td>\n",
       "      <td>41.881988, -87.637329</td>\n",
       "      <td>NaN</td>\n",
       "      <td>100377.0</td>\n",
       "    </tr>\n",
       "    <tr>\n",
       "      <th>3</th>\n",
       "      <td>1711</td>\n",
       "      <td>205.0</td>\n",
       "      <td>2.297199</td>\n",
       "      <td>1.388513</td>\n",
       "      <td>60634.0</td>\n",
       "      <td>339.0</td>\n",
       "      <td>60.471976</td>\n",
       "      <td>41.946189, -87.806117</td>\n",
       "      <td>74164.0</td>\n",
       "      <td>50042.0</td>\n",
       "    </tr>\n",
       "    <tr>\n",
       "      <th>4</th>\n",
       "      <td>336</td>\n",
       "      <td>42.0</td>\n",
       "      <td>0.451116</td>\n",
       "      <td>0.284476</td>\n",
       "      <td>60655.0</td>\n",
       "      <td>67.0</td>\n",
       "      <td>62.686567</td>\n",
       "      <td>41.694722, -87.703687</td>\n",
       "      <td>29138.0</td>\n",
       "      <td>59849.0</td>\n",
       "    </tr>\n",
       "  </tbody>\n",
       "</table>\n",
       "</div>"
      ],
      "text/plain": [
       "   Canvass Raw  Complaint Raw  Canvass Percent  Complaint Percent      Zip  \\\n",
       "0          606           62.0         0.813619           0.419940  60631.0   \n",
       "1          659           68.0         0.884778           0.460580  60646.0   \n",
       "2         1933          202.0         2.595258           1.368193  60606.0   \n",
       "3         1711          205.0         2.297199           1.388513  60634.0   \n",
       "4          336           42.0         0.451116           0.284476  60655.0   \n",
       "\n",
       "   Expected Complaints  Complaint Index               Location  Population  \\\n",
       "0                120.0        51.666667  41.994948, -87.813225     28832.0   \n",
       "1                131.0        51.908397  41.992931, -87.760278     27016.0   \n",
       "2                383.0        52.741514  41.881988, -87.637329         NaN   \n",
       "3                339.0        60.471976  41.946189, -87.806117     74164.0   \n",
       "4                 67.0        62.686567  41.694722, -87.703687     29138.0   \n",
       "\n",
       "     Income  \n",
       "0   55316.0  \n",
       "1   58232.0  \n",
       "2  100377.0  \n",
       "3   50042.0  \n",
       "4   59849.0  "
      ]
     },
     "execution_count": 153,
     "metadata": {},
     "output_type": "execute_result"
    }
   ],
   "source": [
    "#Kynan review merged file.\n",
    "inspection_demo.head()"
   ]
  },
  {
   "cell_type": "code",
   "execution_count": 154,
   "metadata": {},
   "outputs": [
    {
     "data": {
      "text/plain": [
       "count        54.000000\n",
       "mean      41787.481481\n",
       "std       15768.665417\n",
       "min       14205.000000\n",
       "25%       31267.000000\n",
       "50%       40124.000000\n",
       "75%       50981.000000\n",
       "max      100377.000000\n",
       "Name: Income, dtype: float64"
      ]
     },
     "execution_count": 154,
     "metadata": {},
     "output_type": "execute_result"
    }
   ],
   "source": [
    "#Kynan look at quartiles by income\n",
    "inspection_demo[\"Income\"].describe()"
   ]
  },
  {
   "cell_type": "code",
   "execution_count": 155,
   "metadata": {},
   "outputs": [
    {
     "data": {
      "text/html": [
       "<div>\n",
       "<style scoped>\n",
       "    .dataframe tbody tr th:only-of-type {\n",
       "        vertical-align: middle;\n",
       "    }\n",
       "\n",
       "    .dataframe tbody tr th {\n",
       "        vertical-align: top;\n",
       "    }\n",
       "\n",
       "    .dataframe thead th {\n",
       "        text-align: right;\n",
       "    }\n",
       "</style>\n",
       "<table border=\"1\" class=\"dataframe\">\n",
       "  <thead>\n",
       "    <tr style=\"text-align: right;\">\n",
       "      <th></th>\n",
       "      <th>Canvass Raw</th>\n",
       "      <th>Complaint Raw</th>\n",
       "      <th>Canvass Percent</th>\n",
       "      <th>Complaint Percent</th>\n",
       "      <th>Zip</th>\n",
       "      <th>Expected Complaints</th>\n",
       "      <th>Complaint Index</th>\n",
       "      <th>Location</th>\n",
       "      <th>Population</th>\n",
       "      <th>Income</th>\n",
       "      <th>Quartile</th>\n",
       "    </tr>\n",
       "  </thead>\n",
       "  <tbody>\n",
       "    <tr>\n",
       "      <th>0</th>\n",
       "      <td>606</td>\n",
       "      <td>62.0</td>\n",
       "      <td>0.813619</td>\n",
       "      <td>0.419940</td>\n",
       "      <td>60631.0</td>\n",
       "      <td>120.0</td>\n",
       "      <td>51.666667</td>\n",
       "      <td>41.994948, -87.813225</td>\n",
       "      <td>28832.0</td>\n",
       "      <td>55316.0</td>\n",
       "      <td>$51K - $100K</td>\n",
       "    </tr>\n",
       "    <tr>\n",
       "      <th>1</th>\n",
       "      <td>659</td>\n",
       "      <td>68.0</td>\n",
       "      <td>0.884778</td>\n",
       "      <td>0.460580</td>\n",
       "      <td>60646.0</td>\n",
       "      <td>131.0</td>\n",
       "      <td>51.908397</td>\n",
       "      <td>41.992931, -87.760278</td>\n",
       "      <td>27016.0</td>\n",
       "      <td>58232.0</td>\n",
       "      <td>$51K - $100K</td>\n",
       "    </tr>\n",
       "    <tr>\n",
       "      <th>2</th>\n",
       "      <td>1933</td>\n",
       "      <td>202.0</td>\n",
       "      <td>2.595258</td>\n",
       "      <td>1.368193</td>\n",
       "      <td>60606.0</td>\n",
       "      <td>383.0</td>\n",
       "      <td>52.741514</td>\n",
       "      <td>41.881988, -87.637329</td>\n",
       "      <td>NaN</td>\n",
       "      <td>100377.0</td>\n",
       "      <td>$51K - $100K</td>\n",
       "    </tr>\n",
       "    <tr>\n",
       "      <th>3</th>\n",
       "      <td>1711</td>\n",
       "      <td>205.0</td>\n",
       "      <td>2.297199</td>\n",
       "      <td>1.388513</td>\n",
       "      <td>60634.0</td>\n",
       "      <td>339.0</td>\n",
       "      <td>60.471976</td>\n",
       "      <td>41.946189, -87.806117</td>\n",
       "      <td>74164.0</td>\n",
       "      <td>50042.0</td>\n",
       "      <td>$40K - $51K</td>\n",
       "    </tr>\n",
       "    <tr>\n",
       "      <th>4</th>\n",
       "      <td>336</td>\n",
       "      <td>42.0</td>\n",
       "      <td>0.451116</td>\n",
       "      <td>0.284476</td>\n",
       "      <td>60655.0</td>\n",
       "      <td>67.0</td>\n",
       "      <td>62.686567</td>\n",
       "      <td>41.694722, -87.703687</td>\n",
       "      <td>29138.0</td>\n",
       "      <td>59849.0</td>\n",
       "      <td>$51K - $100K</td>\n",
       "    </tr>\n",
       "    <tr>\n",
       "      <th>5</th>\n",
       "      <td>1597</td>\n",
       "      <td>213.0</td>\n",
       "      <td>2.144142</td>\n",
       "      <td>1.442698</td>\n",
       "      <td>60605.0</td>\n",
       "      <td>317.0</td>\n",
       "      <td>67.192429</td>\n",
       "      <td>41.857651, -87.615592</td>\n",
       "      <td>12423.0</td>\n",
       "      <td>56151.0</td>\n",
       "      <td>$51K - $100K</td>\n",
       "    </tr>\n",
       "    <tr>\n",
       "      <th>6</th>\n",
       "      <td>1434</td>\n",
       "      <td>192.0</td>\n",
       "      <td>1.925297</td>\n",
       "      <td>1.300461</td>\n",
       "      <td>60661.0</td>\n",
       "      <td>284.0</td>\n",
       "      <td>67.605634</td>\n",
       "      <td>41.882458, -87.643946</td>\n",
       "      <td>4382.0</td>\n",
       "      <td>54698.0</td>\n",
       "      <td>$51K - $100K</td>\n",
       "    </tr>\n",
       "    <tr>\n",
       "      <th>7</th>\n",
       "      <td>141</td>\n",
       "      <td>19.0</td>\n",
       "      <td>0.189307</td>\n",
       "      <td>0.128691</td>\n",
       "      <td>60633.0</td>\n",
       "      <td>28.0</td>\n",
       "      <td>67.857143</td>\n",
       "      <td>41.661941, -87.557757</td>\n",
       "      <td>13262.0</td>\n",
       "      <td>40792.0</td>\n",
       "      <td>$40K - $51K</td>\n",
       "    </tr>\n",
       "    <tr>\n",
       "      <th>8</th>\n",
       "      <td>1238</td>\n",
       "      <td>168.0</td>\n",
       "      <td>1.662147</td>\n",
       "      <td>1.137903</td>\n",
       "      <td>60638.0</td>\n",
       "      <td>245.0</td>\n",
       "      <td>68.571429</td>\n",
       "      <td>41.783650, -87.770407</td>\n",
       "      <td>55788.0</td>\n",
       "      <td>45173.0</td>\n",
       "      <td>$40K - $51K</td>\n",
       "    </tr>\n",
       "    <tr>\n",
       "      <th>9</th>\n",
       "      <td>1339</td>\n",
       "      <td>190.0</td>\n",
       "      <td>1.797750</td>\n",
       "      <td>1.286914</td>\n",
       "      <td>60623.0</td>\n",
       "      <td>265.0</td>\n",
       "      <td>71.698113</td>\n",
       "      <td>41.847079, -87.719446</td>\n",
       "      <td>108144.0</td>\n",
       "      <td>28203.0</td>\n",
       "      <td>$14K - $31K</td>\n",
       "    </tr>\n",
       "  </tbody>\n",
       "</table>\n",
       "</div>"
      ],
      "text/plain": [
       "   Canvass Raw  Complaint Raw  Canvass Percent  Complaint Percent      Zip  \\\n",
       "0          606           62.0         0.813619           0.419940  60631.0   \n",
       "1          659           68.0         0.884778           0.460580  60646.0   \n",
       "2         1933          202.0         2.595258           1.368193  60606.0   \n",
       "3         1711          205.0         2.297199           1.388513  60634.0   \n",
       "4          336           42.0         0.451116           0.284476  60655.0   \n",
       "5         1597          213.0         2.144142           1.442698  60605.0   \n",
       "6         1434          192.0         1.925297           1.300461  60661.0   \n",
       "7          141           19.0         0.189307           0.128691  60633.0   \n",
       "8         1238          168.0         1.662147           1.137903  60638.0   \n",
       "9         1339          190.0         1.797750           1.286914  60623.0   \n",
       "\n",
       "   Expected Complaints  Complaint Index               Location  Population  \\\n",
       "0                120.0        51.666667  41.994948, -87.813225     28832.0   \n",
       "1                131.0        51.908397  41.992931, -87.760278     27016.0   \n",
       "2                383.0        52.741514  41.881988, -87.637329         NaN   \n",
       "3                339.0        60.471976  41.946189, -87.806117     74164.0   \n",
       "4                 67.0        62.686567  41.694722, -87.703687     29138.0   \n",
       "5                317.0        67.192429  41.857651, -87.615592     12423.0   \n",
       "6                284.0        67.605634  41.882458, -87.643946      4382.0   \n",
       "7                 28.0        67.857143  41.661941, -87.557757     13262.0   \n",
       "8                245.0        68.571429  41.783650, -87.770407     55788.0   \n",
       "9                265.0        71.698113  41.847079, -87.719446    108144.0   \n",
       "\n",
       "     Income      Quartile  \n",
       "0   55316.0  $51K - $100K  \n",
       "1   58232.0  $51K - $100K  \n",
       "2  100377.0  $51K - $100K  \n",
       "3   50042.0   $40K - $51K  \n",
       "4   59849.0  $51K - $100K  \n",
       "5   56151.0  $51K - $100K  \n",
       "6   54698.0  $51K - $100K  \n",
       "7   40792.0   $40K - $51K  \n",
       "8   45173.0   $40K - $51K  \n",
       "9   28203.0   $14K - $31K  "
      ]
     },
     "execution_count": 155,
     "metadata": {},
     "output_type": "execute_result"
    }
   ],
   "source": [
    "#Kynan create quartile bins based on income\n",
    "\n",
    "bin_labels = [\"$14K - $31K\", \"$31K - $40K\", \"$40K - $51K\", \"$51K - $100K\"]\n",
    "inspection_demo[\"Quartile\"] = pd.qcut(inspection_demo[\"Income\"], q=[0, .25, .5, .75, 1], labels = bin_labels)\n",
    "#take a peek at data \n",
    "inspection_demo.head(10)\n",
    "                  "
   ]
  },
  {
   "cell_type": "code",
   "execution_count": 158,
   "metadata": {},
   "outputs": [],
   "source": [
    "#Kynan create variables to build a visualization based on bins\n",
    "x_axis = np.arange(len(bin_labels))\n",
    "y_ax = inspection_demo.groupby(inspection_demo[\"Quartile\"])\n",
    "y_axis = round(y_ax[\"Complaint Raw\"].sum()/y_ax[\"Expected Complaints\"].sum()*100)\n",
    "\n",
    "\n",
    "\n"
   ]
  },
  {
   "cell_type": "code",
   "execution_count": 157,
   "metadata": {},
   "outputs": [
    {
     "data": {
      "image/png": "[encoded data removed]",
      "text/plain": [
       "<Figure size 432x288 with 1 Axes>"
      ]
     },
     "metadata": {
      "needs_background": "light"
     },
     "output_type": "display_data"
    }
   ],
   "source": [
    "#Kynan create bin bar chart\n",
    "plt.bar(x_axis, y_axis)\n",
    "tick_locations = [0, 1, 2, 3]\n",
    "plt.xticks(tick_locations, bin_labels)\n",
    "plt.title(\"Complaint Index vs. Median Household Income\")\n",
    "plt.xlabel(\"Chicago Household Income Quartiles\")\n",
    "plt.ylabel(\"Complaint Index\")\n",
    "plt.show\n",
    "plt.savefig(\"Income Quartiles vs. Complaint Index.png\")"
   ]
  },
  {
   "cell_type": "code",
   "execution_count": 77,
   "metadata": {},
   "outputs": [
    {
     "name": "stdout",
     "output_type": "stream",
     "text": [
      "The correlation between both factors is -0.54\n"
     ]
    },
    {
     "data": {
      "image/png": "[encoded data removed]",
      "text/plain": [
       "<Figure size 432x288 with 1 Axes>"
      ]
     },
     "metadata": {
      "needs_background": "light"
     },
     "output_type": "display_data"
    }
   ],
   "source": [
    "#Kynan Calculate and Visulize the correlation between restaurant complaint index and median household income per zip\n",
    "income = inspection_demo[\"Income\"]\n",
    "complaints = inspection_demo[\"Complaint Index\"]\n",
    "correlation = st.pearsonr(income, complaints)\n",
    "fig, ax = plt.subplots()\n",
    "ax.set_axisbelow(True)\n",
    "print(f\"The correlation between both factors is {round(correlation[0],2)}\")\n",
    "plt.scatter(income, complaints, marker = \"o\", s = 60)\n",
    "plt.ylim(40, 310)\n",
    "plt.xlim(10000, 110000)\n",
    "plt.ylabel(\"Complaint Index\")\n",
    "plt.xlabel(\"Median Household Income\")\n",
    "ax.minorticks_on()\n",
    "plt.grid(which='major', linestyle='-', linewidth='0.5', color='red')\n",
    "plt.grid(which='minor', linestyle=':', linewidth='0.5', color='black')\n",
    "plt.title(\"Chicago Restaurant Complaints and Household Income by Zip\")\n",
    "plt.savefig(\"Income vs. Complaints.png\")"
   ]
  },
  {
   "cell_type": "code",
   "execution_count": 46,
   "metadata": {},
   "outputs": [],
   "source": [
    "#Kynancalculate zip codes where complaints inspections are greater than canvass\n",
    "#x_axis = np.arange(len(relative_inspection_types))\n",
    "#plt.bar(x_axis, relative_inspection_types['Canvass Percent'])\n",
    "#tick_locations = [value for value in x_axis]\n",
    "#plt.xticks(zips.all(), rotation = 'vertical')\n",
    "#plt.yticks(np.arange(0, ,0.5),[\"0\", \".5%\", \"1\", \"1.5%\", \"2%\", \"2.5%\", \"3%\", \"3.5%\", \"4%\", \"4.5%\"])\n",
    "#plt\n",
    "#plt.ylim(0,5)\n",
    "#plt.show"
   ]
  },
  {
   "cell_type": "code",
   "execution_count": 114,
   "metadata": {},
   "outputs": [
    {
     "ename": "NameError",
     "evalue": "name 'clean_data' is not defined",
     "output_type": "error",
     "traceback": [
      "\u001b[1;31m---------------------------------------------------------------------------\u001b[0m",
      "\u001b[1;31mNameError\u001b[0m                                 Traceback (most recent call last)",
      "\u001b[1;32m<ipython-input-114-da7bcefa11f2>\u001b[0m in \u001b[0;36m<module>\u001b[1;34m\u001b[0m\n\u001b[0;32m      1\u001b[0m \u001b[1;31m#find out how many unique restaurant locations we have in our dataset:\u001b[0m\u001b[1;33m\u001b[0m\u001b[1;33m\u001b[0m\u001b[1;33m\u001b[0m\u001b[0m\n\u001b[1;32m----> 2\u001b[1;33m \u001b[0mlen\u001b[0m\u001b[1;33m(\u001b[0m\u001b[0mclean_data\u001b[0m\u001b[1;33m[\u001b[0m\u001b[1;34m'Location'\u001b[0m\u001b[1;33m]\u001b[0m\u001b[1;33m.\u001b[0m\u001b[0munique\u001b[0m\u001b[1;33m(\u001b[0m\u001b[1;33m)\u001b[0m\u001b[1;33m.\u001b[0m\u001b[0mtolist\u001b[0m\u001b[1;33m(\u001b[0m\u001b[1;33m)\u001b[0m\u001b[1;33m)\u001b[0m\u001b[1;33m\u001b[0m\u001b[1;33m\u001b[0m\u001b[0m\n\u001b[0m",
      "\u001b[1;31mNameError\u001b[0m: name 'clean_data' is not defined"
     ]
    }
   ],
   "source": [
    "#find out how many unique restaurant locations we have in our dataset:\n",
    "len(clean_data['Location'].unique().tolist())"
   ]
  },
  {
   "cell_type": "code",
   "execution_count": 115,
   "metadata": {},
   "outputs": [
    {
     "ename": "NameError",
     "evalue": "name 'clean_data' is not defined",
     "output_type": "error",
     "traceback": [
      "\u001b[1;31m---------------------------------------------------------------------------\u001b[0m",
      "\u001b[1;31mNameError\u001b[0m                                 Traceback (most recent call last)",
      "\u001b[1;32m<ipython-input-115-a16f364d5ee0>\u001b[0m in \u001b[0;36m<module>\u001b[1;34m\u001b[0m\n\u001b[0;32m      2\u001b[0m \u001b[1;33m\u001b[0m\u001b[0m\n\u001b[0;32m      3\u001b[0m \u001b[1;31m#First, we use groupby \"risk category\" and count location to determine the data points\u001b[0m\u001b[1;33m\u001b[0m\u001b[1;33m\u001b[0m\u001b[1;33m\u001b[0m\u001b[0m\n\u001b[1;32m----> 4\u001b[1;33m \u001b[0mrisk_data_points\u001b[0m \u001b[1;33m=\u001b[0m \u001b[0mclean_data\u001b[0m\u001b[1;33m.\u001b[0m\u001b[0mgroupby\u001b[0m\u001b[1;33m(\u001b[0m\u001b[1;33m[\u001b[0m\u001b[1;34m\"Risk\"\u001b[0m\u001b[1;33m]\u001b[0m\u001b[1;33m)\u001b[0m\u001b[1;33m.\u001b[0m\u001b[0mcount\u001b[0m\u001b[1;33m(\u001b[0m\u001b[1;33m)\u001b[0m\u001b[1;33m[\u001b[0m\u001b[1;34m\"Location\"\u001b[0m\u001b[1;33m]\u001b[0m\u001b[1;33m\u001b[0m\u001b[1;33m\u001b[0m\u001b[0m\n\u001b[0m\u001b[0;32m      5\u001b[0m \u001b[0mrisk_data_points\u001b[0m\u001b[1;33m\u001b[0m\u001b[1;33m\u001b[0m\u001b[0m\n\u001b[0;32m      6\u001b[0m \u001b[1;33m\u001b[0m\u001b[0m\n",
      "\u001b[1;31mNameError\u001b[0m: name 'clean_data' is not defined"
     ]
    }
   ],
   "source": [
    "# Generate a bar plot showing the total number of restaurants for each Risk category \n",
    "\n",
    "#First, we use groupby \"risk category\" and count location to determine the data points\n",
    "risk_data_points = clean_data.groupby([\"Risk\"]).count()[\"Location\"]\n",
    "risk_data_points\n",
    "\n",
    "#Second, we plot the points\n",
    "risk_data_points.plot(kind=\"bar\", color=\"mediumvioletred\", figsize=(12,7))\n",
    "\n",
    "#Last, we set chart title and axis labels\n",
    "plt.title(\"Total number of restaurants per Risk category\")\n",
    "plt.xlabel(\"Risk category\")\n",
    "plt.ylabel(\"Number of restaurants\")\n",
    "\n",
    "#show chart and set layout\n",
    "plt.show()\n",
    "plt.tight_layout()"
   ]
  },
  {
   "cell_type": "code",
   "execution_count": null,
   "metadata": {},
   "outputs": [],
   "source": [
    "#We can see that most restaurants are at high risk. We can also confirm this from the data:\n",
    "clean_data['Risk'].value_counts()"
   ]
  },
  {
   "cell_type": "code",
   "execution_count": null,
   "metadata": {},
   "outputs": [],
   "source": [
    "#Next, we look at the results of the inspections\n",
    "\n",
    "#First, we use groupby \"Results\" and count location to determine the data points\n",
    "risk_data_points = clean_data.groupby([\"Results\"]).count()[\"Location\"]\n",
    "risk_data_points\n",
    "\n",
    "#Second, we plot the points\n",
    "risk_data_points.plot(kind=\"bar\", color=\"dodgerblue\", figsize=(12,7))\n",
    "\n",
    "#Last, we set chart title and axis labels\n",
    "plt.title(\"Results of the inspection\")\n",
    "plt.xlabel(\"Results\")\n",
    "plt.ylabel(\"Location\")\n",
    "\n",
    "#show chart and set layout\n",
    "plt.show()\n",
    "plt.tight_layout()"
   ]
  },
  {
   "cell_type": "code",
   "execution_count": null,
   "metadata": {},
   "outputs": [],
   "source": [
    "#confirm from the data:\n",
    "clean_data['Results'].value_counts()"
   ]
  },
  {
   "cell_type": "code",
   "execution_count": null,
   "metadata": {},
   "outputs": [],
   "source": []
  },
  {
   "cell_type": "code",
   "execution_count": null,
   "metadata": {},
   "outputs": [],
   "source": []
  },
  {
   "cell_type": "code",
   "execution_count": null,
   "metadata": {},
   "outputs": [],
   "source": []
  }
 ],
 "metadata": {
  "kernelspec": {
   "display_name": "Python 3",
   "language": "python",
   "name": "python3"
  },
  "language_info": {
   "codemirror_mode": {
    "name": "ipython",
    "version": 3
   },
   "file_extension": ".py",
   "mimetype": "text/x-python",
   "name": "python",
   "nbconvert_exporter": "python",
   "pygments_lexer": "ipython3",
   "version": "3.7.6"
  }
 },
 "nbformat": 4,
 "nbformat_minor": 4
}
