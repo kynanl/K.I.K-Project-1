{
 "cells": [
  {
   "cell_type": "code",
   "execution_count": null,
   "metadata": {},
   "outputs": [],
   "source": [
    "import matplotlib.pyplot as plt\n",
    "import numpy as np\n",
    "import pandas as pd\n",
    "import scipy.stats as st\n",
    "from scipy.stats import linregress\n"
   ]
  },
  {
   "cell_type": "code",
   "execution_count": null,
   "metadata": {},
   "outputs": [],
   "source": [
    "#import csv file\n",
    "data_path2 = \"Food_Inspections.csv\"\n",
    "request_data2 =pd.read_csv(data_path2)"
   ]
  },
  {
   "cell_type": "code",
   "execution_count": null,
   "metadata": {},
   "outputs": [],
   "source": [
    "data.head()"
   ]
  },
  {
   "cell_type": "code",
   "execution_count": null,
   "metadata": {},
   "outputs": [],
   "source": [
    "#look at the number or rows and columns in the dataset\n",
    "print(data.shape)"
   ]
  },
  {
   "cell_type": "code",
   "execution_count": null,
   "metadata": {},
   "outputs": [],
   "source": []
  },
  {
   "cell_type": "code",
   "execution_count": null,
   "metadata": {},
   "outputs": [],
   "source": [
    "#check if there are any null values\n",
    "data.isnull().values.any()"
   ]
  },
  {
   "cell_type": "code",
   "execution_count": null,
   "metadata": {},
   "outputs": [],
   "source": [
    "#view all the columns that have null values\n",
    "null_columns=data.columns[data.isnull().any()]\n",
    "data[null_columns].isnull().sum()"
   ]
  },
  {
   "cell_type": "code",
   "execution_count": null,
   "metadata": {},
   "outputs": [],
   "source": [
    "#look at specific column that have nulls\n",
    "print(data[data[\"License #\"].isnull()][null_columns])"
   ]
  },
  {
   "cell_type": "code",
   "execution_count": null,
   "metadata": {},
   "outputs": [],
   "source": [
    "# filter the dataset by facility type =restaurant and look at its shape\n",
    "restaurant_data = data[data['Facility Type']==\"Restaurant\"]\n",
    "print(restaurant_data.shape)"
   ]
  },
  {
   "cell_type": "code",
   "execution_count": null,
   "metadata": {},
   "outputs": [],
   "source": [
    "restaurant_data.head()"
   ]
  },
  {
   "cell_type": "code",
   "execution_count": null,
   "metadata": {},
   "outputs": [],
   "source": [
    "# we want to keep just the restaurants where we know the location, so we keep just the rows where location is not NaN:\n",
    "restaurants_df = restaurant_data[restaurant_data['Location'].notna()]\n",
    "restaurants_df.head()"
   ]
  },
  {
   "cell_type": "code",
   "execution_count": null,
   "metadata": {},
   "outputs": [],
   "source": [
    "#find out how many unique zip codes we have in our dataset:\n",
    "len(restaurants_df['Zip'].unique().tolist())"
   ]
  },
  {
   "cell_type": "code",
   "execution_count": null,
   "metadata": {},
   "outputs": [],
   "source": [
    "#double-check there are no more null values in the \"location\" column\n",
    "null_columns=restaurants_df.columns[restaurants_df.isnull().any()]\n",
    "data[null_columns].isnull().sum()"
   ]
  },
  {
   "cell_type": "code",
   "execution_count": null,
   "metadata": {},
   "outputs": [],
   "source": [
    "# Export the restaurants data into a csv. i've comment this out because I don't want to save the file multiple times on my machine\n",
    "#restaurants_df.to_csv(\"Restaurants.csv\")"
   ]
  },
  {
   "cell_type": "code",
   "execution_count": null,
   "metadata": {},
   "outputs": [],
   "source": [
    "#look at how many unique restaurants, based on location\n",
    "len(restaurants_df['Location'].unique().tolist())"
   ]
  },
  {
   "cell_type": "code",
   "execution_count": null,
   "metadata": {},
   "outputs": [],
   "source": [
    "# eliminate restaurants that are \"out of business\" or \"business not located\"\n",
    "clean_data"
   ]
  },
  {
   "cell_type": "code",
   "execution_count": null,
   "metadata": {},
   "outputs": [],
   "source": []
  },
  {
   "cell_type": "code",
   "execution_count": null,
   "metadata": {},
   "outputs": [],
   "source": [
    "#find out how many unique restaurant locations we have in our dataset:\n",
    "len(clean_data['Location'].unique().tolist())"
   ]
  },
  {
   "cell_type": "code",
   "execution_count": null,
   "metadata": {},
   "outputs": [],
   "source": [
    "# Generate a bar plot showing the total number of restaurants for each Risk category \n",
    "\n",
    "#First, we use groupby \"risk category\" and count location to determine the data points\n",
    "risk_data_points = clean_data.groupby([\"Risk\"]).count()[\"Location\"]\n",
    "risk_data_points\n",
    "\n",
    "#Second, we plot the points\n",
    "risk_data_points.plot(kind=\"bar\", color=\"mediumvioletred\", figsize=(12,7))\n",
    "\n",
    "#Last, we set chart title and axis labels\n",
    "plt.title(\"Total number of restaurants per Risk category\")\n",
    "plt.xlabel(\"Risk category\")\n",
    "plt.ylabel(\"Number of restaurants\")\n",
    "\n",
    "#show chart and set layout\n",
    "plt.show()\n",
    "plt.tight_layout()"
   ]
  },
  {
   "cell_type": "code",
   "execution_count": null,
   "metadata": {},
   "outputs": [],
   "source": [
    "#We can see that most restaurants are at high risk. We can also confirm this from the data:\n",
    "clean_data['Risk'].value_counts()"
   ]
  },
  {
   "cell_type": "code",
   "execution_count": null,
   "metadata": {},
   "outputs": [],
   "source": [
    "#Next, we look at the results of the inspections\n",
    "\n",
    "#First, we use groupby \"Results\" and count location to determine the data points\n",
    "risk_data_points = clean_data.groupby([\"Results\"]).count()[\"Location\"]\n",
    "risk_data_points\n",
    "\n",
    "#Second, we plot the points\n",
    "risk_data_points.plot(kind=\"bar\", color=\"dodgerblue\", figsize=(12,7))\n",
    "\n",
    "#Last, we set chart title and axis labels\n",
    "plt.title(\"Results of the inspection\")\n",
    "plt.xlabel(\"Results\")\n",
    "plt.ylabel(\"Location\")\n",
    "\n",
    "#show chart and set layout\n",
    "plt.show()\n",
    "plt.tight_layout()"
   ]
  },
  {
   "cell_type": "code",
   "execution_count": null,
   "metadata": {},
   "outputs": [],
   "source": [
    "#confirm from the data:\n",
    "clean_data['Results'].value_counts()"
   ]
  },
  {
   "cell_type": "code",
   "execution_count": null,
   "metadata": {},
   "outputs": [],
   "source": []
  },
  {
   "cell_type": "code",
   "execution_count": null,
   "metadata": {},
   "outputs": [],
   "source": []
  },
  {
   "cell_type": "code",
   "execution_count": null,
   "metadata": {},
   "outputs": [],
   "source": []
  }
 ],
 "metadata": {
  "kernelspec": {
   "display_name": "Python 3",
   "language": "python",
   "name": "python3"
  },
  "language_info": {
   "codemirror_mode": {
    "name": "ipython",
    "version": 3
   },
   "file_extension": ".py",
   "mimetype": "text/x-python",
   "name": "python",
   "nbconvert_exporter": "python",
   "pygments_lexer": "ipython3",
   "version": "3.7.6"
  }
 },
 "nbformat": 4,
 "nbformat_minor": 4
}
