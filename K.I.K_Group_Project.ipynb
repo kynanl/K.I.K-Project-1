{
 "cells": [
  {
   "cell_type": "code",
   "execution_count": 11,
   "metadata": {},
   "outputs": [
    {
     "ename": "ModuleNotFoundError",
     "evalue": "No module named 'gmaps'",
     "output_type": "error",
     "traceback": [
      "\u001b[1;31m---------------------------------------------------------------------------\u001b[0m",
      "\u001b[1;31mModuleNotFoundError\u001b[0m                       Traceback (most recent call last)",
      "\u001b[1;32m<ipython-input-11-e9385b97b737>\u001b[0m in \u001b[0;36m<module>\u001b[1;34m\u001b[0m\n\u001b[0;32m      6\u001b[0m \u001b[1;32mfrom\u001b[0m \u001b[0msklearn\u001b[0m\u001b[1;33m.\u001b[0m\u001b[0mlinear_model\u001b[0m \u001b[1;32mimport\u001b[0m \u001b[0mLogisticRegression\u001b[0m\u001b[1;33m\u001b[0m\u001b[1;33m\u001b[0m\u001b[0m\n\u001b[0;32m      7\u001b[0m \u001b[1;32mfrom\u001b[0m \u001b[0msklearn\u001b[0m\u001b[1;33m.\u001b[0m\u001b[0mmetrics\u001b[0m \u001b[1;32mimport\u001b[0m \u001b[0mclassification_report\u001b[0m\u001b[1;33m,\u001b[0m \u001b[0mconfusion_matrix\u001b[0m\u001b[1;33m\u001b[0m\u001b[1;33m\u001b[0m\u001b[0m\n\u001b[1;32m----> 8\u001b[1;33m \u001b[1;32mimport\u001b[0m \u001b[0mgmaps\u001b[0m\u001b[1;33m\u001b[0m\u001b[1;33m\u001b[0m\u001b[0m\n\u001b[0m\u001b[0;32m      9\u001b[0m \u001b[1;32mfrom\u001b[0m \u001b[0msklearn\u001b[0m \u001b[1;32mimport\u001b[0m \u001b[0mpreprocessing\u001b[0m\u001b[1;33m\u001b[0m\u001b[1;33m\u001b[0m\u001b[0m\n\u001b[0;32m     10\u001b[0m \u001b[0mplt\u001b[0m\u001b[1;33m.\u001b[0m\u001b[0mrc\u001b[0m\u001b[1;33m(\u001b[0m\u001b[1;34m\"font\"\u001b[0m\u001b[1;33m,\u001b[0m \u001b[0msize\u001b[0m\u001b[1;33m=\u001b[0m\u001b[1;36m14\u001b[0m\u001b[1;33m)\u001b[0m\u001b[1;33m\u001b[0m\u001b[1;33m\u001b[0m\u001b[0m\n",
      "\u001b[1;31mModuleNotFoundError\u001b[0m: No module named 'gmaps'"
     ]
    }
   ],
   "source": [
    "import matplotlib.pyplot as plt\n",
    "import numpy as np\n",
    "import pandas as pd\n",
    "import scipy.stats as st\n",
    "from scipy.stats import linregress\n",
    "from sklearn.linear_model import LogisticRegression\n",
    "from sklearn.metrics import classification_report, confusion_matrix\n",
    "import gmaps\n",
    "from sklearn import preprocessing\n",
    "plt.rc(\"font\", size=14)\n",
    "from sklearn.model_selection import train_test_split\n",
    "import seaborn as sns\n",
    "sns.set(style=\"white\")\n",
    "sns.set(style=\"whitegrid\", color_codes=True)\n",
    "import statsmodels"
   ]
  },
  {
   "cell_type": "code",
   "execution_count": 12,
   "metadata": {},
   "outputs": [],
   "source": [
    "#import csv file\n",
    "data=pd.read_csv(\"Food_Inspections.csv\")"
   ]
  },
  {
   "cell_type": "code",
   "execution_count": 13,
   "metadata": {},
   "outputs": [
    {
     "data": {
      "text/html": [
       "<div>\n",
       "<style scoped>\n",
       "    .dataframe tbody tr th:only-of-type {\n",
       "        vertical-align: middle;\n",
       "    }\n",
       "\n",
       "    .dataframe tbody tr th {\n",
       "        vertical-align: top;\n",
       "    }\n",
       "\n",
       "    .dataframe thead th {\n",
       "        text-align: right;\n",
       "    }\n",
       "</style>\n",
       "<table border=\"1\" class=\"dataframe\">\n",
       "  <thead>\n",
       "    <tr style=\"text-align: right;\">\n",
       "      <th></th>\n",
       "      <th>Inspection ID</th>\n",
       "      <th>DBA Name</th>\n",
       "      <th>AKA Name</th>\n",
       "      <th>License #</th>\n",
       "      <th>Facility Type</th>\n",
       "      <th>Risk</th>\n",
       "      <th>Address</th>\n",
       "      <th>City</th>\n",
       "      <th>State</th>\n",
       "      <th>Zip</th>\n",
       "      <th>Inspection Date</th>\n",
       "      <th>Inspection Type</th>\n",
       "      <th>Results</th>\n",
       "      <th>Violations</th>\n",
       "      <th>Latitude</th>\n",
       "      <th>Longitude</th>\n",
       "      <th>Location</th>\n",
       "    </tr>\n",
       "  </thead>\n",
       "  <tbody>\n",
       "    <tr>\n",
       "      <th>0</th>\n",
       "      <td>2345928</td>\n",
       "      <td>ALBANY CHILD CARE CENTER</td>\n",
       "      <td>ALBANY CHILD CARE CENTER</td>\n",
       "      <td>2215697.0</td>\n",
       "      <td>Daycare Above and Under 2 Years</td>\n",
       "      <td>Risk 1 (High)</td>\n",
       "      <td>5954 S ALBANY AVE</td>\n",
       "      <td>CHICAGO</td>\n",
       "      <td>IL</td>\n",
       "      <td>60629.0</td>\n",
       "      <td>11/19/2019</td>\n",
       "      <td>Canvass</td>\n",
       "      <td>Pass</td>\n",
       "      <td>55. PHYSICAL FACILITIES INSTALLED, MAINTAINED ...</td>\n",
       "      <td>41.784667</td>\n",
       "      <td>-87.701011</td>\n",
       "      <td>(41.784667360966026, -87.7010111792713)</td>\n",
       "    </tr>\n",
       "    <tr>\n",
       "      <th>1</th>\n",
       "      <td>2240486</td>\n",
       "      <td>TAMALES EMMA LA CHAPARRITA</td>\n",
       "      <td>LA CHAPARRITA</td>\n",
       "      <td>2501598.0</td>\n",
       "      <td>Restaurant</td>\n",
       "      <td>Risk 1 (High)</td>\n",
       "      <td>2500 S WHIPPLE ST</td>\n",
       "      <td>CHICAGO</td>\n",
       "      <td>IL</td>\n",
       "      <td>60623.0</td>\n",
       "      <td>11/20/2018</td>\n",
       "      <td>Complaint</td>\n",
       "      <td>Fail</td>\n",
       "      <td>1. PERSON IN CHARGE PRESENT, DEMONSTRATES KNOW...</td>\n",
       "      <td>41.846288</td>\n",
       "      <td>-87.701562</td>\n",
       "      <td>(41.846287752477586, -87.70156191989919)</td>\n",
       "    </tr>\n",
       "    <tr>\n",
       "      <th>2</th>\n",
       "      <td>2078297</td>\n",
       "      <td>CHARTWELLS</td>\n",
       "      <td>MANSUETO HIGH SCHOOL</td>\n",
       "      <td>2549059.0</td>\n",
       "      <td>HIGH SCHOOL KITCHEN</td>\n",
       "      <td>Risk 1 (High)</td>\n",
       "      <td>2911 W W 47TH ST</td>\n",
       "      <td>CHICAGO</td>\n",
       "      <td>IL</td>\n",
       "      <td>60632.0</td>\n",
       "      <td>8/11/2017</td>\n",
       "      <td>License</td>\n",
       "      <td>Pass</td>\n",
       "      <td>NaN</td>\n",
       "      <td>NaN</td>\n",
       "      <td>NaN</td>\n",
       "      <td>NaN</td>\n",
       "    </tr>\n",
       "    <tr>\n",
       "      <th>3</th>\n",
       "      <td>2369894</td>\n",
       "      <td>JIMMY'S FOOD &amp; DELI,INC</td>\n",
       "      <td>JIMMY'S FOOD &amp; DELI</td>\n",
       "      <td>2511672.0</td>\n",
       "      <td>Grocery Store</td>\n",
       "      <td>Risk 2 (Medium)</td>\n",
       "      <td>5601 W MADISON ST</td>\n",
       "      <td>CHICAGO</td>\n",
       "      <td>IL</td>\n",
       "      <td>60644.0</td>\n",
       "      <td>4/29/2020</td>\n",
       "      <td>Canvass</td>\n",
       "      <td>Fail</td>\n",
       "      <td>3. MANAGEMENT, FOOD EMPLOYEE AND CONDITIONAL E...</td>\n",
       "      <td>41.880135</td>\n",
       "      <td>-87.764942</td>\n",
       "      <td>(41.880135062255434, -87.7649424467103)</td>\n",
       "    </tr>\n",
       "    <tr>\n",
       "      <th>4</th>\n",
       "      <td>2184537</td>\n",
       "      <td>MYSORE WOODLANDS</td>\n",
       "      <td>MYSORE WOODLANDS</td>\n",
       "      <td>2229409.0</td>\n",
       "      <td>Restaurant</td>\n",
       "      <td>Risk 1 (High)</td>\n",
       "      <td>2548-2550 W DEVON AVE</td>\n",
       "      <td>CHICAGO</td>\n",
       "      <td>IL</td>\n",
       "      <td>60659.0</td>\n",
       "      <td>7/12/2018</td>\n",
       "      <td>Canvass</td>\n",
       "      <td>Pass w/ Conditions</td>\n",
       "      <td>3. MANAGEMENT, FOOD EMPLOYEE AND CONDITIONAL E...</td>\n",
       "      <td>41.997765</td>\n",
       "      <td>-87.694284</td>\n",
       "      <td>(41.9977653535896, -87.69428406894727)</td>\n",
       "    </tr>\n",
       "  </tbody>\n",
       "</table>\n",
       "</div>"
      ],
      "text/plain": [
       "   Inspection ID                    DBA Name                  AKA Name  \\\n",
       "0        2345928    ALBANY CHILD CARE CENTER  ALBANY CHILD CARE CENTER   \n",
       "1        2240486  TAMALES EMMA LA CHAPARRITA             LA CHAPARRITA   \n",
       "2        2078297                  CHARTWELLS      MANSUETO HIGH SCHOOL   \n",
       "3        2369894     JIMMY'S FOOD & DELI,INC       JIMMY'S FOOD & DELI   \n",
       "4        2184537            MYSORE WOODLANDS          MYSORE WOODLANDS   \n",
       "\n",
       "   License #                    Facility Type             Risk  \\\n",
       "0  2215697.0  Daycare Above and Under 2 Years    Risk 1 (High)   \n",
       "1  2501598.0                       Restaurant    Risk 1 (High)   \n",
       "2  2549059.0              HIGH SCHOOL KITCHEN    Risk 1 (High)   \n",
       "3  2511672.0                    Grocery Store  Risk 2 (Medium)   \n",
       "4  2229409.0                       Restaurant    Risk 1 (High)   \n",
       "\n",
       "                 Address     City State      Zip Inspection Date  \\\n",
       "0      5954 S ALBANY AVE  CHICAGO    IL  60629.0      11/19/2019   \n",
       "1      2500 S WHIPPLE ST  CHICAGO    IL  60623.0      11/20/2018   \n",
       "2      2911 W W 47TH ST   CHICAGO    IL  60632.0       8/11/2017   \n",
       "3      5601 W MADISON ST  CHICAGO    IL  60644.0       4/29/2020   \n",
       "4  2548-2550 W DEVON AVE  CHICAGO    IL  60659.0       7/12/2018   \n",
       "\n",
       "  Inspection Type             Results  \\\n",
       "0         Canvass                Pass   \n",
       "1       Complaint                Fail   \n",
       "2         License                Pass   \n",
       "3         Canvass                Fail   \n",
       "4         Canvass  Pass w/ Conditions   \n",
       "\n",
       "                                          Violations   Latitude  Longitude  \\\n",
       "0  55. PHYSICAL FACILITIES INSTALLED, MAINTAINED ...  41.784667 -87.701011   \n",
       "1  1. PERSON IN CHARGE PRESENT, DEMONSTRATES KNOW...  41.846288 -87.701562   \n",
       "2                                                NaN        NaN        NaN   \n",
       "3  3. MANAGEMENT, FOOD EMPLOYEE AND CONDITIONAL E...  41.880135 -87.764942   \n",
       "4  3. MANAGEMENT, FOOD EMPLOYEE AND CONDITIONAL E...  41.997765 -87.694284   \n",
       "\n",
       "                                   Location  \n",
       "0   (41.784667360966026, -87.7010111792713)  \n",
       "1  (41.846287752477586, -87.70156191989919)  \n",
       "2                                       NaN  \n",
       "3   (41.880135062255434, -87.7649424467103)  \n",
       "4    (41.9977653535896, -87.69428406894727)  "
      ]
     },
     "execution_count": 13,
     "metadata": {},
     "output_type": "execute_result"
    }
   ],
   "source": [
    "data.head()"
   ]
  },
  {
   "cell_type": "code",
   "execution_count": 14,
   "metadata": {
    "tags": []
   },
   "outputs": [
    {
     "name": "stdout",
     "output_type": "stream",
     "text": [
      "(208254, 17)\n"
     ]
    }
   ],
   "source": [
    "#number or rows and columns in the dataset\n",
    "print(data.shape)"
   ]
  },
  {
   "cell_type": "code",
   "execution_count": 15,
   "metadata": {},
   "outputs": [
    {
     "data": {
      "text/plain": [
       "True"
      ]
     },
     "execution_count": 15,
     "metadata": {},
     "output_type": "execute_result"
    }
   ],
   "source": [
    "#check if there are any null values\n",
    "data.isnull().values.any()"
   ]
  },
  {
   "cell_type": "code",
   "execution_count": 16,
   "metadata": {},
   "outputs": [
    {
     "data": {
      "text/plain": [
       "AKA Name            2479\n",
       "License #             17\n",
       "Facility Type       4861\n",
       "Risk                  73\n",
       "City                 150\n",
       "State                 48\n",
       "Zip                   50\n",
       "Inspection Type        1\n",
       "Violations         55325\n",
       "Latitude             688\n",
       "Longitude            688\n",
       "Location             688\n",
       "dtype: int64"
      ]
     },
     "execution_count": 16,
     "metadata": {},
     "output_type": "execute_result"
    }
   ],
   "source": [
    "#view all the columns that have null values\n",
    "null_columns=data.columns[data.isnull().any()]\n",
    "data[null_columns].isnull().sum()"
   ]
  },
  {
   "cell_type": "code",
   "execution_count": 17,
   "metadata": {
    "tags": []
   },
   "outputs": [
    {
     "name": "stdout",
     "output_type": "stream",
     "text": [
      "                               AKA Name  License #  \\\n",
      "18504              ST. DEMETRIOS CHURCH        NaN   \n",
      "34322              ST. DEMETRIOS CHURCH        NaN   \n",
      "44385              ST. DEMETRIOS CHURCH        NaN   \n",
      "46658   GOD'S BATTLE AXE PRAYER ACADEMY        NaN   \n",
      "46802                   ARGENTINA FOODS        NaN   \n",
      "58588              ST. DEMETRIOS CHURCH        NaN   \n",
      "87997   GOD'S BATTLE AXE PRAYER ACADEMY        NaN   \n",
      "99520              ST. DEMETRIOS CHURCH        NaN   \n",
      "115407         OLD ST. PATRICK'S CHURCH        NaN   \n",
      "131995                              NaN        NaN   \n",
      "151006         OLD ST. PATRICK'S CHURCH        NaN   \n",
      "152958             ST. DEMETRIOS CHURCH        NaN   \n",
      "156206  GOD'S BATTLE AXE PRAYER ACADEMY        NaN   \n",
      "173769                              NaN        NaN   \n",
      "182102             ST. DEMETRIOS CHURCH        NaN   \n",
      "184207             ST. DEMETRIOS CHURCH        NaN   \n",
      "192512             ST. DEMETRIOS CHURCH        NaN   \n",
      "\n",
      "                      Facility Type             Risk     City State      Zip  \\\n",
      "18504                 Special Event  Risk 2 (Medium)  CHICAGO    IL  60625.0   \n",
      "34322                 Special Event  Risk 2 (Medium)  CHICAGO    IL  60625.0   \n",
      "44385                 Special Event  Risk 2 (Medium)  CHICAGO    IL  60625.0   \n",
      "46658               CHURCH/DAY CARE    Risk 1 (High)  CHICAGO    IL  60645.0   \n",
      "46802                 Grocery Store  Risk 2 (Medium)  CHICAGO    IL  60609.0   \n",
      "58588                 Special Event  Risk 2 (Medium)  CHICAGO    IL  60625.0   \n",
      "87997               CHURCH/DAY CARE    Risk 1 (High)  CHICAGO    IL  60645.0   \n",
      "99520                 Special Event  Risk 2 (Medium)  CHICAGO    IL  60625.0   \n",
      "115407                       Church  Risk 2 (Medium)  CHICAGO    IL  60661.0   \n",
      "131995  CHURCH/AFTER SCHOOL PROGRAM    Risk 1 (High)  CHICAGO    IL  60619.0   \n",
      "151006                       Church  Risk 2 (Medium)  CHICAGO    IL  60661.0   \n",
      "152958                Special Event  Risk 2 (Medium)  CHICAGO    IL  60625.0   \n",
      "156206              CHURCH/DAY CARE    Risk 1 (High)  CHICAGO    IL  60645.0   \n",
      "173769                Special Event    Risk 1 (High)  CHICAGO    IL  60625.0   \n",
      "182102                Special Event  Risk 2 (Medium)  CHICAGO    IL  60625.0   \n",
      "184207                Special Event  Risk 2 (Medium)  CHICAGO    IL  60625.0   \n",
      "192512                Special Event  Risk 2 (Medium)  CHICAGO    IL  60625.0   \n",
      "\n",
      "                   Inspection Type  \\\n",
      "18504                      Canvass   \n",
      "34322                      Canvass   \n",
      "44385                      Canvass   \n",
      "46658                      Canvass   \n",
      "46802                      Canvass   \n",
      "58588                      Canvass   \n",
      "87997        Canvass Re-Inspection   \n",
      "99520                      Canvass   \n",
      "115407  Special Events (Festivals)   \n",
      "131995        Short Form Complaint   \n",
      "151006  Special Events (Festivals)   \n",
      "152958                     Canvass   \n",
      "156206       Canvass Re-Inspection   \n",
      "173769  Special Events (Festivals)   \n",
      "182102                     Canvass   \n",
      "184207                     Canvass   \n",
      "192512                     Canvass   \n",
      "\n",
      "                                               Violations   Latitude  \\\n",
      "18504                                                 NaN  41.974653   \n",
      "34322   3. MANAGEMENT, FOOD EMPLOYEE AND CONDITIONAL E...  41.974653   \n",
      "44385                                                 NaN  41.974653   \n",
      "46658   11. ADEQUATE NUMBER, CONVENIENT, ACCESSIBLE, D...  42.008303   \n",
      "46802                                                 NaN  41.812105   \n",
      "58588   32. FOOD AND NON-FOOD CONTACT SURFACES PROPERL...  41.974653   \n",
      "87997                                                 NaN  42.008303   \n",
      "99520   33. FOOD AND NON-FOOD CONTACT EQUIPMENT UTENSI...  41.974653   \n",
      "115407  33. FOOD AND NON-FOOD CONTACT EQUIPMENT UTENSI...  41.879367   \n",
      "131995                                                NaN  41.747711   \n",
      "151006  34. FLOORS: CONSTRUCTED PER CODE, CLEANED, GOO...  41.879367   \n",
      "152958  38. VENTILATION: ROOMS AND EQUIPMENT VENTED AS...  41.974653   \n",
      "156206  9. WATER SOURCE: SAFE, HOT & COLD UNDER CITY P...  42.008303   \n",
      "173769  32. FOOD AND NON-FOOD CONTACT SURFACES PROPERL...  41.974653   \n",
      "182102  32. FOOD AND NON-FOOD CONTACT SURFACES PROPERL...  41.974653   \n",
      "184207  32. FOOD AND NON-FOOD CONTACT SURFACES PROPERL...  41.974653   \n",
      "192512  33. FOOD AND NON-FOOD CONTACT EQUIPMENT UTENSI...  41.974653   \n",
      "\n",
      "        Longitude                                  Location  \n",
      "18504  -87.697529  (41.974653353169366, -87.69752945714046)  \n",
      "34322  -87.697529  (41.974653353169366, -87.69752945714046)  \n",
      "44385  -87.697529  (41.974653353169366, -87.69752945714046)  \n",
      "46658  -87.690005  (42.008303130687445, -87.69000508529592)  \n",
      "46802  -87.670072   (41.81210515297724, -87.67007183351623)  \n",
      "58588  -87.697529  (41.974653353169366, -87.69752945714046)  \n",
      "87997  -87.690005  (42.008303130687445, -87.69000508529592)  \n",
      "99520  -87.697529  (41.974653353169366, -87.69752945714046)  \n",
      "115407 -87.644105   (41.87936739625875, -87.64410546134096)  \n",
      "131995 -87.589539     (41.7477112449663, -87.5895386579929)  \n",
      "151006 -87.644105   (41.87936739625875, -87.64410546134096)  \n",
      "152958 -87.697529  (41.974653353169366, -87.69752945714046)  \n",
      "156206 -87.690005  (42.008303130687445, -87.69000508529592)  \n",
      "173769 -87.697529  (41.974653353169366, -87.69752945714046)  \n",
      "182102 -87.697529  (41.974653353169366, -87.69752945714046)  \n",
      "184207 -87.697529  (41.974653353169366, -87.69752945714046)  \n",
      "192512 -87.697529  (41.974653353169366, -87.69752945714046)  \n"
     ]
    }
   ],
   "source": [
    "#look at specific column that have nulls\n",
    "print(data[data[\"License #\"].isnull()][null_columns])"
   ]
  },
  {
   "cell_type": "code",
   "execution_count": 18,
   "metadata": {
    "tags": []
   },
   "outputs": [
    {
     "name": "stdout",
     "output_type": "stream",
     "text": [
      "(138590, 17)\n"
     ]
    }
   ],
   "source": [
    "# filter the dataset by facility type =restaurant and look at its shape\n",
    "restaurant_data = data[data['Facility Type']==\"Restaurant\"]\n",
    "print(restaurant_data.shape)"
   ]
  },
  {
   "cell_type": "code",
   "execution_count": 19,
   "metadata": {},
   "outputs": [
    {
     "data": {
      "text/html": [
       "<div>\n",
       "<style scoped>\n",
       "    .dataframe tbody tr th:only-of-type {\n",
       "        vertical-align: middle;\n",
       "    }\n",
       "\n",
       "    .dataframe tbody tr th {\n",
       "        vertical-align: top;\n",
       "    }\n",
       "\n",
       "    .dataframe thead th {\n",
       "        text-align: right;\n",
       "    }\n",
       "</style>\n",
       "<table border=\"1\" class=\"dataframe\">\n",
       "  <thead>\n",
       "    <tr style=\"text-align: right;\">\n",
       "      <th></th>\n",
       "      <th>Inspection ID</th>\n",
       "      <th>DBA Name</th>\n",
       "      <th>AKA Name</th>\n",
       "      <th>License #</th>\n",
       "      <th>Facility Type</th>\n",
       "      <th>Risk</th>\n",
       "      <th>Address</th>\n",
       "      <th>City</th>\n",
       "      <th>State</th>\n",
       "      <th>Zip</th>\n",
       "      <th>Inspection Date</th>\n",
       "      <th>Inspection Type</th>\n",
       "      <th>Results</th>\n",
       "      <th>Violations</th>\n",
       "      <th>Latitude</th>\n",
       "      <th>Longitude</th>\n",
       "      <th>Location</th>\n",
       "    </tr>\n",
       "  </thead>\n",
       "  <tbody>\n",
       "    <tr>\n",
       "      <th>1</th>\n",
       "      <td>2240486</td>\n",
       "      <td>TAMALES EMMA LA CHAPARRITA</td>\n",
       "      <td>LA CHAPARRITA</td>\n",
       "      <td>2501598.0</td>\n",
       "      <td>Restaurant</td>\n",
       "      <td>Risk 1 (High)</td>\n",
       "      <td>2500 S WHIPPLE ST</td>\n",
       "      <td>CHICAGO</td>\n",
       "      <td>IL</td>\n",
       "      <td>60623.0</td>\n",
       "      <td>11/20/2018</td>\n",
       "      <td>Complaint</td>\n",
       "      <td>Fail</td>\n",
       "      <td>1. PERSON IN CHARGE PRESENT, DEMONSTRATES KNOW...</td>\n",
       "      <td>41.846288</td>\n",
       "      <td>-87.701562</td>\n",
       "      <td>(41.846287752477586, -87.70156191989919)</td>\n",
       "    </tr>\n",
       "    <tr>\n",
       "      <th>4</th>\n",
       "      <td>2184537</td>\n",
       "      <td>MYSORE WOODLANDS</td>\n",
       "      <td>MYSORE WOODLANDS</td>\n",
       "      <td>2229409.0</td>\n",
       "      <td>Restaurant</td>\n",
       "      <td>Risk 1 (High)</td>\n",
       "      <td>2548-2550 W DEVON AVE</td>\n",
       "      <td>CHICAGO</td>\n",
       "      <td>IL</td>\n",
       "      <td>60659.0</td>\n",
       "      <td>7/12/2018</td>\n",
       "      <td>Canvass</td>\n",
       "      <td>Pass w/ Conditions</td>\n",
       "      <td>3. MANAGEMENT, FOOD EMPLOYEE AND CONDITIONAL E...</td>\n",
       "      <td>41.997765</td>\n",
       "      <td>-87.694284</td>\n",
       "      <td>(41.9977653535896, -87.69428406894727)</td>\n",
       "    </tr>\n",
       "    <tr>\n",
       "      <th>8</th>\n",
       "      <td>2240666</td>\n",
       "      <td>ORANGE GARDEN RESTAURANT LLC</td>\n",
       "      <td>ORANGE GARDEN RESTAURANT LLC</td>\n",
       "      <td>1942679.0</td>\n",
       "      <td>Restaurant</td>\n",
       "      <td>Risk 1 (High)</td>\n",
       "      <td>1942 W IRVING PARK RD</td>\n",
       "      <td>CHICAGO</td>\n",
       "      <td>IL</td>\n",
       "      <td>60613.0</td>\n",
       "      <td>11/27/2018</td>\n",
       "      <td>Canvass</td>\n",
       "      <td>Pass w/ Conditions</td>\n",
       "      <td>3. MANAGEMENT, FOOD EMPLOYEE AND CONDITIONAL E...</td>\n",
       "      <td>41.954276</td>\n",
       "      <td>-87.678033</td>\n",
       "      <td>(41.954276019666246, -87.6780332991192)</td>\n",
       "    </tr>\n",
       "    <tr>\n",
       "      <th>9</th>\n",
       "      <td>2280082</td>\n",
       "      <td>BEERHEAD BAR &amp; EATERY</td>\n",
       "      <td>BEERHEAD BAR &amp; EATERY</td>\n",
       "      <td>2600994.0</td>\n",
       "      <td>Restaurant</td>\n",
       "      <td>Risk 1 (High)</td>\n",
       "      <td>3519 N CLARK ST</td>\n",
       "      <td>CHICAGO</td>\n",
       "      <td>IL</td>\n",
       "      <td>60657.0</td>\n",
       "      <td>3/26/2019</td>\n",
       "      <td>License</td>\n",
       "      <td>Pass</td>\n",
       "      <td>55. PHYSICAL FACILITIES INSTALLED, MAINTAINED ...</td>\n",
       "      <td>41.946281</td>\n",
       "      <td>-87.655603</td>\n",
       "      <td>(41.94628081101039, -87.65560312808297)</td>\n",
       "    </tr>\n",
       "    <tr>\n",
       "      <th>10</th>\n",
       "      <td>2370625</td>\n",
       "      <td>THE CREPE SHOP</td>\n",
       "      <td>THE CREPE SHOP</td>\n",
       "      <td>2699005.0</td>\n",
       "      <td>Restaurant</td>\n",
       "      <td>Risk 1 (High)</td>\n",
       "      <td>2934 N BROADWAY</td>\n",
       "      <td>CHICAGO</td>\n",
       "      <td>IL</td>\n",
       "      <td>60657.0</td>\n",
       "      <td>5/15/2020</td>\n",
       "      <td>Canvass</td>\n",
       "      <td>Pass</td>\n",
       "      <td>37. FOOD PROPERLY LABELED; ORIGINAL CONTAINER ...</td>\n",
       "      <td>41.935930</td>\n",
       "      <td>-87.644407</td>\n",
       "      <td>(41.93592957402078, -87.64440716256712)</td>\n",
       "    </tr>\n",
       "  </tbody>\n",
       "</table>\n",
       "</div>"
      ],
      "text/plain": [
       "    Inspection ID                      DBA Name                      AKA Name  \\\n",
       "1         2240486    TAMALES EMMA LA CHAPARRITA                 LA CHAPARRITA   \n",
       "4         2184537              MYSORE WOODLANDS              MYSORE WOODLANDS   \n",
       "8         2240666  ORANGE GARDEN RESTAURANT LLC  ORANGE GARDEN RESTAURANT LLC   \n",
       "9         2280082         BEERHEAD BAR & EATERY         BEERHEAD BAR & EATERY   \n",
       "10        2370625                THE CREPE SHOP                THE CREPE SHOP   \n",
       "\n",
       "    License # Facility Type           Risk                Address     City  \\\n",
       "1   2501598.0    Restaurant  Risk 1 (High)      2500 S WHIPPLE ST  CHICAGO   \n",
       "4   2229409.0    Restaurant  Risk 1 (High)  2548-2550 W DEVON AVE  CHICAGO   \n",
       "8   1942679.0    Restaurant  Risk 1 (High)  1942 W IRVING PARK RD  CHICAGO   \n",
       "9   2600994.0    Restaurant  Risk 1 (High)        3519 N CLARK ST  CHICAGO   \n",
       "10  2699005.0    Restaurant  Risk 1 (High)        2934 N BROADWAY  CHICAGO   \n",
       "\n",
       "   State      Zip Inspection Date Inspection Type             Results  \\\n",
       "1     IL  60623.0      11/20/2018       Complaint                Fail   \n",
       "4     IL  60659.0       7/12/2018         Canvass  Pass w/ Conditions   \n",
       "8     IL  60613.0      11/27/2018         Canvass  Pass w/ Conditions   \n",
       "9     IL  60657.0       3/26/2019         License                Pass   \n",
       "10    IL  60657.0       5/15/2020         Canvass                Pass   \n",
       "\n",
       "                                           Violations   Latitude  Longitude  \\\n",
       "1   1. PERSON IN CHARGE PRESENT, DEMONSTRATES KNOW...  41.846288 -87.701562   \n",
       "4   3. MANAGEMENT, FOOD EMPLOYEE AND CONDITIONAL E...  41.997765 -87.694284   \n",
       "8   3. MANAGEMENT, FOOD EMPLOYEE AND CONDITIONAL E...  41.954276 -87.678033   \n",
       "9   55. PHYSICAL FACILITIES INSTALLED, MAINTAINED ...  41.946281 -87.655603   \n",
       "10  37. FOOD PROPERLY LABELED; ORIGINAL CONTAINER ...  41.935930 -87.644407   \n",
       "\n",
       "                                    Location  \n",
       "1   (41.846287752477586, -87.70156191989919)  \n",
       "4     (41.9977653535896, -87.69428406894727)  \n",
       "8    (41.954276019666246, -87.6780332991192)  \n",
       "9    (41.94628081101039, -87.65560312808297)  \n",
       "10   (41.93592957402078, -87.64440716256712)  "
      ]
     },
     "execution_count": 19,
     "metadata": {},
     "output_type": "execute_result"
    }
   ],
   "source": [
    "restaurant_data.head()"
   ]
  },
  {
   "cell_type": "code",
   "execution_count": 20,
   "metadata": {},
   "outputs": [
    {
     "data": {
      "text/html": [
       "<div>\n",
       "<style scoped>\n",
       "    .dataframe tbody tr th:only-of-type {\n",
       "        vertical-align: middle;\n",
       "    }\n",
       "\n",
       "    .dataframe tbody tr th {\n",
       "        vertical-align: top;\n",
       "    }\n",
       "\n",
       "    .dataframe thead th {\n",
       "        text-align: right;\n",
       "    }\n",
       "</style>\n",
       "<table border=\"1\" class=\"dataframe\">\n",
       "  <thead>\n",
       "    <tr style=\"text-align: right;\">\n",
       "      <th></th>\n",
       "      <th>Inspection ID</th>\n",
       "      <th>DBA Name</th>\n",
       "      <th>AKA Name</th>\n",
       "      <th>License #</th>\n",
       "      <th>Facility Type</th>\n",
       "      <th>Risk</th>\n",
       "      <th>Address</th>\n",
       "      <th>City</th>\n",
       "      <th>State</th>\n",
       "      <th>Zip</th>\n",
       "      <th>Inspection Date</th>\n",
       "      <th>Inspection Type</th>\n",
       "      <th>Results</th>\n",
       "      <th>Violations</th>\n",
       "      <th>Latitude</th>\n",
       "      <th>Longitude</th>\n",
       "      <th>Location</th>\n",
       "    </tr>\n",
       "  </thead>\n",
       "  <tbody>\n",
       "    <tr>\n",
       "      <th>1</th>\n",
       "      <td>2240486</td>\n",
       "      <td>TAMALES EMMA LA CHAPARRITA</td>\n",
       "      <td>LA CHAPARRITA</td>\n",
       "      <td>2501598.0</td>\n",
       "      <td>Restaurant</td>\n",
       "      <td>Risk 1 (High)</td>\n",
       "      <td>2500 S WHIPPLE ST</td>\n",
       "      <td>CHICAGO</td>\n",
       "      <td>IL</td>\n",
       "      <td>60623.0</td>\n",
       "      <td>11/20/2018</td>\n",
       "      <td>Complaint</td>\n",
       "      <td>Fail</td>\n",
       "      <td>1. PERSON IN CHARGE PRESENT, DEMONSTRATES KNOW...</td>\n",
       "      <td>41.846288</td>\n",
       "      <td>-87.701562</td>\n",
       "      <td>(41.846287752477586, -87.70156191989919)</td>\n",
       "    </tr>\n",
       "    <tr>\n",
       "      <th>4</th>\n",
       "      <td>2184537</td>\n",
       "      <td>MYSORE WOODLANDS</td>\n",
       "      <td>MYSORE WOODLANDS</td>\n",
       "      <td>2229409.0</td>\n",
       "      <td>Restaurant</td>\n",
       "      <td>Risk 1 (High)</td>\n",
       "      <td>2548-2550 W DEVON AVE</td>\n",
       "      <td>CHICAGO</td>\n",
       "      <td>IL</td>\n",
       "      <td>60659.0</td>\n",
       "      <td>7/12/2018</td>\n",
       "      <td>Canvass</td>\n",
       "      <td>Pass w/ Conditions</td>\n",
       "      <td>3. MANAGEMENT, FOOD EMPLOYEE AND CONDITIONAL E...</td>\n",
       "      <td>41.997765</td>\n",
       "      <td>-87.694284</td>\n",
       "      <td>(41.9977653535896, -87.69428406894727)</td>\n",
       "    </tr>\n",
       "    <tr>\n",
       "      <th>8</th>\n",
       "      <td>2240666</td>\n",
       "      <td>ORANGE GARDEN RESTAURANT LLC</td>\n",
       "      <td>ORANGE GARDEN RESTAURANT LLC</td>\n",
       "      <td>1942679.0</td>\n",
       "      <td>Restaurant</td>\n",
       "      <td>Risk 1 (High)</td>\n",
       "      <td>1942 W IRVING PARK RD</td>\n",
       "      <td>CHICAGO</td>\n",
       "      <td>IL</td>\n",
       "      <td>60613.0</td>\n",
       "      <td>11/27/2018</td>\n",
       "      <td>Canvass</td>\n",
       "      <td>Pass w/ Conditions</td>\n",
       "      <td>3. MANAGEMENT, FOOD EMPLOYEE AND CONDITIONAL E...</td>\n",
       "      <td>41.954276</td>\n",
       "      <td>-87.678033</td>\n",
       "      <td>(41.954276019666246, -87.6780332991192)</td>\n",
       "    </tr>\n",
       "    <tr>\n",
       "      <th>9</th>\n",
       "      <td>2280082</td>\n",
       "      <td>BEERHEAD BAR &amp; EATERY</td>\n",
       "      <td>BEERHEAD BAR &amp; EATERY</td>\n",
       "      <td>2600994.0</td>\n",
       "      <td>Restaurant</td>\n",
       "      <td>Risk 1 (High)</td>\n",
       "      <td>3519 N CLARK ST</td>\n",
       "      <td>CHICAGO</td>\n",
       "      <td>IL</td>\n",
       "      <td>60657.0</td>\n",
       "      <td>3/26/2019</td>\n",
       "      <td>License</td>\n",
       "      <td>Pass</td>\n",
       "      <td>55. PHYSICAL FACILITIES INSTALLED, MAINTAINED ...</td>\n",
       "      <td>41.946281</td>\n",
       "      <td>-87.655603</td>\n",
       "      <td>(41.94628081101039, -87.65560312808297)</td>\n",
       "    </tr>\n",
       "    <tr>\n",
       "      <th>10</th>\n",
       "      <td>2370625</td>\n",
       "      <td>THE CREPE SHOP</td>\n",
       "      <td>THE CREPE SHOP</td>\n",
       "      <td>2699005.0</td>\n",
       "      <td>Restaurant</td>\n",
       "      <td>Risk 1 (High)</td>\n",
       "      <td>2934 N BROADWAY</td>\n",
       "      <td>CHICAGO</td>\n",
       "      <td>IL</td>\n",
       "      <td>60657.0</td>\n",
       "      <td>5/15/2020</td>\n",
       "      <td>Canvass</td>\n",
       "      <td>Pass</td>\n",
       "      <td>37. FOOD PROPERLY LABELED; ORIGINAL CONTAINER ...</td>\n",
       "      <td>41.935930</td>\n",
       "      <td>-87.644407</td>\n",
       "      <td>(41.93592957402078, -87.64440716256712)</td>\n",
       "    </tr>\n",
       "  </tbody>\n",
       "</table>\n",
       "</div>"
      ],
      "text/plain": [
       "    Inspection ID                      DBA Name                      AKA Name  \\\n",
       "1         2240486    TAMALES EMMA LA CHAPARRITA                 LA CHAPARRITA   \n",
       "4         2184537              MYSORE WOODLANDS              MYSORE WOODLANDS   \n",
       "8         2240666  ORANGE GARDEN RESTAURANT LLC  ORANGE GARDEN RESTAURANT LLC   \n",
       "9         2280082         BEERHEAD BAR & EATERY         BEERHEAD BAR & EATERY   \n",
       "10        2370625                THE CREPE SHOP                THE CREPE SHOP   \n",
       "\n",
       "    License # Facility Type           Risk                Address     City  \\\n",
       "1   2501598.0    Restaurant  Risk 1 (High)      2500 S WHIPPLE ST  CHICAGO   \n",
       "4   2229409.0    Restaurant  Risk 1 (High)  2548-2550 W DEVON AVE  CHICAGO   \n",
       "8   1942679.0    Restaurant  Risk 1 (High)  1942 W IRVING PARK RD  CHICAGO   \n",
       "9   2600994.0    Restaurant  Risk 1 (High)        3519 N CLARK ST  CHICAGO   \n",
       "10  2699005.0    Restaurant  Risk 1 (High)        2934 N BROADWAY  CHICAGO   \n",
       "\n",
       "   State      Zip Inspection Date Inspection Type             Results  \\\n",
       "1     IL  60623.0      11/20/2018       Complaint                Fail   \n",
       "4     IL  60659.0       7/12/2018         Canvass  Pass w/ Conditions   \n",
       "8     IL  60613.0      11/27/2018         Canvass  Pass w/ Conditions   \n",
       "9     IL  60657.0       3/26/2019         License                Pass   \n",
       "10    IL  60657.0       5/15/2020         Canvass                Pass   \n",
       "\n",
       "                                           Violations   Latitude  Longitude  \\\n",
       "1   1. PERSON IN CHARGE PRESENT, DEMONSTRATES KNOW...  41.846288 -87.701562   \n",
       "4   3. MANAGEMENT, FOOD EMPLOYEE AND CONDITIONAL E...  41.997765 -87.694284   \n",
       "8   3. MANAGEMENT, FOOD EMPLOYEE AND CONDITIONAL E...  41.954276 -87.678033   \n",
       "9   55. PHYSICAL FACILITIES INSTALLED, MAINTAINED ...  41.946281 -87.655603   \n",
       "10  37. FOOD PROPERLY LABELED; ORIGINAL CONTAINER ...  41.935930 -87.644407   \n",
       "\n",
       "                                    Location  \n",
       "1   (41.846287752477586, -87.70156191989919)  \n",
       "4     (41.9977653535896, -87.69428406894727)  \n",
       "8    (41.954276019666246, -87.6780332991192)  \n",
       "9    (41.94628081101039, -87.65560312808297)  \n",
       "10   (41.93592957402078, -87.64440716256712)  "
      ]
     },
     "execution_count": 20,
     "metadata": {},
     "output_type": "execute_result"
    }
   ],
   "source": [
    "# we want to keep just the restaurants where we know the location, so we drop the rows where location is NaN:\n",
    "restaurants_df = restaurant_data[restaurant_data['Location'].notna()]\n",
    "restaurants_df.head()"
   ]
  },
  {
   "cell_type": "code",
   "execution_count": 21,
   "metadata": {},
   "outputs": [
    {
     "data": {
      "text/plain": [
       "60"
      ]
     },
     "execution_count": 21,
     "metadata": {},
     "output_type": "execute_result"
    }
   ],
   "source": [
    "#number of unique zip codes in the dataset:\n",
    "len(restaurants_df['Zip'].unique().tolist())"
   ]
  },
  {
   "cell_type": "code",
   "execution_count": 22,
   "metadata": {},
   "outputs": [
    {
     "data": {
      "text/plain": [
       "AKA Name            2479\n",
       "Risk                  73\n",
       "City                 150\n",
       "State                 48\n",
       "Zip                   50\n",
       "Inspection Type        1\n",
       "Violations         55325\n",
       "dtype: int64"
      ]
     },
     "execution_count": 22,
     "metadata": {},
     "output_type": "execute_result"
    }
   ],
   "source": [
    "#make sure there are no more null values in the \"location\" column\n",
    "null_columns=restaurants_df.columns[restaurants_df.isnull().any()]\n",
    "data[null_columns].isnull().sum()"
   ]
  },
  {
   "cell_type": "code",
   "execution_count": 23,
   "metadata": {},
   "outputs": [
    {
     "data": {
      "text/plain": [
       "9523"
      ]
     },
     "execution_count": 23,
     "metadata": {},
     "output_type": "execute_result"
    }
   ],
   "source": [
    "#how many unique restaurants we have in the data based on location:\n",
    "len(restaurants_df['Location'].unique().tolist())"
   ]
  },
  {
   "cell_type": "code",
   "execution_count": 24,
   "metadata": {},
   "outputs": [],
   "source": [
    "# eliminate restaurants that are \"out of business\" or \"business not located\":\n",
    "clean_data=restaurants_df[(restaurants_df['Results'] != 'Out of Business') & (restaurants_df['Results'] != 'Business Not Located')]"
   ]
  },
  {
   "cell_type": "code",
   "execution_count": 25,
   "metadata": {},
   "outputs": [
    {
     "data": {
      "text/plain": [
       "9380"
      ]
     },
     "execution_count": 25,
     "metadata": {},
     "output_type": "execute_result"
    }
   ],
   "source": [
    "#find out how many unique restaurant locations we have in our dataset after the drop:\n",
    "len(clean_data['Location'].unique().tolist())"
   ]
  },
  {
   "cell_type": "code",
   "execution_count": 26,
   "metadata": {},
   "outputs": [
    {
     "data": {
      "image/png": "[encoded data removed]",
      "text/plain": [
       "<Figure size 864x504 with 1 Axes>"
      ]
     },
     "metadata": {
      "needs_background": "light"
     },
     "output_type": "display_data"
    },
    {
     "data": {
      "text/plain": [
       "<Figure size 432x288 with 0 Axes>"
      ]
     },
     "metadata": {},
     "output_type": "display_data"
    }
   ],
   "source": [
    "# Generate a bar plot showing the total number of restaurants for each Risk category \n",
    "\n",
    "#First, we use groupby \"risk category\" and count location to determine the data points\n",
    "risk_data_points = clean_data.groupby([\"Risk\"]).count()[\"Location\"]\n",
    "risk_data_points\n",
    "\n",
    "#Second, we plot the points\n",
    "risk_data_points.plot(kind=\"bar\", color=\"mediumvioletred\", figsize=(12,7))\n",
    "\n",
    "#Last, we set chart title and axis labels\n",
    "plt.title(\"Total number of restaurants per Risk category\")\n",
    "plt.xlabel(\"Risk category\")\n",
    "plt.ylabel(\"Number of restaurants\")\n",
    "\n",
    "#show chart and set layout\n",
    "plt.show()\n",
    "plt.tight_layout()"
   ]
  },
  {
   "cell_type": "code",
   "execution_count": 27,
   "metadata": {},
   "outputs": [
    {
     "data": {
      "text/plain": [
       "Risk 1 (High)      103971\n",
       "Risk 2 (Medium)     23467\n",
       "Risk 3 (Low)         1350\n",
       "All                     8\n",
       "Name: Risk, dtype: int64"
      ]
     },
     "execution_count": 27,
     "metadata": {},
     "output_type": "execute_result"
    }
   ],
   "source": [
    "#We can see that most restaurants are at high risk. We can also confirm this from the data:\n",
    "clean_data['Risk'].value_counts()"
   ]
  },
  {
   "cell_type": "code",
   "execution_count": 28,
   "metadata": {},
   "outputs": [
    {
     "data": {
      "image/png": "[encoded data removed]",
      "text/plain": [
       "<Figure size 864x504 with 1 Axes>"
      ]
     },
     "metadata": {
      "needs_background": "light"
     },
     "output_type": "display_data"
    },
    {
     "data": {
      "text/plain": [
       "<Figure size 432x288 with 0 Axes>"
      ]
     },
     "metadata": {},
     "output_type": "display_data"
    }
   ],
   "source": [
    "#Next, we look at the results of the inspections\n",
    "\n",
    "#First, we use groupby \"Results\" and count location to determine the data points\n",
    "risk_data_points = clean_data.groupby([\"Results\"]).count()[\"Location\"]\n",
    "risk_data_points\n",
    "\n",
    "#Second, we plot the points\n",
    "risk_data_points.plot(kind=\"bar\", color=\"dodgerblue\", figsize=(12,7))\n",
    "\n",
    "#Last, we set chart title and axis labels\n",
    "plt.title(\"Results of the inspection\")\n",
    "plt.xlabel(\"Results\")\n",
    "plt.ylabel(\"Number of restaurants\")\n",
    "\n",
    "#show chart and set layout\n",
    "plt.show()\n",
    "plt.tight_layout()"
   ]
  },
  {
   "cell_type": "code",
   "execution_count": 29,
   "metadata": {},
   "outputs": [
    {
     "data": {
      "text/plain": [
       "Pass                  72792\n",
       "Fail                  25735\n",
       "Pass w/ Conditions    23220\n",
       "No Entry               5678\n",
       "Not Ready              1374\n",
       "Name: Results, dtype: int64"
      ]
     },
     "execution_count": 29,
     "metadata": {},
     "output_type": "execute_result"
    }
   ],
   "source": [
    "#confirm from the data:\n",
    "clean_data['Results'].value_counts()"
   ]
  },
  {
   "cell_type": "code",
   "execution_count": 30,
   "metadata": {},
   "outputs": [
    {
     "data": {
      "text/html": [
       "<div>\n",
       "<style scoped>\n",
       "    .dataframe tbody tr th:only-of-type {\n",
       "        vertical-align: middle;\n",
       "    }\n",
       "\n",
       "    .dataframe tbody tr th {\n",
       "        vertical-align: top;\n",
       "    }\n",
       "\n",
       "    .dataframe thead th {\n",
       "        text-align: right;\n",
       "    }\n",
       "</style>\n",
       "<table border=\"1\" class=\"dataframe\">\n",
       "  <thead>\n",
       "    <tr style=\"text-align: right;\">\n",
       "      <th></th>\n",
       "      <th>Inspection ID</th>\n",
       "      <th>DBA Name</th>\n",
       "      <th>AKA Name</th>\n",
       "      <th>License #</th>\n",
       "      <th>Facility Type</th>\n",
       "      <th>Risk</th>\n",
       "      <th>Address</th>\n",
       "      <th>City</th>\n",
       "      <th>State</th>\n",
       "      <th>Zip</th>\n",
       "      <th>Inspection Date</th>\n",
       "      <th>Inspection Type</th>\n",
       "      <th>Results</th>\n",
       "      <th>Violations</th>\n",
       "      <th>Latitude</th>\n",
       "      <th>Longitude</th>\n",
       "      <th>Location</th>\n",
       "    </tr>\n",
       "  </thead>\n",
       "  <tbody>\n",
       "    <tr>\n",
       "      <th>1</th>\n",
       "      <td>2240486</td>\n",
       "      <td>TAMALES EMMA LA CHAPARRITA</td>\n",
       "      <td>LA CHAPARRITA</td>\n",
       "      <td>2501598.0</td>\n",
       "      <td>Restaurant</td>\n",
       "      <td>Risk 1 (High)</td>\n",
       "      <td>2500 S WHIPPLE ST</td>\n",
       "      <td>CHICAGO</td>\n",
       "      <td>IL</td>\n",
       "      <td>60623.0</td>\n",
       "      <td>11/20/2018</td>\n",
       "      <td>Complaint</td>\n",
       "      <td>Fail</td>\n",
       "      <td>1. PERSON IN CHARGE PRESENT, DEMONSTRATES KNOW...</td>\n",
       "      <td>41.846288</td>\n",
       "      <td>-87.701562</td>\n",
       "      <td>(41.846287752477586, -87.70156191989919)</td>\n",
       "    </tr>\n",
       "    <tr>\n",
       "      <th>4</th>\n",
       "      <td>2184537</td>\n",
       "      <td>MYSORE WOODLANDS</td>\n",
       "      <td>MYSORE WOODLANDS</td>\n",
       "      <td>2229409.0</td>\n",
       "      <td>Restaurant</td>\n",
       "      <td>Risk 1 (High)</td>\n",
       "      <td>2548-2550 W DEVON AVE</td>\n",
       "      <td>CHICAGO</td>\n",
       "      <td>IL</td>\n",
       "      <td>60659.0</td>\n",
       "      <td>7/12/2018</td>\n",
       "      <td>Canvass</td>\n",
       "      <td>Pass w/ Conditions</td>\n",
       "      <td>3. MANAGEMENT, FOOD EMPLOYEE AND CONDITIONAL E...</td>\n",
       "      <td>41.997765</td>\n",
       "      <td>-87.694284</td>\n",
       "      <td>(41.9977653535896, -87.69428406894727)</td>\n",
       "    </tr>\n",
       "    <tr>\n",
       "      <th>8</th>\n",
       "      <td>2240666</td>\n",
       "      <td>ORANGE GARDEN RESTAURANT LLC</td>\n",
       "      <td>ORANGE GARDEN RESTAURANT LLC</td>\n",
       "      <td>1942679.0</td>\n",
       "      <td>Restaurant</td>\n",
       "      <td>Risk 1 (High)</td>\n",
       "      <td>1942 W IRVING PARK RD</td>\n",
       "      <td>CHICAGO</td>\n",
       "      <td>IL</td>\n",
       "      <td>60613.0</td>\n",
       "      <td>11/27/2018</td>\n",
       "      <td>Canvass</td>\n",
       "      <td>Pass w/ Conditions</td>\n",
       "      <td>3. MANAGEMENT, FOOD EMPLOYEE AND CONDITIONAL E...</td>\n",
       "      <td>41.954276</td>\n",
       "      <td>-87.678033</td>\n",
       "      <td>(41.954276019666246, -87.6780332991192)</td>\n",
       "    </tr>\n",
       "    <tr>\n",
       "      <th>9</th>\n",
       "      <td>2280082</td>\n",
       "      <td>BEERHEAD BAR &amp; EATERY</td>\n",
       "      <td>BEERHEAD BAR &amp; EATERY</td>\n",
       "      <td>2600994.0</td>\n",
       "      <td>Restaurant</td>\n",
       "      <td>Risk 1 (High)</td>\n",
       "      <td>3519 N CLARK ST</td>\n",
       "      <td>CHICAGO</td>\n",
       "      <td>IL</td>\n",
       "      <td>60657.0</td>\n",
       "      <td>3/26/2019</td>\n",
       "      <td>License</td>\n",
       "      <td>Pass</td>\n",
       "      <td>55. PHYSICAL FACILITIES INSTALLED, MAINTAINED ...</td>\n",
       "      <td>41.946281</td>\n",
       "      <td>-87.655603</td>\n",
       "      <td>(41.94628081101039, -87.65560312808297)</td>\n",
       "    </tr>\n",
       "    <tr>\n",
       "      <th>10</th>\n",
       "      <td>2370625</td>\n",
       "      <td>THE CREPE SHOP</td>\n",
       "      <td>THE CREPE SHOP</td>\n",
       "      <td>2699005.0</td>\n",
       "      <td>Restaurant</td>\n",
       "      <td>Risk 1 (High)</td>\n",
       "      <td>2934 N BROADWAY</td>\n",
       "      <td>CHICAGO</td>\n",
       "      <td>IL</td>\n",
       "      <td>60657.0</td>\n",
       "      <td>5/15/2020</td>\n",
       "      <td>Canvass</td>\n",
       "      <td>Pass</td>\n",
       "      <td>37. FOOD PROPERLY LABELED; ORIGINAL CONTAINER ...</td>\n",
       "      <td>41.935930</td>\n",
       "      <td>-87.644407</td>\n",
       "      <td>(41.93592957402078, -87.64440716256712)</td>\n",
       "    </tr>\n",
       "  </tbody>\n",
       "</table>\n",
       "</div>"
      ],
      "text/plain": [
       "    Inspection ID                      DBA Name                      AKA Name  \\\n",
       "1         2240486    TAMALES EMMA LA CHAPARRITA                 LA CHAPARRITA   \n",
       "4         2184537              MYSORE WOODLANDS              MYSORE WOODLANDS   \n",
       "8         2240666  ORANGE GARDEN RESTAURANT LLC  ORANGE GARDEN RESTAURANT LLC   \n",
       "9         2280082         BEERHEAD BAR & EATERY         BEERHEAD BAR & EATERY   \n",
       "10        2370625                THE CREPE SHOP                THE CREPE SHOP   \n",
       "\n",
       "    License # Facility Type           Risk                Address     City  \\\n",
       "1   2501598.0    Restaurant  Risk 1 (High)      2500 S WHIPPLE ST  CHICAGO   \n",
       "4   2229409.0    Restaurant  Risk 1 (High)  2548-2550 W DEVON AVE  CHICAGO   \n",
       "8   1942679.0    Restaurant  Risk 1 (High)  1942 W IRVING PARK RD  CHICAGO   \n",
       "9   2600994.0    Restaurant  Risk 1 (High)        3519 N CLARK ST  CHICAGO   \n",
       "10  2699005.0    Restaurant  Risk 1 (High)        2934 N BROADWAY  CHICAGO   \n",
       "\n",
       "   State      Zip Inspection Date Inspection Type             Results  \\\n",
       "1     IL  60623.0      11/20/2018       Complaint                Fail   \n",
       "4     IL  60659.0       7/12/2018         Canvass  Pass w/ Conditions   \n",
       "8     IL  60613.0      11/27/2018         Canvass  Pass w/ Conditions   \n",
       "9     IL  60657.0       3/26/2019         License                Pass   \n",
       "10    IL  60657.0       5/15/2020         Canvass                Pass   \n",
       "\n",
       "                                           Violations   Latitude  Longitude  \\\n",
       "1   1. PERSON IN CHARGE PRESENT, DEMONSTRATES KNOW...  41.846288 -87.701562   \n",
       "4   3. MANAGEMENT, FOOD EMPLOYEE AND CONDITIONAL E...  41.997765 -87.694284   \n",
       "8   3. MANAGEMENT, FOOD EMPLOYEE AND CONDITIONAL E...  41.954276 -87.678033   \n",
       "9   55. PHYSICAL FACILITIES INSTALLED, MAINTAINED ...  41.946281 -87.655603   \n",
       "10  37. FOOD PROPERLY LABELED; ORIGINAL CONTAINER ...  41.935930 -87.644407   \n",
       "\n",
       "                                    Location  \n",
       "1   (41.846287752477586, -87.70156191989919)  \n",
       "4     (41.9977653535896, -87.69428406894727)  \n",
       "8    (41.954276019666246, -87.6780332991192)  \n",
       "9    (41.94628081101039, -87.65560312808297)  \n",
       "10   (41.93592957402078, -87.64440716256712)  "
      ]
     },
     "execution_count": 30,
     "metadata": {},
     "output_type": "execute_result"
    }
   ],
   "source": [
    "clean_data.head()"
   ]
  },
  {
   "cell_type": "code",
   "execution_count": 31,
   "metadata": {},
   "outputs": [
    {
     "data": {
      "text/plain": [
       "array(['Risk 1 (High)', 'Risk 2 (Medium)', 'Risk 3 (Low)', nan],\n",
       "      dtype=object)"
      ]
     },
     "execution_count": 31,
     "metadata": {},
     "output_type": "execute_result"
    }
   ],
   "source": [
    "#Drop the rows where Risk= All or where we have nan and only keep high, medium or low risk\n",
    "final_dataset=clean_data[clean_data.Risk!='All']\n",
    "final_dataset['Risk'].unique()"
   ]
  },
  {
   "cell_type": "code",
   "execution_count": 32,
   "metadata": {},
   "outputs": [
    {
     "data": {
      "text/plain": [
       "array(['Risk 1 (High)', 'Risk 2 (Medium)', 'Risk 3 (Low)'], dtype=object)"
      ]
     },
     "execution_count": 32,
     "metadata": {},
     "output_type": "execute_result"
    }
   ],
   "source": [
    "final_risk=final_dataset[final_dataset.Risk.notnull()]\n",
    "final_risk['Risk'].unique()"
   ]
  },
  {
   "cell_type": "code",
   "execution_count": 33,
   "metadata": {},
   "outputs": [],
   "source": [
    "X = pd.get_dummies(data.Risk)"
   ]
  },
  {
   "cell_type": "code",
   "execution_count": 34,
   "metadata": {},
   "outputs": [],
   "source": [
    "X = X.drop(columns=['All'])"
   ]
  },
  {
   "cell_type": "code",
   "execution_count": 35,
   "metadata": {},
   "outputs": [],
   "source": [
    "Y = final_dataset['Results']"
   ]
  },
  {
   "cell_type": "code",
   "execution_count": 36,
   "metadata": {},
   "outputs": [
    {
     "data": {
      "text/plain": [
       "1                       Fail\n",
       "4         Pass w/ Conditions\n",
       "8         Pass w/ Conditions\n",
       "9                       Pass\n",
       "10                      Pass\n",
       "                 ...        \n",
       "208246                  Pass\n",
       "208250                  Pass\n",
       "208251    Pass w/ Conditions\n",
       "208252                  Pass\n",
       "208253                  Fail\n",
       "Name: Results, Length: 128791, dtype: object"
      ]
     },
     "execution_count": 36,
     "metadata": {},
     "output_type": "execute_result"
    }
   ],
   "source": [
    "Y"
   ]
  },
  {
   "cell_type": "code",
   "execution_count": 37,
   "metadata": {},
   "outputs": [],
   "source": [
    "#Logistic Regression"
   ]
  },
  {
   "cell_type": "code",
   "execution_count": 38,
   "metadata": {},
   "outputs": [],
   "source": [
    "# Next, we want to see if there is a correlation between Risk Category and Inspection Results.\n",
    "# How good is risk category at predicting if a restaurant is going to pass/fail the inspections?"
   ]
  },
  {
   "cell_type": "code",
   "execution_count": 39,
   "metadata": {},
   "outputs": [
    {
     "name": "stdout",
     "output_type": "stream",
     "text": [
      "['Inspection ID', 'DBA Name', 'AKA Name', 'License #', 'Facility Type', 'Risk', 'Address', 'City', 'State', 'Zip', 'Inspection Date', 'Inspection Type', 'Results', 'Violations', 'Latitude', 'Longitude', 'Location']\n"
     ]
    }
   ],
   "source": [
    "print(list(final_risk.columns))"
   ]
  },
  {
   "cell_type": "code",
   "execution_count": 40,
   "metadata": {
    "tags": []
   },
   "outputs": [
    {
     "name": "stdout",
     "output_type": "stream",
     "text": [
      "{'Results': {'Pass': 1, 'Pass w/ Conditions': 1, 'Fail': 0, 'Not Ready': 0, 'No Entry': 0}}\n"
     ]
    }
   ],
   "source": [
    "#We know that logistic regression requires our response variable to be binary. For this analysis, we will consider \"Pass\" and Pass w/Conditions\" as Pass(1)\n",
    "#and \"Fail\", \"Not Ready\" and \"No Entry\" as Fail(0)\n",
    "\n",
    "results_numerical = {\"Results\" :{\"Pass\": 1, \"Pass w/ Conditions\": 1, \"Fail\":0, \"Not Ready\":0, \"No Entry\":0}}\n",
    "print(results_numerical)"
   ]
  },
  {
   "cell_type": "code",
   "execution_count": 41,
   "metadata": {},
   "outputs": [
    {
     "data": {
      "text/html": [
       "<div>\n",
       "<style scoped>\n",
       "    .dataframe tbody tr th:only-of-type {\n",
       "        vertical-align: middle;\n",
       "    }\n",
       "\n",
       "    .dataframe tbody tr th {\n",
       "        vertical-align: top;\n",
       "    }\n",
       "\n",
       "    .dataframe thead th {\n",
       "        text-align: right;\n",
       "    }\n",
       "</style>\n",
       "<table border=\"1\" class=\"dataframe\">\n",
       "  <thead>\n",
       "    <tr style=\"text-align: right;\">\n",
       "      <th></th>\n",
       "      <th>Inspection ID</th>\n",
       "      <th>DBA Name</th>\n",
       "      <th>AKA Name</th>\n",
       "      <th>License #</th>\n",
       "      <th>Facility Type</th>\n",
       "      <th>Risk</th>\n",
       "      <th>Address</th>\n",
       "      <th>City</th>\n",
       "      <th>State</th>\n",
       "      <th>Zip</th>\n",
       "      <th>Inspection Date</th>\n",
       "      <th>Inspection Type</th>\n",
       "      <th>Results</th>\n",
       "      <th>Violations</th>\n",
       "      <th>Latitude</th>\n",
       "      <th>Longitude</th>\n",
       "      <th>Location</th>\n",
       "    </tr>\n",
       "  </thead>\n",
       "  <tbody>\n",
       "    <tr>\n",
       "      <th>1</th>\n",
       "      <td>2240486</td>\n",
       "      <td>TAMALES EMMA LA CHAPARRITA</td>\n",
       "      <td>LA CHAPARRITA</td>\n",
       "      <td>2501598.0</td>\n",
       "      <td>Restaurant</td>\n",
       "      <td>Risk 1 (High)</td>\n",
       "      <td>2500 S WHIPPLE ST</td>\n",
       "      <td>CHICAGO</td>\n",
       "      <td>IL</td>\n",
       "      <td>60623.0</td>\n",
       "      <td>11/20/2018</td>\n",
       "      <td>Complaint</td>\n",
       "      <td>0</td>\n",
       "      <td>1. PERSON IN CHARGE PRESENT, DEMONSTRATES KNOW...</td>\n",
       "      <td>41.846288</td>\n",
       "      <td>-87.701562</td>\n",
       "      <td>(41.846287752477586, -87.70156191989919)</td>\n",
       "    </tr>\n",
       "    <tr>\n",
       "      <th>4</th>\n",
       "      <td>2184537</td>\n",
       "      <td>MYSORE WOODLANDS</td>\n",
       "      <td>MYSORE WOODLANDS</td>\n",
       "      <td>2229409.0</td>\n",
       "      <td>Restaurant</td>\n",
       "      <td>Risk 1 (High)</td>\n",
       "      <td>2548-2550 W DEVON AVE</td>\n",
       "      <td>CHICAGO</td>\n",
       "      <td>IL</td>\n",
       "      <td>60659.0</td>\n",
       "      <td>7/12/2018</td>\n",
       "      <td>Canvass</td>\n",
       "      <td>1</td>\n",
       "      <td>3. MANAGEMENT, FOOD EMPLOYEE AND CONDITIONAL E...</td>\n",
       "      <td>41.997765</td>\n",
       "      <td>-87.694284</td>\n",
       "      <td>(41.9977653535896, -87.69428406894727)</td>\n",
       "    </tr>\n",
       "    <tr>\n",
       "      <th>8</th>\n",
       "      <td>2240666</td>\n",
       "      <td>ORANGE GARDEN RESTAURANT LLC</td>\n",
       "      <td>ORANGE GARDEN RESTAURANT LLC</td>\n",
       "      <td>1942679.0</td>\n",
       "      <td>Restaurant</td>\n",
       "      <td>Risk 1 (High)</td>\n",
       "      <td>1942 W IRVING PARK RD</td>\n",
       "      <td>CHICAGO</td>\n",
       "      <td>IL</td>\n",
       "      <td>60613.0</td>\n",
       "      <td>11/27/2018</td>\n",
       "      <td>Canvass</td>\n",
       "      <td>1</td>\n",
       "      <td>3. MANAGEMENT, FOOD EMPLOYEE AND CONDITIONAL E...</td>\n",
       "      <td>41.954276</td>\n",
       "      <td>-87.678033</td>\n",
       "      <td>(41.954276019666246, -87.6780332991192)</td>\n",
       "    </tr>\n",
       "    <tr>\n",
       "      <th>9</th>\n",
       "      <td>2280082</td>\n",
       "      <td>BEERHEAD BAR &amp; EATERY</td>\n",
       "      <td>BEERHEAD BAR &amp; EATERY</td>\n",
       "      <td>2600994.0</td>\n",
       "      <td>Restaurant</td>\n",
       "      <td>Risk 1 (High)</td>\n",
       "      <td>3519 N CLARK ST</td>\n",
       "      <td>CHICAGO</td>\n",
       "      <td>IL</td>\n",
       "      <td>60657.0</td>\n",
       "      <td>3/26/2019</td>\n",
       "      <td>License</td>\n",
       "      <td>1</td>\n",
       "      <td>55. PHYSICAL FACILITIES INSTALLED, MAINTAINED ...</td>\n",
       "      <td>41.946281</td>\n",
       "      <td>-87.655603</td>\n",
       "      <td>(41.94628081101039, -87.65560312808297)</td>\n",
       "    </tr>\n",
       "    <tr>\n",
       "      <th>10</th>\n",
       "      <td>2370625</td>\n",
       "      <td>THE CREPE SHOP</td>\n",
       "      <td>THE CREPE SHOP</td>\n",
       "      <td>2699005.0</td>\n",
       "      <td>Restaurant</td>\n",
       "      <td>Risk 1 (High)</td>\n",
       "      <td>2934 N BROADWAY</td>\n",
       "      <td>CHICAGO</td>\n",
       "      <td>IL</td>\n",
       "      <td>60657.0</td>\n",
       "      <td>5/15/2020</td>\n",
       "      <td>Canvass</td>\n",
       "      <td>1</td>\n",
       "      <td>37. FOOD PROPERLY LABELED; ORIGINAL CONTAINER ...</td>\n",
       "      <td>41.935930</td>\n",
       "      <td>-87.644407</td>\n",
       "      <td>(41.93592957402078, -87.64440716256712)</td>\n",
       "    </tr>\n",
       "  </tbody>\n",
       "</table>\n",
       "</div>"
      ],
      "text/plain": [
       "    Inspection ID                      DBA Name                      AKA Name  \\\n",
       "1         2240486    TAMALES EMMA LA CHAPARRITA                 LA CHAPARRITA   \n",
       "4         2184537              MYSORE WOODLANDS              MYSORE WOODLANDS   \n",
       "8         2240666  ORANGE GARDEN RESTAURANT LLC  ORANGE GARDEN RESTAURANT LLC   \n",
       "9         2280082         BEERHEAD BAR & EATERY         BEERHEAD BAR & EATERY   \n",
       "10        2370625                THE CREPE SHOP                THE CREPE SHOP   \n",
       "\n",
       "    License # Facility Type           Risk                Address     City  \\\n",
       "1   2501598.0    Restaurant  Risk 1 (High)      2500 S WHIPPLE ST  CHICAGO   \n",
       "4   2229409.0    Restaurant  Risk 1 (High)  2548-2550 W DEVON AVE  CHICAGO   \n",
       "8   1942679.0    Restaurant  Risk 1 (High)  1942 W IRVING PARK RD  CHICAGO   \n",
       "9   2600994.0    Restaurant  Risk 1 (High)        3519 N CLARK ST  CHICAGO   \n",
       "10  2699005.0    Restaurant  Risk 1 (High)        2934 N BROADWAY  CHICAGO   \n",
       "\n",
       "   State      Zip Inspection Date Inspection Type  Results  \\\n",
       "1     IL  60623.0      11/20/2018       Complaint        0   \n",
       "4     IL  60659.0       7/12/2018         Canvass        1   \n",
       "8     IL  60613.0      11/27/2018         Canvass        1   \n",
       "9     IL  60657.0       3/26/2019         License        1   \n",
       "10    IL  60657.0       5/15/2020         Canvass        1   \n",
       "\n",
       "                                           Violations   Latitude  Longitude  \\\n",
       "1   1. PERSON IN CHARGE PRESENT, DEMONSTRATES KNOW...  41.846288 -87.701562   \n",
       "4   3. MANAGEMENT, FOOD EMPLOYEE AND CONDITIONAL E...  41.997765 -87.694284   \n",
       "8   3. MANAGEMENT, FOOD EMPLOYEE AND CONDITIONAL E...  41.954276 -87.678033   \n",
       "9   55. PHYSICAL FACILITIES INSTALLED, MAINTAINED ...  41.946281 -87.655603   \n",
       "10  37. FOOD PROPERLY LABELED; ORIGINAL CONTAINER ...  41.935930 -87.644407   \n",
       "\n",
       "                                    Location  \n",
       "1   (41.846287752477586, -87.70156191989919)  \n",
       "4     (41.9977653535896, -87.69428406894727)  \n",
       "8    (41.954276019666246, -87.6780332991192)  \n",
       "9    (41.94628081101039, -87.65560312808297)  \n",
       "10   (41.93592957402078, -87.64440716256712)  "
      ]
     },
     "execution_count": 41,
     "metadata": {},
     "output_type": "execute_result"
    }
   ],
   "source": [
    "final_df=final_risk.replace(results_numerical)\n",
    "final_df.head()"
   ]
  },
  {
   "cell_type": "code",
   "execution_count": 42,
   "metadata": {},
   "outputs": [],
   "source": [
    "#univariate logistic regression\n",
    "#define our X and Y\n",
    "Y=list(final_df['Results'])\n"
   ]
  },
  {
   "cell_type": "code",
   "execution_count": 43,
   "metadata": {},
   "outputs": [],
   "source": [
    "#dummy variabke for X\n",
    "X = pd.get_dummies(final_df['Risk'])"
   ]
  },
  {
   "cell_type": "code",
   "execution_count": null,
   "metadata": {},
   "outputs": [],
   "source": []
  },
  {
   "cell_type": "code",
   "execution_count": 44,
   "metadata": {},
   "outputs": [
    {
     "ename": "NameError",
     "evalue": "name 'final_data' is not defined",
     "output_type": "error",
     "traceback": [
      "\u001b[1;31m---------------------------------------------------------------------------\u001b[0m",
      "\u001b[1;31mNameError\u001b[0m                                 Traceback (most recent call last)",
      "\u001b[1;32m<ipython-input-44-5a1501bce90c>\u001b[0m in \u001b[0;36m<module>\u001b[1;34m\u001b[0m\n\u001b[1;32m----> 1\u001b[1;33m \u001b[0mdata\u001b[0m\u001b[1;33m=\u001b[0m\u001b[0mfinal_data\u001b[0m\u001b[1;33m[\u001b[0m\u001b[1;33m[\u001b[0m\u001b[1;34m'Risk'\u001b[0m\u001b[1;33m,\u001b[0m\u001b[1;34m'Results'\u001b[0m\u001b[1;33m]\u001b[0m\u001b[1;33m]\u001b[0m\u001b[1;33m\u001b[0m\u001b[1;33m\u001b[0m\u001b[0m\n\u001b[0m\u001b[0;32m      2\u001b[0m \u001b[0mdata\u001b[0m\u001b[1;33m\u001b[0m\u001b[1;33m\u001b[0m\u001b[0m\n",
      "\u001b[1;31mNameError\u001b[0m: name 'final_data' is not defined"
     ]
    }
   ],
   "source": [
    "data=final_data[['Risk','Results']]\n",
    "data"
   ]
  },
  {
   "cell_type": "code",
   "execution_count": null,
   "metadata": {},
   "outputs": [],
   "source": []
  },
  {
   "cell_type": "code",
   "execution_count": 45,
   "metadata": {},
   "outputs": [],
   "source": [
    "y=data.Results"
   ]
  },
  {
   "cell_type": "code",
   "execution_count": 46,
   "metadata": {},
   "outputs": [
    {
     "data": {
      "text/plain": [
       "Pass                    109675\n",
       "Fail                     40267\n",
       "Pass w/ Conditions       31134\n",
       "Out of Business          18110\n",
       "No Entry                  6887\n",
       "Not Ready                 2109\n",
       "Business Not Located        72\n",
       "Name: Results, dtype: int64"
      ]
     },
     "execution_count": 46,
     "metadata": {},
     "output_type": "execute_result"
    }
   ],
   "source": [
    "y.value_counts()"
   ]
  },
  {
   "cell_type": "code",
   "execution_count": 47,
   "metadata": {},
   "outputs": [
    {
     "ename": "ModuleNotFoundError",
     "evalue": "No module named 'imblearn'",
     "output_type": "error",
     "traceback": [
      "\u001b[1;31m---------------------------------------------------------------------------\u001b[0m",
      "\u001b[1;31mModuleNotFoundError\u001b[0m                       Traceback (most recent call last)",
      "\u001b[1;32m<ipython-input-47-b4911c6d3b69>\u001b[0m in \u001b[0;36m<module>\u001b[1;34m\u001b[0m\n\u001b[0;32m      1\u001b[0m \u001b[1;31m#create samples\u001b[0m\u001b[1;33m\u001b[0m\u001b[1;33m\u001b[0m\u001b[1;33m\u001b[0m\u001b[0m\n\u001b[1;32m----> 2\u001b[1;33m \u001b[1;32mfrom\u001b[0m \u001b[0mimblearn\u001b[0m\u001b[1;33m.\u001b[0m\u001b[0mover_sampling\u001b[0m \u001b[1;32mimport\u001b[0m \u001b[0mSMOTE\u001b[0m\u001b[1;33m\u001b[0m\u001b[1;33m\u001b[0m\u001b[0m\n\u001b[0m\u001b[0;32m      3\u001b[0m \u001b[0mos\u001b[0m\u001b[1;33m=\u001b[0m\u001b[0mSMOTE\u001b[0m\u001b[1;33m(\u001b[0m\u001b[0mrandom_state\u001b[0m\u001b[1;33m=\u001b[0m\u001b[1;36m0\u001b[0m\u001b[1;33m)\u001b[0m\u001b[1;33m\u001b[0m\u001b[1;33m\u001b[0m\u001b[0m\n\u001b[0;32m      4\u001b[0m \u001b[0mRisk_train\u001b[0m\u001b[1;33m,\u001b[0m \u001b[0mRisk_test\u001b[0m\u001b[1;33m,\u001b[0m \u001b[0mResults_train\u001b[0m\u001b[1;33m,\u001b[0m \u001b[0mResults_test\u001b[0m\u001b[1;33m=\u001b[0m \u001b[0mtrain_test_split\u001b[0m\u001b[1;33m(\u001b[0m\u001b[0mX\u001b[0m\u001b[1;33m,\u001b[0m\u001b[0mY\u001b[0m\u001b[1;33m,\u001b[0m \u001b[0mtest_size\u001b[0m\u001b[1;33m=\u001b[0m\u001b[1;36m0.3\u001b[0m\u001b[1;33m,\u001b[0m \u001b[0mrandom_state\u001b[0m\u001b[1;33m=\u001b[0m\u001b[1;36m0\u001b[0m\u001b[1;33m)\u001b[0m\u001b[1;33m\u001b[0m\u001b[1;33m\u001b[0m\u001b[0m\n",
      "\u001b[1;31mModuleNotFoundError\u001b[0m: No module named 'imblearn'"
     ]
    }
   ],
   "source": [
    "#create samples\n",
    "from imblearn.over_sampling import SMOTE\n",
    "os=SMOTE(random_state=0)\n",
    "Risk_train, Risk_test, Results_train, Results_test= train_test_split(X,Y, test_size=0.3, random_state=0)"
   ]
  },
  {
   "cell_type": "code",
   "execution_count": null,
   "metadata": {},
   "outputs": [],
   "source": []
  },
  {
   "cell_type": "code",
   "execution_count": 48,
   "metadata": {
    "tags": []
   },
   "outputs": [
    {
     "name": "stdout",
     "output_type": "stream",
     "text": [
      "Optimization terminated successfully.\n",
      "         Current function value: 0.566879\n",
      "         Iterations 5\n",
      "                          Results: Logit\n",
      "==================================================================\n",
      "Model:              Logit            Pseudo R-squared: 0.001      \n",
      "Dependent Variable: y                AIC:              146020.3134\n",
      "Date:               2020-07-27 17:56 BIC:              146049.6112\n",
      "No. Observations:   128788           Log-Likelihood:   -73007.    \n",
      "Df Model:           2                LL-Null:          -73051.    \n",
      "Df Residuals:       128785           LLR p-value:      7.4432e-20 \n",
      "Converged:          1.0000           Scale:            1.0000     \n",
      "No. Iterations:     5.0000                                        \n",
      "-------------------------------------------------------------------\n",
      "                 Coef.   Std.Err.     z      P>|z|   [0.025  0.975]\n",
      "-------------------------------------------------------------------\n",
      "Risk 1 (High)    1.0555    0.0071  148.9388  0.0000  1.0416  1.0694\n",
      "Risk 2 (Medium)  1.1838    0.0154   76.8183  0.0000  1.1536  1.2140\n",
      "Risk 3 (Low)     0.7504    0.0583   12.8688  0.0000  0.6361  0.8647\n",
      "==================================================================\n",
      "\n"
     ]
    }
   ],
   "source": [
    "import statsmodels.api as sm\n",
    "logit_model=sm.Logit(Y,X)\n",
    "result=logit_model.fit()\n",
    "print(result.summary2())\n"
   ]
  },
  {
   "cell_type": "code",
   "execution_count": 49,
   "metadata": {},
   "outputs": [
    {
     "ename": "NameError",
     "evalue": "name 'train_test_split' is not defined",
     "output_type": "error",
     "traceback": [
      "\u001b[1;31m---------------------------------------------------------------------------\u001b[0m",
      "\u001b[1;31mNameError\u001b[0m                                 Traceback (most recent call last)",
      "\u001b[1;32m<ipython-input-49-c725057a2ae7>\u001b[0m in \u001b[0;36m<module>\u001b[1;34m\u001b[0m\n\u001b[0;32m      2\u001b[0m \u001b[1;32mfrom\u001b[0m \u001b[0msklearn\u001b[0m\u001b[1;33m.\u001b[0m\u001b[0mlinear_model\u001b[0m \u001b[1;32mimport\u001b[0m \u001b[0mLogisticRegression\u001b[0m\u001b[1;33m\u001b[0m\u001b[1;33m\u001b[0m\u001b[0m\n\u001b[0;32m      3\u001b[0m \u001b[1;32mfrom\u001b[0m \u001b[0msklearn\u001b[0m \u001b[1;32mimport\u001b[0m \u001b[0mmetrics\u001b[0m\u001b[1;33m\u001b[0m\u001b[1;33m\u001b[0m\u001b[0m\n\u001b[1;32m----> 4\u001b[1;33m \u001b[0mRisk_train\u001b[0m\u001b[1;33m,\u001b[0m \u001b[0mRisk_test\u001b[0m\u001b[1;33m,\u001b[0m \u001b[0mResults_train\u001b[0m\u001b[1;33m,\u001b[0m \u001b[0mResults_test\u001b[0m \u001b[1;33m=\u001b[0m \u001b[0mtrain_test_split\u001b[0m\u001b[1;33m(\u001b[0m\u001b[0mdata\u001b[0m\u001b[1;33m[\u001b[0m\u001b[1;34m'Risk'\u001b[0m\u001b[1;33m]\u001b[0m\u001b[1;33m,\u001b[0m \u001b[0mdata\u001b[0m\u001b[1;33m[\u001b[0m\u001b[1;34m'Results'\u001b[0m\u001b[1;33m]\u001b[0m\u001b[1;33m,\u001b[0m \u001b[0mtest_size\u001b[0m\u001b[1;33m=\u001b[0m\u001b[1;36m0.3\u001b[0m\u001b[1;33m,\u001b[0m \u001b[0mrandom_state\u001b[0m\u001b[1;33m=\u001b[0m\u001b[1;36m0\u001b[0m\u001b[1;33m)\u001b[0m\u001b[1;33m\u001b[0m\u001b[1;33m\u001b[0m\u001b[0m\n\u001b[0m\u001b[0;32m      5\u001b[0m \u001b[0mlogreg\u001b[0m \u001b[1;33m=\u001b[0m \u001b[0mLogisticRegression\u001b[0m\u001b[1;33m(\u001b[0m\u001b[1;33m)\u001b[0m\u001b[1;33m\u001b[0m\u001b[1;33m\u001b[0m\u001b[0m\n\u001b[0;32m      6\u001b[0m \u001b[0mlogreg\u001b[0m\u001b[1;33m.\u001b[0m\u001b[0mfit\u001b[0m\u001b[1;33m(\u001b[0m\u001b[0mpd\u001b[0m\u001b[1;33m.\u001b[0m\u001b[0mDataFrame\u001b[0m\u001b[1;33m(\u001b[0m\u001b[0mRisk_train\u001b[0m\u001b[1;33m)\u001b[0m\u001b[1;33m,\u001b[0m\u001b[0mResults_train\u001b[0m\u001b[1;33m)\u001b[0m\u001b[1;33m\u001b[0m\u001b[1;33m\u001b[0m\u001b[0m\n",
      "\u001b[1;31mNameError\u001b[0m: name 'train_test_split' is not defined"
     ]
    }
   ],
   "source": [
    "#Test the model\n",
    "from sklearn.linear_model import LogisticRegression\n",
    "from sklearn import metrics\n",
    "Risk_train, Risk_test, Results_train, Results_test = train_test_split(data['Risk'], data['Results'], test_size=0.3, random_state=0)\n",
    "logreg = LogisticRegression()\n",
    "logreg.fit(pd.DataFrame(Risk_train),Results_train)\n",
    "Results_pred = logreg.predict(pd.DataFrame(Risk_test))\n",
    "Results_pred"
   ]
  },
  {
   "cell_type": "code",
   "execution_count": 50,
   "metadata": {},
   "outputs": [
    {
     "ename": "NameError",
     "evalue": "name 'logreg' is not defined",
     "output_type": "error",
     "traceback": [
      "\u001b[1;31m---------------------------------------------------------------------------\u001b[0m",
      "\u001b[1;31mNameError\u001b[0m                                 Traceback (most recent call last)",
      "\u001b[1;32m<ipython-input-50-78e37a06929d>\u001b[0m in \u001b[0;36m<module>\u001b[1;34m\u001b[0m\n\u001b[0;32m      1\u001b[0m \u001b[1;31m# Check the accuracy\u001b[0m\u001b[1;33m\u001b[0m\u001b[1;33m\u001b[0m\u001b[1;33m\u001b[0m\u001b[0m\n\u001b[1;32m----> 2\u001b[1;33m \u001b[0mprint\u001b[0m\u001b[1;33m(\u001b[0m\u001b[1;34m'Accuracy of logistic regression classifier on test set: {:.2f}'\u001b[0m\u001b[1;33m.\u001b[0m\u001b[0mformat\u001b[0m\u001b[1;33m(\u001b[0m\u001b[0mlogreg\u001b[0m\u001b[1;33m.\u001b[0m\u001b[0mscore\u001b[0m\u001b[1;33m(\u001b[0m\u001b[0mpd\u001b[0m\u001b[1;33m.\u001b[0m\u001b[0mDataFrame\u001b[0m\u001b[1;33m(\u001b[0m\u001b[0mRisk_test\u001b[0m\u001b[1;33m)\u001b[0m\u001b[1;33m,\u001b[0m\u001b[0mpd\u001b[0m\u001b[1;33m.\u001b[0m\u001b[0mDataFrame\u001b[0m \u001b[1;33m(\u001b[0m\u001b[0mResults_test\u001b[0m\u001b[1;33m)\u001b[0m\u001b[1;33m)\u001b[0m\u001b[1;33m)\u001b[0m\u001b[1;33m)\u001b[0m\u001b[1;33m\u001b[0m\u001b[1;33m\u001b[0m\u001b[0m\n\u001b[0m",
      "\u001b[1;31mNameError\u001b[0m: name 'logreg' is not defined"
     ]
    }
   ],
   "source": [
    "# Check the accuracy\n",
    "print('Accuracy of logistic regression classifier on test set: {:.2f}'.format(logreg.score(pd.DataFrame(Risk_test),pd.DataFrame (Results_test))))"
   ]
  },
  {
   "cell_type": "code",
   "execution_count": 51,
   "metadata": {},
   "outputs": [
    {
     "ename": "NameError",
     "evalue": "name 'Results_test' is not defined",
     "output_type": "error",
     "traceback": [
      "\u001b[1;31m---------------------------------------------------------------------------\u001b[0m",
      "\u001b[1;31mNameError\u001b[0m                                 Traceback (most recent call last)",
      "\u001b[1;32m<ipython-input-51-2c3e6015f93e>\u001b[0m in \u001b[0;36m<module>\u001b[1;34m\u001b[0m\n\u001b[0;32m      1\u001b[0m \u001b[1;31m# Build the confusion matrix\u001b[0m\u001b[1;33m\u001b[0m\u001b[1;33m\u001b[0m\u001b[1;33m\u001b[0m\u001b[0m\n\u001b[0;32m      2\u001b[0m \u001b[1;32mfrom\u001b[0m \u001b[0msklearn\u001b[0m\u001b[1;33m.\u001b[0m\u001b[0mmetrics\u001b[0m \u001b[1;32mimport\u001b[0m \u001b[0mconfusion_matrix\u001b[0m\u001b[1;33m\u001b[0m\u001b[1;33m\u001b[0m\u001b[0m\n\u001b[1;32m----> 3\u001b[1;33m \u001b[0mconfusion_matrix\u001b[0m \u001b[1;33m=\u001b[0m \u001b[0mconfusion_matrix\u001b[0m\u001b[1;33m(\u001b[0m\u001b[0mpd\u001b[0m\u001b[1;33m.\u001b[0m\u001b[0mDataFrame\u001b[0m\u001b[1;33m(\u001b[0m\u001b[0mResults_test\u001b[0m\u001b[1;33m)\u001b[0m\u001b[1;33m,\u001b[0m \u001b[0mpd\u001b[0m\u001b[1;33m.\u001b[0m\u001b[0mDataFrame\u001b[0m\u001b[1;33m(\u001b[0m\u001b[0mResults_pred\u001b[0m\u001b[1;33m)\u001b[0m\u001b[1;33m)\u001b[0m\u001b[1;33m\u001b[0m\u001b[1;33m\u001b[0m\u001b[0m\n\u001b[0m\u001b[0;32m      4\u001b[0m \u001b[0mprint\u001b[0m\u001b[1;33m(\u001b[0m\u001b[0mconfusion_matrix\u001b[0m\u001b[1;33m)\u001b[0m\u001b[1;33m\u001b[0m\u001b[1;33m\u001b[0m\u001b[0m\n",
      "\u001b[1;31mNameError\u001b[0m: name 'Results_test' is not defined"
     ]
    }
   ],
   "source": [
    "# Build the confusion matrix\n",
    "from sklearn.metrics import confusion_matrix\n",
    "confusion_matrix = confusion_matrix(pd.DataFrame(Results_test), pd.DataFrame(Results_pred))\n",
    "print(confusion_matrix)\n"
   ]
  },
  {
   "cell_type": "code",
   "execution_count": 52,
   "metadata": {},
   "outputs": [
    {
     "ename": "NameError",
     "evalue": "name 'Results_test' is not defined",
     "output_type": "error",
     "traceback": [
      "\u001b[1;31m---------------------------------------------------------------------------\u001b[0m",
      "\u001b[1;31mNameError\u001b[0m                                 Traceback (most recent call last)",
      "\u001b[1;32m<ipython-input-52-4ea0d402690b>\u001b[0m in \u001b[0;36m<module>\u001b[1;34m\u001b[0m\n\u001b[0;32m      1\u001b[0m \u001b[1;32mfrom\u001b[0m \u001b[0msklearn\u001b[0m\u001b[1;33m.\u001b[0m\u001b[0mmetrics\u001b[0m \u001b[1;32mimport\u001b[0m \u001b[0mclassification_report\u001b[0m\u001b[1;33m\u001b[0m\u001b[1;33m\u001b[0m\u001b[0m\n\u001b[1;32m----> 2\u001b[1;33m \u001b[0mprint\u001b[0m\u001b[1;33m(\u001b[0m\u001b[0mclassification_report\u001b[0m\u001b[1;33m(\u001b[0m\u001b[0mpd\u001b[0m\u001b[1;33m.\u001b[0m\u001b[0mDataFrame\u001b[0m\u001b[1;33m(\u001b[0m\u001b[0mResults_test\u001b[0m\u001b[1;33m)\u001b[0m\u001b[1;33m,\u001b[0m \u001b[0mpd\u001b[0m\u001b[1;33m.\u001b[0m\u001b[0mDataFrame\u001b[0m\u001b[1;33m(\u001b[0m\u001b[0mResults_pred\u001b[0m\u001b[1;33m)\u001b[0m\u001b[1;33m)\u001b[0m\u001b[1;33m)\u001b[0m\u001b[1;33m\u001b[0m\u001b[1;33m\u001b[0m\u001b[0m\n\u001b[0m",
      "\u001b[1;31mNameError\u001b[0m: name 'Results_test' is not defined"
     ]
    }
   ],
   "source": [
    "from sklearn.metrics import classification_report\n",
    "print(classification_report(pd.DataFrame(Results_test), pd.DataFrame(Results_pred)))"
   ]
  },
  {
   "cell_type": "code",
   "execution_count": 53,
   "metadata": {},
   "outputs": [],
   "source": [
    "#Kynan isolate complaint inspections and canvas inspections\n",
    "complaint_data = clean_data[clean_data[\"Inspection Type\"]== \"Complaint\"]\n",
    "canvass_data = clean_data[clean_data[\"Inspection Type\"]== \"Canvass\"]"
   ]
  },
  {
   "cell_type": "code",
   "execution_count": 54,
   "metadata": {},
   "outputs": [
    {
     "data": {
      "text/plain": [
       "Pass                  6190\n",
       "Fail                  4580\n",
       "Pass w/ Conditions    3273\n",
       "No Entry               660\n",
       "Not Ready               12\n",
       "Name: Results, dtype: int64"
      ]
     },
     "execution_count": 54,
     "metadata": {},
     "output_type": "execute_result"
    }
   ],
   "source": [
    "#Kynan look at inspection pass fail rates by inspection type\n",
    "complaint_consequence = complaint_data[\"Results\"]\n",
    "canvass_consequence = canvass_data[\"Results\"]\n",
    "complaint_consequence.value_counts()\n",
    "com_consequences = [\"Pass\", \"Fail\", \"Pass w/Conditions\", \"No Entry\", \" \"]\n",
    "canvass_consequence.value_counts()\n",
    "can_consequences = [\"Pass\", \"Pass w/Conditions\",  \"Fail\",\"No Entry\", \" \"]\n",
    "complaint_consequence.value_counts()"
   ]
  },
  {
   "cell_type": "code",
   "execution_count": 55,
   "metadata": {},
   "outputs": [
    {
     "data": {
      "image/png": "[encoded data removed]",
      "text/plain": [
       "<Figure size 432x288 with 1 Axes>"
      ]
     },
     "metadata": {},
     "output_type": "display_data"
    }
   ],
   "source": [
    "#Kynan visualize Inspection results for Canvass Inspections\n",
    "colors_can = [\"green\", \"Chartreuse\", \"red\", \"darkgrey\", \"white\"]\n",
    "explode = (0.1,0,0,0,0)\n",
    "plt.pie(canvass_consequence.value_counts(), labels = can_consequences, autopct=\"%1.1f%%\", colors = colors_can, explode = explode)\n",
    "plt.title(\"64,992 Canvass Inspection Results\")\n",
    "plt.savefig(\"Canvass Inspection Results\")\n"
   ]
  },
  {
   "cell_type": "code",
   "execution_count": 56,
   "metadata": {},
   "outputs": [
    {
     "data": {
      "image/png": "[encoded data removed]",
      "text/plain": [
       "<Figure size 432x288 with 1 Axes>"
      ]
     },
     "metadata": {},
     "output_type": "display_data"
    }
   ],
   "source": [
    "#Kynan visualize inspection results for \n",
    "colors_com = [\"green\", \"red\",\"Chartreuse\", \"grey\", \"black\"]\n",
    "explode = (0,0.1,0,0,0)\n",
    "plt.pie(complaint_consequence.value_counts(), labels = com_consequences, autopct=\"%1.1f%%\", colors = colors_com, explode = explode)\n",
    "plt.title(\"14,715 Complaint Inspection Results\")\n",
    "plt.savefig(\"Complaint Inspection Results\")"
   ]
  },
  {
   "cell_type": "code",
   "execution_count": 57,
   "metadata": {},
   "outputs": [],
   "source": [
    "#Kynan look at complaint and canvas inspections by zip code\n",
    "complaint_zip_count = complaint_data[\"Zip\"].value_counts()\n",
    "canvass_zip_count = canvass_data[\"Zip\"].value_counts()\n",
    "complaint_zip_count = complaint_zip_count.sort_index()\n",
    "canvass_zip_count = canvass_zip_count.sort_index()"
   ]
  },
  {
   "cell_type": "code",
   "execution_count": 58,
   "metadata": {},
   "outputs": [],
   "source": [
    "# Kynan create variables for total canvass inspections and total complaint inspections\n",
    "canvass_sum = canvass_zip_count.sum()\n",
    "complaint_sum = complaint_zip_count.sum()\n"
   ]
  },
  {
   "cell_type": "code",
   "execution_count": 59,
   "metadata": {},
   "outputs": [],
   "source": [
    "#Kynan calculate relative distribution of canvas and complaint based inspections per zip code\n",
    "complaint_percent = []\n",
    "canvass_percent = []\n",
    "for complaint in complaint_zip_count:\n",
    "    complaint_percent.append((complaint/complaint_sum)*100)\n",
    "\n",
    "for canvass in canvass_zip_count:\n",
    "    canvass_percent.append(canvass/canvass_sum*100)\n",
    "\n",
    "# add null value to complaint percent\n",
    "complaint_percent.append(0)\n",
    "# format to percent \n",
    "#complaint_percent = ['{:.2f}%'.format(elem) for elem in complaint_percent]\n",
    "#canvass_percent =  ['{:.2f}%'.format(elem) for elem in canvass_percent]\n",
    "#canvass_percent = canvass_percent.astype(float)\n",
    "#round complaint zip count\n",
    "#complaint_zip_count = ['{:f}'.format(elem) for elem in complaint_zip_count]"
   ]
  },
  {
   "cell_type": "code",
   "execution_count": 60,
   "metadata": {},
   "outputs": [],
   "source": [
    "#Kynan combine complaint and canvass data into new df add zip code as int\n",
    "relative_inspection_types = pd.DataFrame({\"Canvass Raw\": canvass_zip_count, \"Complaint Raw\": complaint_zip_count, \n",
    "                                          \"Canvass Percent\": canvass_percent,\n",
    "                                          \"Complaint Percent\": complaint_percent})\n",
    "zips = relative_inspection_types.index\n",
    "zips.astype(int)\n",
    "\n",
    "relative_inspection_types[\"Zip\"] = zips"
   ]
  },
  {
   "cell_type": "code",
   "execution_count": 61,
   "metadata": {},
   "outputs": [],
   "source": [
    "# Kynan calculate which zip codes get a disproportional share of complaint based inspections by calculating an expected number of complaints\n",
    "relative_inspection_types[\"Expected Complaints\"] = round(relative_inspection_types[\"Canvass Percent\"]/100 * complaint_sum)\n",
    "relative_inspection_types[\"Complaint Index\"] = relative_inspection_types[\"Complaint Raw\"]/relative_inspection_types[\"Expected Complaints\"]*100"
   ]
  },
  {
   "cell_type": "code",
   "execution_count": 62,
   "metadata": {},
   "outputs": [],
   "source": [
    "#Kynan add the differnece to df\n",
    "relative_inspection_types = relative_inspection_types.sort_values([\"Complaint Index\"])\n"
   ]
  },
  {
   "cell_type": "code",
   "execution_count": 63,
   "metadata": {},
   "outputs": [
    {
     "data": {
      "text/plain": [
       "75.62374846937608"
      ]
     },
     "execution_count": 63,
     "metadata": {},
     "output_type": "execute_result"
    }
   ],
   "source": [
    "#Kynan calculate  chi square critical value \n",
    "import scipy.stats as stats\n",
    "chi_square = pd.DataFrame([relative_inspection_types[\"Complaint Raw\"], relative_inspection_types[\"Expected Complaints\"]]).T\n",
    "chi_square = chi_square.drop([60827.0], axis = 0)\n",
    "critical_value = stats.chi2.ppf(q = 0.95, df = 57)\n",
    "critical_value\n"
   ]
  },
  {
   "cell_type": "code",
   "execution_count": 64,
   "metadata": {},
   "outputs": [
    {
     "data": {
      "text/plain": [
       "Power_divergenceResult(statistic=4556.242367484178, pvalue=0.0)"
      ]
     },
     "execution_count": 64,
     "metadata": {},
     "output_type": "execute_result"
    }
   ],
   "source": [
    "#Kynan calcualte chi square value\n",
    "stats.chisquare(chi_square['Complaint Raw'], chi_square['Expected Complaints'])"
   ]
  },
  {
   "cell_type": "code",
   "execution_count": 65,
   "metadata": {},
   "outputs": [
    {
     "name": "stdout",
     "output_type": "stream",
     "text": [
      "Since the chi square value of 3615 is larger than the critical value of 75, we conclude the results are statistically significant\n"
     ]
    }
   ],
   "source": [
    "print(\"Since the chi square value of 3615 is larger than the critical value of 75, we conclude the results are statistically significant\")"
   ]
  },
  {
   "cell_type": "code",
   "execution_count": 66,
   "metadata": {},
   "outputs": [],
   "source": [
    "#Kynan isolate and visualize the zips that have the most relative complaints\n",
    "too_many_complaints = relative_inspection_types.iloc[54:59, :]\n",
    "#x_axis = ([\"Kenwood\",\"Roseland\",\"South Shore\", \"Auburn Gresham\", \"Chatham\"])\n",
    "#plt.bar(x_axis, too_many_complaints[\"Complaint Index\"])"
   ]
  },
  {
   "cell_type": "code",
   "execution_count": 67,
   "metadata": {},
   "outputs": [],
   "source": [
    "# Kynan add income and lat/long data\n",
    "demo_path = \"Demographics.csv\"\n",
    "demo_request = pd.read_csv(demo_path)\n",
    "inspection_demo = pd.merge(relative_inspection_types, demo_request, on = \"Zip\")"
   ]
  },
  {
   "cell_type": "code",
   "execution_count": 68,
   "metadata": {},
   "outputs": [
    {
     "data": {
      "text/plain": [
       "Canvass Raw              int64\n",
       "Complaint Raw          float64\n",
       "Canvass Percent        float64\n",
       "Complaint Percent      float64\n",
       "Zip                    float64\n",
       "Expected Complaints    float64\n",
       "Complaint Index        float64\n",
       "Location                object\n",
       "Population             float64\n",
       "Income                 float64\n",
       "dtype: object"
      ]
     },
     "execution_count": 68,
     "metadata": {},
     "output_type": "execute_result"
    }
   ],
   "source": [
    "#kynan convert income to float\n",
    "\n",
    "inspection_demo.dtypes"
   ]
  },
  {
   "cell_type": "code",
   "execution_count": 69,
   "metadata": {},
   "outputs": [
    {
     "data": {
      "text/html": [
       "<div>\n",
       "<style scoped>\n",
       "    .dataframe tbody tr th:only-of-type {\n",
       "        vertical-align: middle;\n",
       "    }\n",
       "\n",
       "    .dataframe tbody tr th {\n",
       "        vertical-align: top;\n",
       "    }\n",
       "\n",
       "    .dataframe thead th {\n",
       "        text-align: right;\n",
       "    }\n",
       "</style>\n",
       "<table border=\"1\" class=\"dataframe\">\n",
       "  <thead>\n",
       "    <tr style=\"text-align: right;\">\n",
       "      <th></th>\n",
       "      <th>Canvass Raw</th>\n",
       "      <th>Complaint Raw</th>\n",
       "      <th>Canvass Percent</th>\n",
       "      <th>Complaint Percent</th>\n",
       "      <th>Zip</th>\n",
       "      <th>Expected Complaints</th>\n",
       "      <th>Complaint Index</th>\n",
       "      <th>Location</th>\n",
       "      <th>Population</th>\n",
       "      <th>Income</th>\n",
       "    </tr>\n",
       "  </thead>\n",
       "  <tbody>\n",
       "    <tr>\n",
       "      <th>0</th>\n",
       "      <td>597</td>\n",
       "      <td>68.0</td>\n",
       "      <td>0.918659</td>\n",
       "      <td>0.462145</td>\n",
       "      <td>60646.0</td>\n",
       "      <td>135.0</td>\n",
       "      <td>50.370370</td>\n",
       "      <td>41.992931, -87.760278</td>\n",
       "      <td>27016.0</td>\n",
       "      <td>58232.0</td>\n",
       "    </tr>\n",
       "    <tr>\n",
       "      <th>1</th>\n",
       "      <td>542</td>\n",
       "      <td>62.0</td>\n",
       "      <td>0.834026</td>\n",
       "      <td>0.421367</td>\n",
       "      <td>60631.0</td>\n",
       "      <td>123.0</td>\n",
       "      <td>50.406504</td>\n",
       "      <td>41.994948, -87.813225</td>\n",
       "      <td>28832.0</td>\n",
       "      <td>55316.0</td>\n",
       "    </tr>\n",
       "    <tr>\n",
       "      <th>2</th>\n",
       "      <td>1768</td>\n",
       "      <td>202.0</td>\n",
       "      <td>2.720586</td>\n",
       "      <td>1.372842</td>\n",
       "      <td>60606.0</td>\n",
       "      <td>400.0</td>\n",
       "      <td>50.500000</td>\n",
       "      <td>41.881988, -87.637329</td>\n",
       "      <td>NaN</td>\n",
       "      <td>100377.0</td>\n",
       "    </tr>\n",
       "    <tr>\n",
       "      <th>3</th>\n",
       "      <td>1536</td>\n",
       "      <td>205.0</td>\n",
       "      <td>2.363586</td>\n",
       "      <td>1.393231</td>\n",
       "      <td>60634.0</td>\n",
       "      <td>348.0</td>\n",
       "      <td>58.908046</td>\n",
       "      <td>41.946189, -87.806117</td>\n",
       "      <td>74164.0</td>\n",
       "      <td>50042.0</td>\n",
       "    </tr>\n",
       "    <tr>\n",
       "      <th>4</th>\n",
       "      <td>296</td>\n",
       "      <td>42.0</td>\n",
       "      <td>0.455483</td>\n",
       "      <td>0.285442</td>\n",
       "      <td>60655.0</td>\n",
       "      <td>67.0</td>\n",
       "      <td>62.686567</td>\n",
       "      <td>41.694722, -87.703687</td>\n",
       "      <td>29138.0</td>\n",
       "      <td>59849.0</td>\n",
       "    </tr>\n",
       "  </tbody>\n",
       "</table>\n",
       "</div>"
      ],
      "text/plain": [
       "   Canvass Raw  Complaint Raw  Canvass Percent  Complaint Percent      Zip  \\\n",
       "0          597           68.0         0.918659           0.462145  60646.0   \n",
       "1          542           62.0         0.834026           0.421367  60631.0   \n",
       "2         1768          202.0         2.720586           1.372842  60606.0   \n",
       "3         1536          205.0         2.363586           1.393231  60634.0   \n",
       "4          296           42.0         0.455483           0.285442  60655.0   \n",
       "\n",
       "   Expected Complaints  Complaint Index               Location  Population  \\\n",
       "0                135.0        50.370370  41.992931, -87.760278     27016.0   \n",
       "1                123.0        50.406504  41.994948, -87.813225     28832.0   \n",
       "2                400.0        50.500000  41.881988, -87.637329         NaN   \n",
       "3                348.0        58.908046  41.946189, -87.806117     74164.0   \n",
       "4                 67.0        62.686567  41.694722, -87.703687     29138.0   \n",
       "\n",
       "     Income  \n",
       "0   58232.0  \n",
       "1   55316.0  \n",
       "2  100377.0  \n",
       "3   50042.0  \n",
       "4   59849.0  "
      ]
     },
     "execution_count": 69,
     "metadata": {},
     "output_type": "execute_result"
    }
   ],
   "source": [
    "#Kynan review merged file.\n",
    "inspection_demo.head()"
   ]
  },
  {
   "cell_type": "code",
   "execution_count": 70,
   "metadata": {},
   "outputs": [
    {
     "data": {
      "text/plain": [
       "count        54.000000\n",
       "mean      41787.481481\n",
       "std       15768.665417\n",
       "min       14205.000000\n",
       "25%       31267.000000\n",
       "50%       40124.000000\n",
       "75%       50981.000000\n",
       "max      100377.000000\n",
       "Name: Income, dtype: float64"
      ]
     },
     "execution_count": 70,
     "metadata": {},
     "output_type": "execute_result"
    }
   ],
   "source": [
    "#Kynan look at quartiles by income\n",
    "inspection_demo[\"Income\"].describe()"
   ]
  },
  {
   "cell_type": "code",
   "execution_count": 71,
   "metadata": {},
   "outputs": [
    {
     "data": {
      "text/html": [
       "<div>\n",
       "<style scoped>\n",
       "    .dataframe tbody tr th:only-of-type {\n",
       "        vertical-align: middle;\n",
       "    }\n",
       "\n",
       "    .dataframe tbody tr th {\n",
       "        vertical-align: top;\n",
       "    }\n",
       "\n",
       "    .dataframe thead th {\n",
       "        text-align: right;\n",
       "    }\n",
       "</style>\n",
       "<table border=\"1\" class=\"dataframe\">\n",
       "  <thead>\n",
       "    <tr style=\"text-align: right;\">\n",
       "      <th></th>\n",
       "      <th>Canvass Raw</th>\n",
       "      <th>Complaint Raw</th>\n",
       "      <th>Canvass Percent</th>\n",
       "      <th>Complaint Percent</th>\n",
       "      <th>Zip</th>\n",
       "      <th>Expected Complaints</th>\n",
       "      <th>Complaint Index</th>\n",
       "      <th>Location</th>\n",
       "      <th>Population</th>\n",
       "      <th>Income</th>\n",
       "      <th>Quartile</th>\n",
       "    </tr>\n",
       "  </thead>\n",
       "  <tbody>\n",
       "    <tr>\n",
       "      <th>0</th>\n",
       "      <td>597</td>\n",
       "      <td>68.0</td>\n",
       "      <td>0.918659</td>\n",
       "      <td>0.462145</td>\n",
       "      <td>60646.0</td>\n",
       "      <td>135.0</td>\n",
       "      <td>50.370370</td>\n",
       "      <td>41.992931, -87.760278</td>\n",
       "      <td>27016.0</td>\n",
       "      <td>58232.0</td>\n",
       "      <td>$51K - $100K</td>\n",
       "    </tr>\n",
       "    <tr>\n",
       "      <th>1</th>\n",
       "      <td>542</td>\n",
       "      <td>62.0</td>\n",
       "      <td>0.834026</td>\n",
       "      <td>0.421367</td>\n",
       "      <td>60631.0</td>\n",
       "      <td>123.0</td>\n",
       "      <td>50.406504</td>\n",
       "      <td>41.994948, -87.813225</td>\n",
       "      <td>28832.0</td>\n",
       "      <td>55316.0</td>\n",
       "      <td>$51K - $100K</td>\n",
       "    </tr>\n",
       "    <tr>\n",
       "      <th>2</th>\n",
       "      <td>1768</td>\n",
       "      <td>202.0</td>\n",
       "      <td>2.720586</td>\n",
       "      <td>1.372842</td>\n",
       "      <td>60606.0</td>\n",
       "      <td>400.0</td>\n",
       "      <td>50.500000</td>\n",
       "      <td>41.881988, -87.637329</td>\n",
       "      <td>NaN</td>\n",
       "      <td>100377.0</td>\n",
       "      <td>$51K - $100K</td>\n",
       "    </tr>\n",
       "  </tbody>\n",
       "</table>\n",
       "</div>"
      ],
      "text/plain": [
       "   Canvass Raw  Complaint Raw  Canvass Percent  Complaint Percent      Zip  \\\n",
       "0          597           68.0         0.918659           0.462145  60646.0   \n",
       "1          542           62.0         0.834026           0.421367  60631.0   \n",
       "2         1768          202.0         2.720586           1.372842  60606.0   \n",
       "\n",
       "   Expected Complaints  Complaint Index               Location  Population  \\\n",
       "0                135.0        50.370370  41.992931, -87.760278     27016.0   \n",
       "1                123.0        50.406504  41.994948, -87.813225     28832.0   \n",
       "2                400.0        50.500000  41.881988, -87.637329         NaN   \n",
       "\n",
       "     Income      Quartile  \n",
       "0   58232.0  $51K - $100K  \n",
       "1   55316.0  $51K - $100K  \n",
       "2  100377.0  $51K - $100K  "
      ]
     },
     "execution_count": 71,
     "metadata": {},
     "output_type": "execute_result"
    }
   ],
   "source": [
    "#Kynan create quartile bins based on income\n",
    "\n",
    "bin_labels = [\"$14K - $31K\", \"$31K - $40K\", \"$40K - $51K\", \"$51K - $100K\"]\n",
    "inspection_demo[\"Quartile\"] = pd.qcut(inspection_demo[\"Income\"], q=[0, .25, .5, .75, 1], labels = bin_labels)\n",
    "#Kynan take a peek at data \n",
    "inspection_demo.head(3)\n",
    "                  "
   ]
  },
  {
   "cell_type": "code",
   "execution_count": 72,
   "metadata": {},
   "outputs": [],
   "source": [
    "#Kynan create variables to build a visualization based on bins\n",
    "x_axis = np.arange(len(bin_labels))\n",
    "y_ax = inspection_demo.groupby(inspection_demo[\"Quartile\"])\n",
    "y_axis = round(y_ax[\"Complaint Raw\"].sum()/y_ax[\"Expected Complaints\"].sum()*100)\n"
   ]
  },
  {
   "cell_type": "code",
   "execution_count": 73,
   "metadata": {},
   "outputs": [
    {
     "data": {
      "image/png": "[encoded data removed]",
      "text/plain": [
       "<Figure size 432x288 with 1 Axes>"
      ]
     },
     "metadata": {
      "needs_background": "light"
     },
     "output_type": "display_data"
    }
   ],
   "source": [
    "#Kynan create bin bar chart\n",
    "plt.bar(x_axis, y_axis)\n",
    "tick_locations = [0, 1, 2, 3]\n",
    "plt.xticks(tick_locations, bin_labels)\n",
    "plt.title(\"Complaint Index vs. Median Household Income\")\n",
    "plt.xlabel(\"Chicago Household Income Quartiles\")\n",
    "plt.ylabel(\"Complaint Index\")\n",
    "plt.show\n",
    "plt.savefig(\"Income Quartiles vs. Complaint Index.png\")"
   ]
  },
  {
   "cell_type": "code",
   "execution_count": 74,
   "metadata": {},
   "outputs": [
    {
     "name": "stdout",
     "output_type": "stream",
     "text": [
      "The correlation between both factors is -0.53\n"
     ]
    },
    {
     "data": {
      "image/png": "[encoded data removed]",
      "text/plain": [
       "<Figure size 432x288 with 1 Axes>"
      ]
     },
     "metadata": {
      "needs_background": "light"
     },
     "output_type": "display_data"
    }
   ],
   "source": [
    "#Kynan Calculate and Visulize the correlation between restaurant complaint index and median household income per zip\n",
    "income = inspection_demo[\"Income\"]\n",
    "complaints = inspection_demo[\"Complaint Index\"]\n",
    "correlation = st.pearsonr(income, complaints)\n",
    "fig, ax = plt.subplots()\n",
    "ax.set_axisbelow(True)\n",
    "print(f\"The correlation between both factors is {round(correlation[0],2)}\")\n",
    "plt.scatter(income, complaints, marker = \"o\", s = 60)\n",
    "plt.ylim(40, 310)\n",
    "plt.xlim(10000, 110000)\n",
    "plt.ylabel(\"Complaint Index\")\n",
    "plt.xlabel(\"Median Household Income\")\n",
    "ax.minorticks_on()\n",
    "plt.grid(which='major', linestyle='-', linewidth='0.5', color='red')\n",
    "plt.grid(which='minor', linestyle=':', linewidth='0.5', color='black')\n",
    "plt.title(\"Chicago Restaurant Complaints and Household Income by Zip\")\n",
    "plt.savefig(\"Income vs. Complaints.png\")"
   ]
  },
  {
   "cell_type": "code",
   "execution_count": 75,
   "metadata": {},
   "outputs": [],
   "source": [
    "# kynan prepate to look at variance for each quartile using standard deviation and box wisker plots\n",
    "\n",
    "q1= inspection_demo.loc[inspection_demo[\"Quartile\"]== \"$14K - $31K\", \"Complaint Index\"]\n",
    "q2= inspection_demo.loc[inspection_demo[\"Quartile\"]== \"$31K - $40K\", \"Complaint Index\"]\n",
    "q3 = inspection_demo.loc[inspection_demo[\"Quartile\"]== \"$40K - $51K\", \"Complaint Index\"]\n",
    "q4=  inspection_demo.loc[inspection_demo[\"Quartile\"]== \"$51K - $100K\", \"Complaint Index\"]\n",
    "quarts = [q1, q2, q3, q4]\n"
   ]
  },
  {
   "cell_type": "code",
   "execution_count": 76,
   "metadata": {},
   "outputs": [
    {
     "name": "stdout",
     "output_type": "stream",
     "text": [
      "the $14K -$31K standard deviation is 95\n",
      "the $31K - $40K standard deviation is 104\n",
      "the $40K - $51K standard deviation is 23\n",
      "the $51K - $100K standard deviation is 20\n"
     ]
    },
    {
     "data": {
      "image/png": "[encoded data removed]",
      "text/plain": [
       "<Figure size 432x288 with 1 Axes>"
      ]
     },
     "metadata": {
      "needs_background": "light"
     },
     "output_type": "display_data"
    }
   ],
   "source": [
    "# kynan look at variance for each quartile using standard deviation and box wisker plots\n",
    "fig1, ax1 = plt.subplots()\n",
    "ax1.set_title(f'Restaurant Complaint Index')\n",
    "ax1.set_ylabel('Complaint Index')\n",
    "ax1.set_xlabel(\"Income Quartiles\")\n",
    "ax1.set_xticklabels(bin_labels)\n",
    "ax1.boxplot(quarts)\n",
    "print(f'the $14K -$31K standard deviation is {round(q1.std())}')\n",
    "print(f'the $31K - $40K standard deviation is {round(q2.std())}')\n",
    "print(f'the $40K - $51K standard deviation is {round(q3.std())}')\n",
    "print(f'the $51K - $100K standard deviation is {round(q4.std())}')\n",
    "plt.show()\n",
    "fig1.savefig(\"Income Quartiles and Complaint Index Variance.png\")"
   ]
  },
  {
   "cell_type": "code",
   "execution_count": 77,
   "metadata": {},
   "outputs": [],
   "source": [
    "#Kynan prep df for gmap visulaiztion by splitting Location columns and converting data to float\n",
    "inspection_demo[[\"Lat\",\"Lng\"]] = inspection_demo.Location.str.split(\",\", expand = True,)\n",
    "gmap_location= inspection_demo[[\"Lat\", \"Lng\"]].astype(float)\n"
   ]
  },
  {
   "cell_type": "code",
   "execution_count": 78,
   "metadata": {},
   "outputs": [
    {
     "ename": "ModuleNotFoundError",
     "evalue": "No module named 'gmaps'",
     "output_type": "error",
     "traceback": [
      "\u001b[1;31m---------------------------------------------------------------------------\u001b[0m",
      "\u001b[1;31mModuleNotFoundError\u001b[0m                       Traceback (most recent call last)",
      "\u001b[1;32m<ipython-input-78-d60dfc0e2b04>\u001b[0m in \u001b[0;36m<module>\u001b[1;34m\u001b[0m\n\u001b[0;32m      1\u001b[0m \u001b[1;31m#create map to visualize complaint index by zip\u001b[0m\u001b[1;33m\u001b[0m\u001b[1;33m\u001b[0m\u001b[1;33m\u001b[0m\u001b[0m\n\u001b[1;32m----> 2\u001b[1;33m \u001b[1;32mimport\u001b[0m \u001b[0mgmaps\u001b[0m\u001b[1;33m\u001b[0m\u001b[1;33m\u001b[0m\u001b[0m\n\u001b[0m\u001b[0;32m      3\u001b[0m \u001b[1;32mimport\u001b[0m \u001b[0mos\u001b[0m\u001b[1;33m\u001b[0m\u001b[1;33m\u001b[0m\u001b[0m\n\u001b[0;32m      4\u001b[0m \u001b[1;32mfrom\u001b[0m \u001b[0mapi_key\u001b[0m \u001b[1;32mimport\u001b[0m \u001b[0mg_key\u001b[0m\u001b[1;33m\u001b[0m\u001b[1;33m\u001b[0m\u001b[0m\n\u001b[0;32m      5\u001b[0m \u001b[1;33m\u001b[0m\u001b[0m\n",
      "\u001b[1;31mModuleNotFoundError\u001b[0m: No module named 'gmaps'"
     ]
    }
   ],
   "source": [
    "#create map to visualize complaint index by zip\n",
    "import gmaps\n",
    "import os\n",
    "from api_key import g_key\n",
    "\n",
    "locations = gmap_location\n",
    "weights = inspection_demo[\"Complaint Index\"]\n",
    "center = (41.88, -87.63)\n",
    "markers = locations\n",
    "gmaps.configure(api_key = g_key)\n",
    "\n",
    "fig = gmaps.figure(center = center, zoom_level = 10)\n",
    "fig.add_layer(gmaps.heatmap_layer(locations, weights = weights, dissipating=False, max_intensity=275, point_radius = .03))\n",
    "fig"
   ]
  },
  {
   "cell_type": "code",
   "execution_count": 79,
   "metadata": {},
   "outputs": [],
   "source": [
    "#isolate zip codes from the lowest two income quartiles \n",
    "fourth = inspection_demo[~inspection_demo[\"Quartile\"].isin([\"$51K - $100K\", \"$40K - $51K\"])]\n",
    "fourth_location = fourth[[\"Lat\", \"Lng\"]].astype(float)\n",
    "decimals = 2    \n",
    "\n",
    "fourth = fourth.round({\"Complaint Index\": 0})\n"
   ]
  },
  {
   "cell_type": "code",
   "execution_count": 80,
   "metadata": {},
   "outputs": [
    {
     "ename": "NameError",
     "evalue": "name 'gmaps' is not defined",
     "output_type": "error",
     "traceback": [
      "\u001b[1;31m---------------------------------------------------------------------------\u001b[0m",
      "\u001b[1;31mNameError\u001b[0m                                 Traceback (most recent call last)",
      "\u001b[1;32m<ipython-input-80-194556460d89>\u001b[0m in \u001b[0;36m<module>\u001b[1;34m\u001b[0m\n\u001b[0;32m      9\u001b[0m \u001b[0mcenter\u001b[0m \u001b[1;33m=\u001b[0m \u001b[1;33m(\u001b[0m\u001b[1;36m41.88\u001b[0m\u001b[1;33m,\u001b[0m \u001b[1;33m-\u001b[0m\u001b[1;36m87.63\u001b[0m\u001b[1;33m)\u001b[0m\u001b[1;33m\u001b[0m\u001b[1;33m\u001b[0m\u001b[0m\n\u001b[0;32m     10\u001b[0m \u001b[0mzip_info\u001b[0m \u001b[1;33m=\u001b[0m \u001b[1;33m[\u001b[0m\u001b[0minfo_box_template\u001b[0m\u001b[1;33m.\u001b[0m\u001b[0mformat\u001b[0m\u001b[1;33m(\u001b[0m\u001b[1;33m**\u001b[0m\u001b[0mrow\u001b[0m\u001b[1;33m)\u001b[0m \u001b[1;32mfor\u001b[0m \u001b[0mindex\u001b[0m\u001b[1;33m,\u001b[0m \u001b[0mrow\u001b[0m \u001b[1;32min\u001b[0m \u001b[0mfourth\u001b[0m\u001b[1;33m.\u001b[0m\u001b[0miterrows\u001b[0m\u001b[1;33m(\u001b[0m\u001b[1;33m)\u001b[0m\u001b[1;33m]\u001b[0m\u001b[1;33m\u001b[0m\u001b[1;33m\u001b[0m\u001b[0m\n\u001b[1;32m---> 11\u001b[1;33m \u001b[0mmarker_layer\u001b[0m \u001b[1;33m=\u001b[0m \u001b[0mgmaps\u001b[0m\u001b[1;33m.\u001b[0m\u001b[0mmarker_layer\u001b[0m\u001b[1;33m(\u001b[0m\u001b[0mfourth_location\u001b[0m\u001b[1;33m,\u001b[0m \u001b[0minfo_box_content\u001b[0m \u001b[1;33m=\u001b[0m \u001b[0mzip_info\u001b[0m\u001b[1;33m)\u001b[0m\u001b[1;33m\u001b[0m\u001b[1;33m\u001b[0m\u001b[0m\n\u001b[0m\u001b[0;32m     12\u001b[0m \u001b[1;33m\u001b[0m\u001b[0m\n\u001b[0;32m     13\u001b[0m \u001b[0mgmaps\u001b[0m\u001b[1;33m.\u001b[0m\u001b[0mconfigure\u001b[0m\u001b[1;33m(\u001b[0m\u001b[0mapi_key\u001b[0m \u001b[1;33m=\u001b[0m \u001b[0mg_key\u001b[0m\u001b[1;33m)\u001b[0m\u001b[1;33m\u001b[0m\u001b[1;33m\u001b[0m\u001b[0m\n",
      "\u001b[1;31mNameError\u001b[0m: name 'gmaps' is not defined"
     ]
    }
   ],
   "source": [
    "info_box_template = \"\"\"\n",
    "<dl>\n",
    "<dt>Zip</dt><dd>{Zip}</dd>\n",
    "<dt>ci</dt><dd>{Complaint Index}</dd>\n",
    "</dl>\n",
    "\"\"\"\n",
    "locations = fourth_location\n",
    "weights = fourth[\"Complaint Index\"]\n",
    "center = (41.88, -87.63)\n",
    "zip_info = [info_box_template.format(**row) for index, row in fourth.iterrows()]\n",
    "marker_layer = gmaps.marker_layer(fourth_location, info_box_content = zip_info)\n",
    "\n",
    "gmaps.configure(api_key = g_key)\n",
    "\n",
    "fig = gmaps.figure(center = center, zoom_level = 11)\n",
    "fig.add_layer(gmaps.heatmap_layer(locations, weights = weights, dissipating=False, max_intensity=275, point_radius = .03))\n",
    "fig.add_layer(marker_layer)\n",
    "fig\n"
   ]
  },
  {
   "cell_type": "code",
   "execution_count": 81,
   "metadata": {},
   "outputs": [
    {
     "name": "stdout",
     "output_type": "stream",
     "text": [
      "the correlation between non-english speaking lower income communities and complaints is -0.68\n"
     ]
    },
    {
     "data": {
      "image/png": "[encoded data removed]",
      "text/plain": [
       "<Figure size 432x288 with 1 Axes>"
      ]
     },
     "metadata": {
      "needs_background": "light"
     },
     "output_type": "display_data"
    }
   ],
   "source": [
    "#look at relationship between lanugage and complaints by importing census data\n",
    "lan_path = \"census_language.csv\"\n",
    "lan_request = pd.read_csv(lan_path)\n",
    "\n",
    "lan_demo = pd.merge(fourth, lan_request, on = \"Zip\")\n",
    "lan_demo.head()\n",
    "language = lan_demo[\"Non English Speaking %\"].astype(float) * 100\n",
    "index = lan_demo[\"Complaint Index\"]\n",
    "\n",
    "#create a scatter plot and calcualte correlation\n",
    "lan_factor_cor= st.pearsonr(language, index)\n",
    "print(f'the correlation between non-english speaking lower income communities and complaints is {round(lan_factor_cor[0],2)}')\n",
    "plt.scatter(language, index, marker = \"o\", s = 60)\n",
    "plt.xlabel(\"Percent Non-English Speaking Households\")\n",
    "plt.ylabel(\"Complaint Index\")\n",
    "plt.title(\"Lower Income Household Language vs Complaint Index\")\n",
    "plt.xlim(-5, 45, 5)\n",
    "ax.minorticks_on()\n",
    "plt.grid(which='major', linestyle='-', linewidth='0.5', color='red')\n",
    "plt.grid(which='minor', linestyle=':', linewidth='0.5', color='black')\n",
    "plt.savefig(\"Language vs. Complaints.png\")"
   ]
  },
  {
   "cell_type": "code",
   "execution_count": 82,
   "metadata": {},
   "outputs": [
    {
     "data": {
      "text/html": [
       "<div>\n",
       "<style scoped>\n",
       "    .dataframe tbody tr th:only-of-type {\n",
       "        vertical-align: middle;\n",
       "    }\n",
       "\n",
       "    .dataframe tbody tr th {\n",
       "        vertical-align: top;\n",
       "    }\n",
       "\n",
       "    .dataframe thead th {\n",
       "        text-align: right;\n",
       "    }\n",
       "</style>\n",
       "<table border=\"1\" class=\"dataframe\">\n",
       "  <thead>\n",
       "    <tr style=\"text-align: right;\">\n",
       "      <th></th>\n",
       "      <th>Inspection ID</th>\n",
       "      <th>DBA Name</th>\n",
       "      <th>AKA Name</th>\n",
       "      <th>License #</th>\n",
       "      <th>Facility Type</th>\n",
       "      <th>Risk</th>\n",
       "      <th>Address</th>\n",
       "      <th>City</th>\n",
       "      <th>State</th>\n",
       "      <th>Zip</th>\n",
       "      <th>Inspection Date</th>\n",
       "      <th>Inspection Type</th>\n",
       "      <th>Results</th>\n",
       "      <th>Violations</th>\n",
       "      <th>Latitude</th>\n",
       "      <th>Longitude</th>\n",
       "      <th>Location</th>\n",
       "    </tr>\n",
       "  </thead>\n",
       "  <tbody>\n",
       "    <tr>\n",
       "      <th>1</th>\n",
       "      <td>2240486</td>\n",
       "      <td>TAMALES EMMA LA CHAPARRITA</td>\n",
       "      <td>LA CHAPARRITA</td>\n",
       "      <td>2501598.0</td>\n",
       "      <td>Restaurant</td>\n",
       "      <td>Risk 1 (High)</td>\n",
       "      <td>2500 S WHIPPLE ST</td>\n",
       "      <td>CHICAGO</td>\n",
       "      <td>IL</td>\n",
       "      <td>60623.0</td>\n",
       "      <td>11/20/2018</td>\n",
       "      <td>Complaint</td>\n",
       "      <td>Fail</td>\n",
       "      <td>1. PERSON IN CHARGE PRESENT, DEMONSTRATES KNOW...</td>\n",
       "      <td>41.846288</td>\n",
       "      <td>-87.701562</td>\n",
       "      <td>(41.846287752477586, -87.70156191989919)</td>\n",
       "    </tr>\n",
       "    <tr>\n",
       "      <th>4</th>\n",
       "      <td>2184537</td>\n",
       "      <td>MYSORE WOODLANDS</td>\n",
       "      <td>MYSORE WOODLANDS</td>\n",
       "      <td>2229409.0</td>\n",
       "      <td>Restaurant</td>\n",
       "      <td>Risk 1 (High)</td>\n",
       "      <td>2548-2550 W DEVON AVE</td>\n",
       "      <td>CHICAGO</td>\n",
       "      <td>IL</td>\n",
       "      <td>60659.0</td>\n",
       "      <td>7/12/2018</td>\n",
       "      <td>Canvass</td>\n",
       "      <td>Pass w/ Conditions</td>\n",
       "      <td>3. MANAGEMENT, FOOD EMPLOYEE AND CONDITIONAL E...</td>\n",
       "      <td>41.997765</td>\n",
       "      <td>-87.694284</td>\n",
       "      <td>(41.9977653535896, -87.69428406894727)</td>\n",
       "    </tr>\n",
       "    <tr>\n",
       "      <th>8</th>\n",
       "      <td>2240666</td>\n",
       "      <td>ORANGE GARDEN RESTAURANT LLC</td>\n",
       "      <td>ORANGE GARDEN RESTAURANT LLC</td>\n",
       "      <td>1942679.0</td>\n",
       "      <td>Restaurant</td>\n",
       "      <td>Risk 1 (High)</td>\n",
       "      <td>1942 W IRVING PARK RD</td>\n",
       "      <td>CHICAGO</td>\n",
       "      <td>IL</td>\n",
       "      <td>60613.0</td>\n",
       "      <td>11/27/2018</td>\n",
       "      <td>Canvass</td>\n",
       "      <td>Pass w/ Conditions</td>\n",
       "      <td>3. MANAGEMENT, FOOD EMPLOYEE AND CONDITIONAL E...</td>\n",
       "      <td>41.954276</td>\n",
       "      <td>-87.678033</td>\n",
       "      <td>(41.954276019666246, -87.6780332991192)</td>\n",
       "    </tr>\n",
       "    <tr>\n",
       "      <th>9</th>\n",
       "      <td>2280082</td>\n",
       "      <td>BEERHEAD BAR &amp; EATERY</td>\n",
       "      <td>BEERHEAD BAR &amp; EATERY</td>\n",
       "      <td>2600994.0</td>\n",
       "      <td>Restaurant</td>\n",
       "      <td>Risk 1 (High)</td>\n",
       "      <td>3519 N CLARK ST</td>\n",
       "      <td>CHICAGO</td>\n",
       "      <td>IL</td>\n",
       "      <td>60657.0</td>\n",
       "      <td>3/26/2019</td>\n",
       "      <td>License</td>\n",
       "      <td>Pass</td>\n",
       "      <td>55. PHYSICAL FACILITIES INSTALLED, MAINTAINED ...</td>\n",
       "      <td>41.946281</td>\n",
       "      <td>-87.655603</td>\n",
       "      <td>(41.94628081101039, -87.65560312808297)</td>\n",
       "    </tr>\n",
       "    <tr>\n",
       "      <th>10</th>\n",
       "      <td>2370625</td>\n",
       "      <td>THE CREPE SHOP</td>\n",
       "      <td>THE CREPE SHOP</td>\n",
       "      <td>2699005.0</td>\n",
       "      <td>Restaurant</td>\n",
       "      <td>Risk 1 (High)</td>\n",
       "      <td>2934 N BROADWAY</td>\n",
       "      <td>CHICAGO</td>\n",
       "      <td>IL</td>\n",
       "      <td>60657.0</td>\n",
       "      <td>5/15/2020</td>\n",
       "      <td>Canvass</td>\n",
       "      <td>Pass</td>\n",
       "      <td>37. FOOD PROPERLY LABELED; ORIGINAL CONTAINER ...</td>\n",
       "      <td>41.935930</td>\n",
       "      <td>-87.644407</td>\n",
       "      <td>(41.93592957402078, -87.64440716256712)</td>\n",
       "    </tr>\n",
       "    <tr>\n",
       "      <th>...</th>\n",
       "      <td>...</td>\n",
       "      <td>...</td>\n",
       "      <td>...</td>\n",
       "      <td>...</td>\n",
       "      <td>...</td>\n",
       "      <td>...</td>\n",
       "      <td>...</td>\n",
       "      <td>...</td>\n",
       "      <td>...</td>\n",
       "      <td>...</td>\n",
       "      <td>...</td>\n",
       "      <td>...</td>\n",
       "      <td>...</td>\n",
       "      <td>...</td>\n",
       "      <td>...</td>\n",
       "      <td>...</td>\n",
       "      <td>...</td>\n",
       "    </tr>\n",
       "    <tr>\n",
       "      <th>208241</th>\n",
       "      <td>2315429</td>\n",
       "      <td>EPIC BURGER</td>\n",
       "      <td>EPIC BURGER</td>\n",
       "      <td>2129721.0</td>\n",
       "      <td>Restaurant</td>\n",
       "      <td>Risk 1 (High)</td>\n",
       "      <td>227 E ONTARIO ST</td>\n",
       "      <td>CHICAGO</td>\n",
       "      <td>IL</td>\n",
       "      <td>60611.0</td>\n",
       "      <td>10/4/2019</td>\n",
       "      <td>Canvass</td>\n",
       "      <td>Pass w/ Conditions</td>\n",
       "      <td>5. PROCEDURES FOR RESPONDING TO VOMITING AND D...</td>\n",
       "      <td>41.893263</td>\n",
       "      <td>-87.621959</td>\n",
       "      <td>(41.893262977315636, -87.6219587764921)</td>\n",
       "    </tr>\n",
       "    <tr>\n",
       "      <th>208246</th>\n",
       "      <td>2363192</td>\n",
       "      <td>HONKY TONK BARBEQUE</td>\n",
       "      <td>HONKY TONK BARBEQUE</td>\n",
       "      <td>1987119.0</td>\n",
       "      <td>Restaurant</td>\n",
       "      <td>Risk 1 (High)</td>\n",
       "      <td>1800 S RACINE AVE</td>\n",
       "      <td>CHICAGO</td>\n",
       "      <td>IL</td>\n",
       "      <td>60608.0</td>\n",
       "      <td>3/3/2020</td>\n",
       "      <td>Complaint</td>\n",
       "      <td>Pass</td>\n",
       "      <td>NaN</td>\n",
       "      <td>41.857882</td>\n",
       "      <td>-87.656574</td>\n",
       "      <td>(41.85788239331137, -87.65657385684578)</td>\n",
       "    </tr>\n",
       "    <tr>\n",
       "      <th>208250</th>\n",
       "      <td>1559555</td>\n",
       "      <td>JOHNNY'S GRILL I</td>\n",
       "      <td>JOHNNY'S GRILL I</td>\n",
       "      <td>2368611.0</td>\n",
       "      <td>Restaurant</td>\n",
       "      <td>Risk 1 (High)</td>\n",
       "      <td>2545-2547 N KEDZIE BLVD</td>\n",
       "      <td>CHICAGO</td>\n",
       "      <td>IL</td>\n",
       "      <td>60647.0</td>\n",
       "      <td>6/25/2015</td>\n",
       "      <td>License</td>\n",
       "      <td>Pass</td>\n",
       "      <td>32. FOOD AND NON-FOOD CONTACT SURFACES PROPERL...</td>\n",
       "      <td>41.927879</td>\n",
       "      <td>-87.706925</td>\n",
       "      <td>(41.92787854149625, -87.70692518909259)</td>\n",
       "    </tr>\n",
       "    <tr>\n",
       "      <th>208252</th>\n",
       "      <td>1751404</td>\n",
       "      <td>RAYMOND'S HAMBURGERS &amp; TACOS</td>\n",
       "      <td>RAYMOND'S HAMBURGERS &amp; TACOS</td>\n",
       "      <td>26528.0</td>\n",
       "      <td>Restaurant</td>\n",
       "      <td>Risk 1 (High)</td>\n",
       "      <td>2404 S BLUE ISLAND AVE</td>\n",
       "      <td>CHICAGO</td>\n",
       "      <td>IL</td>\n",
       "      <td>60608.0</td>\n",
       "      <td>4/5/2016</td>\n",
       "      <td>Canvass Re-Inspection</td>\n",
       "      <td>Pass</td>\n",
       "      <td>35. WALLS, CEILINGS, ATTACHED EQUIPMENT CONSTR...</td>\n",
       "      <td>41.848781</td>\n",
       "      <td>-87.675429</td>\n",
       "      <td>(41.84878118113963, -87.67542917644128)</td>\n",
       "    </tr>\n",
       "    <tr>\n",
       "      <th>208253</th>\n",
       "      <td>1383219</td>\n",
       "      <td>BAR CASA BLANCA</td>\n",
       "      <td>BAR CASA BLANCA</td>\n",
       "      <td>9246.0</td>\n",
       "      <td>Restaurant</td>\n",
       "      <td>Risk 1 (High)</td>\n",
       "      <td>1158 W GRAND AVE</td>\n",
       "      <td>CHICAGO</td>\n",
       "      <td>IL</td>\n",
       "      <td>60642.0</td>\n",
       "      <td>11/8/2013</td>\n",
       "      <td>Canvass</td>\n",
       "      <td>Fail</td>\n",
       "      <td>18. NO EVIDENCE OF RODENT OR INSECT OUTER OPEN...</td>\n",
       "      <td>41.891194</td>\n",
       "      <td>-87.656971</td>\n",
       "      <td>(41.89119435787647, -87.65697066575788)</td>\n",
       "    </tr>\n",
       "  </tbody>\n",
       "</table>\n",
       "<p>103971 rows × 17 columns</p>\n",
       "</div>"
      ],
      "text/plain": [
       "        Inspection ID                      DBA Name  \\\n",
       "1             2240486    TAMALES EMMA LA CHAPARRITA   \n",
       "4             2184537              MYSORE WOODLANDS   \n",
       "8             2240666  ORANGE GARDEN RESTAURANT LLC   \n",
       "9             2280082         BEERHEAD BAR & EATERY   \n",
       "10            2370625                THE CREPE SHOP   \n",
       "...               ...                           ...   \n",
       "208241        2315429                   EPIC BURGER   \n",
       "208246        2363192           HONKY TONK BARBEQUE   \n",
       "208250        1559555              JOHNNY'S GRILL I   \n",
       "208252        1751404  RAYMOND'S HAMBURGERS & TACOS   \n",
       "208253        1383219               BAR CASA BLANCA   \n",
       "\n",
       "                            AKA Name  License # Facility Type           Risk  \\\n",
       "1                      LA CHAPARRITA  2501598.0    Restaurant  Risk 1 (High)   \n",
       "4                   MYSORE WOODLANDS  2229409.0    Restaurant  Risk 1 (High)   \n",
       "8       ORANGE GARDEN RESTAURANT LLC  1942679.0    Restaurant  Risk 1 (High)   \n",
       "9              BEERHEAD BAR & EATERY  2600994.0    Restaurant  Risk 1 (High)   \n",
       "10                    THE CREPE SHOP  2699005.0    Restaurant  Risk 1 (High)   \n",
       "...                              ...        ...           ...            ...   \n",
       "208241                   EPIC BURGER  2129721.0    Restaurant  Risk 1 (High)   \n",
       "208246           HONKY TONK BARBEQUE  1987119.0    Restaurant  Risk 1 (High)   \n",
       "208250              JOHNNY'S GRILL I  2368611.0    Restaurant  Risk 1 (High)   \n",
       "208252  RAYMOND'S HAMBURGERS & TACOS    26528.0    Restaurant  Risk 1 (High)   \n",
       "208253               BAR CASA BLANCA     9246.0    Restaurant  Risk 1 (High)   \n",
       "\n",
       "                        Address     City State      Zip Inspection Date  \\\n",
       "1             2500 S WHIPPLE ST  CHICAGO    IL  60623.0      11/20/2018   \n",
       "4         2548-2550 W DEVON AVE  CHICAGO    IL  60659.0       7/12/2018   \n",
       "8         1942 W IRVING PARK RD  CHICAGO    IL  60613.0      11/27/2018   \n",
       "9               3519 N CLARK ST  CHICAGO    IL  60657.0       3/26/2019   \n",
       "10              2934 N BROADWAY  CHICAGO    IL  60657.0       5/15/2020   \n",
       "...                         ...      ...   ...      ...             ...   \n",
       "208241         227 E ONTARIO ST  CHICAGO    IL  60611.0       10/4/2019   \n",
       "208246        1800 S RACINE AVE  CHICAGO    IL  60608.0        3/3/2020   \n",
       "208250  2545-2547 N KEDZIE BLVD  CHICAGO    IL  60647.0       6/25/2015   \n",
       "208252   2404 S BLUE ISLAND AVE  CHICAGO    IL  60608.0        4/5/2016   \n",
       "208253         1158 W GRAND AVE  CHICAGO    IL  60642.0       11/8/2013   \n",
       "\n",
       "              Inspection Type             Results  \\\n",
       "1                   Complaint                Fail   \n",
       "4                     Canvass  Pass w/ Conditions   \n",
       "8                     Canvass  Pass w/ Conditions   \n",
       "9                     License                Pass   \n",
       "10                    Canvass                Pass   \n",
       "...                       ...                 ...   \n",
       "208241                Canvass  Pass w/ Conditions   \n",
       "208246              Complaint                Pass   \n",
       "208250                License                Pass   \n",
       "208252  Canvass Re-Inspection                Pass   \n",
       "208253                Canvass                Fail   \n",
       "\n",
       "                                               Violations   Latitude  \\\n",
       "1       1. PERSON IN CHARGE PRESENT, DEMONSTRATES KNOW...  41.846288   \n",
       "4       3. MANAGEMENT, FOOD EMPLOYEE AND CONDITIONAL E...  41.997765   \n",
       "8       3. MANAGEMENT, FOOD EMPLOYEE AND CONDITIONAL E...  41.954276   \n",
       "9       55. PHYSICAL FACILITIES INSTALLED, MAINTAINED ...  41.946281   \n",
       "10      37. FOOD PROPERLY LABELED; ORIGINAL CONTAINER ...  41.935930   \n",
       "...                                                   ...        ...   \n",
       "208241  5. PROCEDURES FOR RESPONDING TO VOMITING AND D...  41.893263   \n",
       "208246                                                NaN  41.857882   \n",
       "208250  32. FOOD AND NON-FOOD CONTACT SURFACES PROPERL...  41.927879   \n",
       "208252  35. WALLS, CEILINGS, ATTACHED EQUIPMENT CONSTR...  41.848781   \n",
       "208253  18. NO EVIDENCE OF RODENT OR INSECT OUTER OPEN...  41.891194   \n",
       "\n",
       "        Longitude                                  Location  \n",
       "1      -87.701562  (41.846287752477586, -87.70156191989919)  \n",
       "4      -87.694284    (41.9977653535896, -87.69428406894727)  \n",
       "8      -87.678033   (41.954276019666246, -87.6780332991192)  \n",
       "9      -87.655603   (41.94628081101039, -87.65560312808297)  \n",
       "10     -87.644407   (41.93592957402078, -87.64440716256712)  \n",
       "...           ...                                       ...  \n",
       "208241 -87.621959   (41.893262977315636, -87.6219587764921)  \n",
       "208246 -87.656574   (41.85788239331137, -87.65657385684578)  \n",
       "208250 -87.706925   (41.92787854149625, -87.70692518909259)  \n",
       "208252 -87.675429   (41.84878118113963, -87.67542917644128)  \n",
       "208253 -87.656971   (41.89119435787647, -87.65697066575788)  \n",
       "\n",
       "[103971 rows x 17 columns]"
      ]
     },
     "execution_count": 82,
     "metadata": {},
     "output_type": "execute_result"
    }
   ],
   "source": [
    "#Restaurants with Risk 1 violations\n",
    "zip_df = clean_data.loc[clean_data[\"Risk\"] == 'Risk 1 (High)']\n",
    "zip_df"
   ]
  },
  {
   "cell_type": "code",
   "execution_count": 83,
   "metadata": {},
   "outputs": [
    {
     "data": {
      "text/plain": [
       "Zip\n",
       "60601.0    3167\n",
       "60602.0    1332\n",
       "60603.0    1852\n",
       "60604.0    1209\n",
       "60605.0    2707\n",
       "60606.0    3019\n",
       "60607.0    4487\n",
       "60608.0    3339\n",
       "60609.0    2249\n",
       "60610.0    3221\n",
       "60611.0    5701\n",
       "60612.0    1553\n",
       "60613.0    3431\n",
       "60614.0    6260\n",
       "60615.0    1571\n",
       "60616.0    3526\n",
       "60617.0    2090\n",
       "60618.0    4169\n",
       "60619.0    2014\n",
       "60620.0    1926\n",
       "60621.0     609\n",
       "60622.0    4825\n",
       "60623.0    2428\n",
       "60624.0     938\n",
       "60625.0    3961\n",
       "60626.0    2138\n",
       "60628.0    1646\n",
       "60629.0    2232\n",
       "60630.0    1808\n",
       "60631.0     980\n",
       "60632.0    2955\n",
       "60633.0     230\n",
       "60634.0    2633\n",
       "60636.0    1109\n",
       "60637.0    1242\n",
       "60638.0    1905\n",
       "60639.0    3257\n",
       "60640.0    3794\n",
       "60641.0    2497\n",
       "60642.0    1761\n",
       "60643.0    1581\n",
       "60644.0    1234\n",
       "60645.0     800\n",
       "60646.0     981\n",
       "60647.0    5404\n",
       "60649.0    1163\n",
       "60651.0    1385\n",
       "60652.0    1153\n",
       "60653.0     961\n",
       "60654.0    4221\n",
       "60655.0     531\n",
       "60656.0     561\n",
       "60657.0    5930\n",
       "60659.0    2922\n",
       "60660.0    2262\n",
       "60661.0    2456\n",
       "60666.0    2340\n",
       "60707.0     766\n",
       "60827.0      12\n",
       "Name: Location, dtype: int64"
      ]
     },
     "execution_count": 83,
     "metadata": {},
     "output_type": "execute_result"
    }
   ],
   "source": [
    "#count number of restaurants in each zip\n",
    "count_by_zip = restaurants_df.groupby([\"Zip\"]).count()[\"Location\"]\n",
    "count_by_zip"
   ]
  },
  {
   "cell_type": "code",
   "execution_count": 84,
   "metadata": {},
   "outputs": [
    {
     "data": {
      "text/plain": [
       "Zip\n",
       "60601.0    2408\n",
       "60602.0    1040\n",
       "60603.0    1484\n",
       "60604.0     846\n",
       "60605.0    1988\n",
       "60606.0    2396\n",
       "60607.0    3661\n",
       "60608.0    2508\n",
       "60609.0    1583\n",
       "60610.0    2629\n",
       "60611.0    4574\n",
       "60612.0    1029\n",
       "60613.0    2640\n",
       "60614.0    4919\n",
       "60615.0    1121\n",
       "60616.0    2742\n",
       "60617.0    1367\n",
       "60618.0    3346\n",
       "60619.0    1157\n",
       "60620.0    1034\n",
       "60621.0     232\n",
       "60622.0    3799\n",
       "60623.0    1898\n",
       "60624.0     446\n",
       "60625.0    3123\n",
       "60626.0    1637\n",
       "60628.0     856\n",
       "60629.0    1646\n",
       "60630.0    1435\n",
       "60631.0     776\n",
       "60632.0    2226\n",
       "60633.0     170\n",
       "60634.0    2094\n",
       "60636.0     557\n",
       "60637.0     798\n",
       "60638.0    1304\n",
       "60639.0    2328\n",
       "60640.0    3141\n",
       "60641.0    1990\n",
       "60642.0    1338\n",
       "60643.0    1052\n",
       "60644.0     719\n",
       "60645.0     627\n",
       "60646.0     825\n",
       "60647.0    4252\n",
       "60649.0     711\n",
       "60651.0     733\n",
       "60652.0     754\n",
       "60653.0     638\n",
       "60654.0    3479\n",
       "60655.0     365\n",
       "60656.0     472\n",
       "60657.0    4741\n",
       "60659.0    2441\n",
       "60660.0    1714\n",
       "60661.0    2002\n",
       "60666.0    1610\n",
       "60707.0     562\n",
       "60827.0       3\n",
       "Name: Location, dtype: int64"
      ]
     },
     "execution_count": 84,
     "metadata": {},
     "output_type": "execute_result"
    }
   ],
   "source": [
    "#Number of High Risk Restaurants by Zip code\n",
    "count_of_risk = zip_df.groupby([\"Zip\"]).count()[\"Location\"]\n",
    "count_of_risk"
   ]
  },
  {
   "cell_type": "code",
   "execution_count": 85,
   "metadata": {},
   "outputs": [
    {
     "data": {
      "text/plain": [
       "Zip\n",
       "60601.0    76.034102\n",
       "60602.0    78.078078\n",
       "60603.0    80.129590\n",
       "60604.0    69.975186\n",
       "60605.0    73.439232\n",
       "60606.0    79.364028\n",
       "60607.0    81.591264\n",
       "60608.0    75.112309\n",
       "60609.0    70.386839\n",
       "60610.0    81.620615\n",
       "60611.0    80.231538\n",
       "60612.0    66.258854\n",
       "60613.0    76.945497\n",
       "60614.0    78.578275\n",
       "60615.0    71.355824\n",
       "60616.0    77.765173\n",
       "60617.0    65.406699\n",
       "60618.0    80.259055\n",
       "60619.0    57.447865\n",
       "60620.0    53.686397\n",
       "60621.0    38.095238\n",
       "60622.0    78.735751\n",
       "60623.0    78.171334\n",
       "60624.0    47.547974\n",
       "60625.0    78.843726\n",
       "60626.0    76.566885\n",
       "60628.0    52.004860\n",
       "60629.0    73.745520\n",
       "60630.0    79.369469\n",
       "60631.0    79.183673\n",
       "60632.0    75.329949\n",
       "60633.0    73.913043\n",
       "60634.0    79.529054\n",
       "60636.0    50.225428\n",
       "60637.0    64.251208\n",
       "60638.0    68.451444\n",
       "60639.0    71.476819\n",
       "60640.0    82.788614\n",
       "60641.0    79.695635\n",
       "60642.0    75.979557\n",
       "60643.0    66.540164\n",
       "60644.0    58.265802\n",
       "60645.0    78.375000\n",
       "60646.0    84.097859\n",
       "60647.0    78.682457\n",
       "60649.0    61.134996\n",
       "60651.0    52.924188\n",
       "60652.0    65.394623\n",
       "60653.0    66.389178\n",
       "60654.0    82.421227\n",
       "60655.0    68.738230\n",
       "60656.0    84.135472\n",
       "60657.0    79.949410\n",
       "60659.0    83.538672\n",
       "60660.0    75.773652\n",
       "60661.0    81.514658\n",
       "60666.0    68.803419\n",
       "60707.0    73.368146\n",
       "60827.0    25.000000\n",
       "Name: Location, dtype: float64"
      ]
     },
     "execution_count": 85,
     "metadata": {},
     "output_type": "execute_result"
    }
   ],
   "source": [
    "#percentage of high risk restaurants\n",
    "\n",
    "percent= count_of_risk/count_by_zip  *100\n",
    "percent"
   ]
  },
  {
   "cell_type": "code",
   "execution_count": 86,
   "metadata": {},
   "outputs": [
    {
     "data": {
      "text/html": [
       "<style  type=\"text/css\" >\n",
       "</style><table id=\"T_78c0d406_d05c_11ea_8ac7_ac675da017d8\" ><thead>    <tr>        <th class=\"blank level0\" ></th>        <th class=\"col_heading level0 col0\" >Number of Restaurants</th>        <th class=\"col_heading level0 col1\" >Number of Risk 1(High)</th>        <th class=\"col_heading level0 col2\" >Percentage of High Risk</th>    </tr>    <tr>        <th class=\"index_name level0\" >Zip</th>        <th class=\"blank\" ></th>        <th class=\"blank\" ></th>        <th class=\"blank\" ></th>    </tr></thead><tbody>\n",
       "                <tr>\n",
       "                        <th id=\"T_78c0d406_d05c_11ea_8ac7_ac675da017d8level0_row0\" class=\"row_heading level0 row0\" >60601.0</th>\n",
       "                        <td id=\"T_78c0d406_d05c_11ea_8ac7_ac675da017d8row0_col0\" class=\"data row0 col0\" >3167</td>\n",
       "                        <td id=\"T_78c0d406_d05c_11ea_8ac7_ac675da017d8row0_col1\" class=\"data row0 col1\" >2408</td>\n",
       "                        <td id=\"T_78c0d406_d05c_11ea_8ac7_ac675da017d8row0_col2\" class=\"data row0 col2\" >76.034102</td>\n",
       "            </tr>\n",
       "            <tr>\n",
       "                        <th id=\"T_78c0d406_d05c_11ea_8ac7_ac675da017d8level0_row1\" class=\"row_heading level0 row1\" >60602.0</th>\n",
       "                        <td id=\"T_78c0d406_d05c_11ea_8ac7_ac675da017d8row1_col0\" class=\"data row1 col0\" >1332</td>\n",
       "                        <td id=\"T_78c0d406_d05c_11ea_8ac7_ac675da017d8row1_col1\" class=\"data row1 col1\" >1040</td>\n",
       "                        <td id=\"T_78c0d406_d05c_11ea_8ac7_ac675da017d8row1_col2\" class=\"data row1 col2\" >78.078078</td>\n",
       "            </tr>\n",
       "            <tr>\n",
       "                        <th id=\"T_78c0d406_d05c_11ea_8ac7_ac675da017d8level0_row2\" class=\"row_heading level0 row2\" >60603.0</th>\n",
       "                        <td id=\"T_78c0d406_d05c_11ea_8ac7_ac675da017d8row2_col0\" class=\"data row2 col0\" >1852</td>\n",
       "                        <td id=\"T_78c0d406_d05c_11ea_8ac7_ac675da017d8row2_col1\" class=\"data row2 col1\" >1484</td>\n",
       "                        <td id=\"T_78c0d406_d05c_11ea_8ac7_ac675da017d8row2_col2\" class=\"data row2 col2\" >80.129590</td>\n",
       "            </tr>\n",
       "            <tr>\n",
       "                        <th id=\"T_78c0d406_d05c_11ea_8ac7_ac675da017d8level0_row3\" class=\"row_heading level0 row3\" >60604.0</th>\n",
       "                        <td id=\"T_78c0d406_d05c_11ea_8ac7_ac675da017d8row3_col0\" class=\"data row3 col0\" >1209</td>\n",
       "                        <td id=\"T_78c0d406_d05c_11ea_8ac7_ac675da017d8row3_col1\" class=\"data row3 col1\" >846</td>\n",
       "                        <td id=\"T_78c0d406_d05c_11ea_8ac7_ac675da017d8row3_col2\" class=\"data row3 col2\" >69.975186</td>\n",
       "            </tr>\n",
       "            <tr>\n",
       "                        <th id=\"T_78c0d406_d05c_11ea_8ac7_ac675da017d8level0_row4\" class=\"row_heading level0 row4\" >60605.0</th>\n",
       "                        <td id=\"T_78c0d406_d05c_11ea_8ac7_ac675da017d8row4_col0\" class=\"data row4 col0\" >2707</td>\n",
       "                        <td id=\"T_78c0d406_d05c_11ea_8ac7_ac675da017d8row4_col1\" class=\"data row4 col1\" >1988</td>\n",
       "                        <td id=\"T_78c0d406_d05c_11ea_8ac7_ac675da017d8row4_col2\" class=\"data row4 col2\" >73.439232</td>\n",
       "            </tr>\n",
       "            <tr>\n",
       "                        <th id=\"T_78c0d406_d05c_11ea_8ac7_ac675da017d8level0_row5\" class=\"row_heading level0 row5\" >60606.0</th>\n",
       "                        <td id=\"T_78c0d406_d05c_11ea_8ac7_ac675da017d8row5_col0\" class=\"data row5 col0\" >3019</td>\n",
       "                        <td id=\"T_78c0d406_d05c_11ea_8ac7_ac675da017d8row5_col1\" class=\"data row5 col1\" >2396</td>\n",
       "                        <td id=\"T_78c0d406_d05c_11ea_8ac7_ac675da017d8row5_col2\" class=\"data row5 col2\" >79.364028</td>\n",
       "            </tr>\n",
       "            <tr>\n",
       "                        <th id=\"T_78c0d406_d05c_11ea_8ac7_ac675da017d8level0_row6\" class=\"row_heading level0 row6\" >60607.0</th>\n",
       "                        <td id=\"T_78c0d406_d05c_11ea_8ac7_ac675da017d8row6_col0\" class=\"data row6 col0\" >4487</td>\n",
       "                        <td id=\"T_78c0d406_d05c_11ea_8ac7_ac675da017d8row6_col1\" class=\"data row6 col1\" >3661</td>\n",
       "                        <td id=\"T_78c0d406_d05c_11ea_8ac7_ac675da017d8row6_col2\" class=\"data row6 col2\" >81.591264</td>\n",
       "            </tr>\n",
       "            <tr>\n",
       "                        <th id=\"T_78c0d406_d05c_11ea_8ac7_ac675da017d8level0_row7\" class=\"row_heading level0 row7\" >60608.0</th>\n",
       "                        <td id=\"T_78c0d406_d05c_11ea_8ac7_ac675da017d8row7_col0\" class=\"data row7 col0\" >3339</td>\n",
       "                        <td id=\"T_78c0d406_d05c_11ea_8ac7_ac675da017d8row7_col1\" class=\"data row7 col1\" >2508</td>\n",
       "                        <td id=\"T_78c0d406_d05c_11ea_8ac7_ac675da017d8row7_col2\" class=\"data row7 col2\" >75.112309</td>\n",
       "            </tr>\n",
       "            <tr>\n",
       "                        <th id=\"T_78c0d406_d05c_11ea_8ac7_ac675da017d8level0_row8\" class=\"row_heading level0 row8\" >60609.0</th>\n",
       "                        <td id=\"T_78c0d406_d05c_11ea_8ac7_ac675da017d8row8_col0\" class=\"data row8 col0\" >2249</td>\n",
       "                        <td id=\"T_78c0d406_d05c_11ea_8ac7_ac675da017d8row8_col1\" class=\"data row8 col1\" >1583</td>\n",
       "                        <td id=\"T_78c0d406_d05c_11ea_8ac7_ac675da017d8row8_col2\" class=\"data row8 col2\" >70.386839</td>\n",
       "            </tr>\n",
       "            <tr>\n",
       "                        <th id=\"T_78c0d406_d05c_11ea_8ac7_ac675da017d8level0_row9\" class=\"row_heading level0 row9\" >60610.0</th>\n",
       "                        <td id=\"T_78c0d406_d05c_11ea_8ac7_ac675da017d8row9_col0\" class=\"data row9 col0\" >3221</td>\n",
       "                        <td id=\"T_78c0d406_d05c_11ea_8ac7_ac675da017d8row9_col1\" class=\"data row9 col1\" >2629</td>\n",
       "                        <td id=\"T_78c0d406_d05c_11ea_8ac7_ac675da017d8row9_col2\" class=\"data row9 col2\" >81.620615</td>\n",
       "            </tr>\n",
       "            <tr>\n",
       "                        <th id=\"T_78c0d406_d05c_11ea_8ac7_ac675da017d8level0_row10\" class=\"row_heading level0 row10\" >60611.0</th>\n",
       "                        <td id=\"T_78c0d406_d05c_11ea_8ac7_ac675da017d8row10_col0\" class=\"data row10 col0\" >5701</td>\n",
       "                        <td id=\"T_78c0d406_d05c_11ea_8ac7_ac675da017d8row10_col1\" class=\"data row10 col1\" >4574</td>\n",
       "                        <td id=\"T_78c0d406_d05c_11ea_8ac7_ac675da017d8row10_col2\" class=\"data row10 col2\" >80.231538</td>\n",
       "            </tr>\n",
       "            <tr>\n",
       "                        <th id=\"T_78c0d406_d05c_11ea_8ac7_ac675da017d8level0_row11\" class=\"row_heading level0 row11\" >60612.0</th>\n",
       "                        <td id=\"T_78c0d406_d05c_11ea_8ac7_ac675da017d8row11_col0\" class=\"data row11 col0\" >1553</td>\n",
       "                        <td id=\"T_78c0d406_d05c_11ea_8ac7_ac675da017d8row11_col1\" class=\"data row11 col1\" >1029</td>\n",
       "                        <td id=\"T_78c0d406_d05c_11ea_8ac7_ac675da017d8row11_col2\" class=\"data row11 col2\" >66.258854</td>\n",
       "            </tr>\n",
       "            <tr>\n",
       "                        <th id=\"T_78c0d406_d05c_11ea_8ac7_ac675da017d8level0_row12\" class=\"row_heading level0 row12\" >60613.0</th>\n",
       "                        <td id=\"T_78c0d406_d05c_11ea_8ac7_ac675da017d8row12_col0\" class=\"data row12 col0\" >3431</td>\n",
       "                        <td id=\"T_78c0d406_d05c_11ea_8ac7_ac675da017d8row12_col1\" class=\"data row12 col1\" >2640</td>\n",
       "                        <td id=\"T_78c0d406_d05c_11ea_8ac7_ac675da017d8row12_col2\" class=\"data row12 col2\" >76.945497</td>\n",
       "            </tr>\n",
       "            <tr>\n",
       "                        <th id=\"T_78c0d406_d05c_11ea_8ac7_ac675da017d8level0_row13\" class=\"row_heading level0 row13\" >60614.0</th>\n",
       "                        <td id=\"T_78c0d406_d05c_11ea_8ac7_ac675da017d8row13_col0\" class=\"data row13 col0\" >6260</td>\n",
       "                        <td id=\"T_78c0d406_d05c_11ea_8ac7_ac675da017d8row13_col1\" class=\"data row13 col1\" >4919</td>\n",
       "                        <td id=\"T_78c0d406_d05c_11ea_8ac7_ac675da017d8row13_col2\" class=\"data row13 col2\" >78.578275</td>\n",
       "            </tr>\n",
       "            <tr>\n",
       "                        <th id=\"T_78c0d406_d05c_11ea_8ac7_ac675da017d8level0_row14\" class=\"row_heading level0 row14\" >60615.0</th>\n",
       "                        <td id=\"T_78c0d406_d05c_11ea_8ac7_ac675da017d8row14_col0\" class=\"data row14 col0\" >1571</td>\n",
       "                        <td id=\"T_78c0d406_d05c_11ea_8ac7_ac675da017d8row14_col1\" class=\"data row14 col1\" >1121</td>\n",
       "                        <td id=\"T_78c0d406_d05c_11ea_8ac7_ac675da017d8row14_col2\" class=\"data row14 col2\" >71.355824</td>\n",
       "            </tr>\n",
       "            <tr>\n",
       "                        <th id=\"T_78c0d406_d05c_11ea_8ac7_ac675da017d8level0_row15\" class=\"row_heading level0 row15\" >60616.0</th>\n",
       "                        <td id=\"T_78c0d406_d05c_11ea_8ac7_ac675da017d8row15_col0\" class=\"data row15 col0\" >3526</td>\n",
       "                        <td id=\"T_78c0d406_d05c_11ea_8ac7_ac675da017d8row15_col1\" class=\"data row15 col1\" >2742</td>\n",
       "                        <td id=\"T_78c0d406_d05c_11ea_8ac7_ac675da017d8row15_col2\" class=\"data row15 col2\" >77.765173</td>\n",
       "            </tr>\n",
       "            <tr>\n",
       "                        <th id=\"T_78c0d406_d05c_11ea_8ac7_ac675da017d8level0_row16\" class=\"row_heading level0 row16\" >60617.0</th>\n",
       "                        <td id=\"T_78c0d406_d05c_11ea_8ac7_ac675da017d8row16_col0\" class=\"data row16 col0\" >2090</td>\n",
       "                        <td id=\"T_78c0d406_d05c_11ea_8ac7_ac675da017d8row16_col1\" class=\"data row16 col1\" >1367</td>\n",
       "                        <td id=\"T_78c0d406_d05c_11ea_8ac7_ac675da017d8row16_col2\" class=\"data row16 col2\" >65.406699</td>\n",
       "            </tr>\n",
       "            <tr>\n",
       "                        <th id=\"T_78c0d406_d05c_11ea_8ac7_ac675da017d8level0_row17\" class=\"row_heading level0 row17\" >60618.0</th>\n",
       "                        <td id=\"T_78c0d406_d05c_11ea_8ac7_ac675da017d8row17_col0\" class=\"data row17 col0\" >4169</td>\n",
       "                        <td id=\"T_78c0d406_d05c_11ea_8ac7_ac675da017d8row17_col1\" class=\"data row17 col1\" >3346</td>\n",
       "                        <td id=\"T_78c0d406_d05c_11ea_8ac7_ac675da017d8row17_col2\" class=\"data row17 col2\" >80.259055</td>\n",
       "            </tr>\n",
       "            <tr>\n",
       "                        <th id=\"T_78c0d406_d05c_11ea_8ac7_ac675da017d8level0_row18\" class=\"row_heading level0 row18\" >60619.0</th>\n",
       "                        <td id=\"T_78c0d406_d05c_11ea_8ac7_ac675da017d8row18_col0\" class=\"data row18 col0\" >2014</td>\n",
       "                        <td id=\"T_78c0d406_d05c_11ea_8ac7_ac675da017d8row18_col1\" class=\"data row18 col1\" >1157</td>\n",
       "                        <td id=\"T_78c0d406_d05c_11ea_8ac7_ac675da017d8row18_col2\" class=\"data row18 col2\" >57.447865</td>\n",
       "            </tr>\n",
       "            <tr>\n",
       "                        <th id=\"T_78c0d406_d05c_11ea_8ac7_ac675da017d8level0_row19\" class=\"row_heading level0 row19\" >60620.0</th>\n",
       "                        <td id=\"T_78c0d406_d05c_11ea_8ac7_ac675da017d8row19_col0\" class=\"data row19 col0\" >1926</td>\n",
       "                        <td id=\"T_78c0d406_d05c_11ea_8ac7_ac675da017d8row19_col1\" class=\"data row19 col1\" >1034</td>\n",
       "                        <td id=\"T_78c0d406_d05c_11ea_8ac7_ac675da017d8row19_col2\" class=\"data row19 col2\" >53.686397</td>\n",
       "            </tr>\n",
       "            <tr>\n",
       "                        <th id=\"T_78c0d406_d05c_11ea_8ac7_ac675da017d8level0_row20\" class=\"row_heading level0 row20\" >60621.0</th>\n",
       "                        <td id=\"T_78c0d406_d05c_11ea_8ac7_ac675da017d8row20_col0\" class=\"data row20 col0\" >609</td>\n",
       "                        <td id=\"T_78c0d406_d05c_11ea_8ac7_ac675da017d8row20_col1\" class=\"data row20 col1\" >232</td>\n",
       "                        <td id=\"T_78c0d406_d05c_11ea_8ac7_ac675da017d8row20_col2\" class=\"data row20 col2\" >38.095238</td>\n",
       "            </tr>\n",
       "            <tr>\n",
       "                        <th id=\"T_78c0d406_d05c_11ea_8ac7_ac675da017d8level0_row21\" class=\"row_heading level0 row21\" >60622.0</th>\n",
       "                        <td id=\"T_78c0d406_d05c_11ea_8ac7_ac675da017d8row21_col0\" class=\"data row21 col0\" >4825</td>\n",
       "                        <td id=\"T_78c0d406_d05c_11ea_8ac7_ac675da017d8row21_col1\" class=\"data row21 col1\" >3799</td>\n",
       "                        <td id=\"T_78c0d406_d05c_11ea_8ac7_ac675da017d8row21_col2\" class=\"data row21 col2\" >78.735751</td>\n",
       "            </tr>\n",
       "            <tr>\n",
       "                        <th id=\"T_78c0d406_d05c_11ea_8ac7_ac675da017d8level0_row22\" class=\"row_heading level0 row22\" >60623.0</th>\n",
       "                        <td id=\"T_78c0d406_d05c_11ea_8ac7_ac675da017d8row22_col0\" class=\"data row22 col0\" >2428</td>\n",
       "                        <td id=\"T_78c0d406_d05c_11ea_8ac7_ac675da017d8row22_col1\" class=\"data row22 col1\" >1898</td>\n",
       "                        <td id=\"T_78c0d406_d05c_11ea_8ac7_ac675da017d8row22_col2\" class=\"data row22 col2\" >78.171334</td>\n",
       "            </tr>\n",
       "            <tr>\n",
       "                        <th id=\"T_78c0d406_d05c_11ea_8ac7_ac675da017d8level0_row23\" class=\"row_heading level0 row23\" >60624.0</th>\n",
       "                        <td id=\"T_78c0d406_d05c_11ea_8ac7_ac675da017d8row23_col0\" class=\"data row23 col0\" >938</td>\n",
       "                        <td id=\"T_78c0d406_d05c_11ea_8ac7_ac675da017d8row23_col1\" class=\"data row23 col1\" >446</td>\n",
       "                        <td id=\"T_78c0d406_d05c_11ea_8ac7_ac675da017d8row23_col2\" class=\"data row23 col2\" >47.547974</td>\n",
       "            </tr>\n",
       "            <tr>\n",
       "                        <th id=\"T_78c0d406_d05c_11ea_8ac7_ac675da017d8level0_row24\" class=\"row_heading level0 row24\" >60625.0</th>\n",
       "                        <td id=\"T_78c0d406_d05c_11ea_8ac7_ac675da017d8row24_col0\" class=\"data row24 col0\" >3961</td>\n",
       "                        <td id=\"T_78c0d406_d05c_11ea_8ac7_ac675da017d8row24_col1\" class=\"data row24 col1\" >3123</td>\n",
       "                        <td id=\"T_78c0d406_d05c_11ea_8ac7_ac675da017d8row24_col2\" class=\"data row24 col2\" >78.843726</td>\n",
       "            </tr>\n",
       "            <tr>\n",
       "                        <th id=\"T_78c0d406_d05c_11ea_8ac7_ac675da017d8level0_row25\" class=\"row_heading level0 row25\" >60626.0</th>\n",
       "                        <td id=\"T_78c0d406_d05c_11ea_8ac7_ac675da017d8row25_col0\" class=\"data row25 col0\" >2138</td>\n",
       "                        <td id=\"T_78c0d406_d05c_11ea_8ac7_ac675da017d8row25_col1\" class=\"data row25 col1\" >1637</td>\n",
       "                        <td id=\"T_78c0d406_d05c_11ea_8ac7_ac675da017d8row25_col2\" class=\"data row25 col2\" >76.566885</td>\n",
       "            </tr>\n",
       "            <tr>\n",
       "                        <th id=\"T_78c0d406_d05c_11ea_8ac7_ac675da017d8level0_row26\" class=\"row_heading level0 row26\" >60628.0</th>\n",
       "                        <td id=\"T_78c0d406_d05c_11ea_8ac7_ac675da017d8row26_col0\" class=\"data row26 col0\" >1646</td>\n",
       "                        <td id=\"T_78c0d406_d05c_11ea_8ac7_ac675da017d8row26_col1\" class=\"data row26 col1\" >856</td>\n",
       "                        <td id=\"T_78c0d406_d05c_11ea_8ac7_ac675da017d8row26_col2\" class=\"data row26 col2\" >52.004860</td>\n",
       "            </tr>\n",
       "            <tr>\n",
       "                        <th id=\"T_78c0d406_d05c_11ea_8ac7_ac675da017d8level0_row27\" class=\"row_heading level0 row27\" >60629.0</th>\n",
       "                        <td id=\"T_78c0d406_d05c_11ea_8ac7_ac675da017d8row27_col0\" class=\"data row27 col0\" >2232</td>\n",
       "                        <td id=\"T_78c0d406_d05c_11ea_8ac7_ac675da017d8row27_col1\" class=\"data row27 col1\" >1646</td>\n",
       "                        <td id=\"T_78c0d406_d05c_11ea_8ac7_ac675da017d8row27_col2\" class=\"data row27 col2\" >73.745520</td>\n",
       "            </tr>\n",
       "            <tr>\n",
       "                        <th id=\"T_78c0d406_d05c_11ea_8ac7_ac675da017d8level0_row28\" class=\"row_heading level0 row28\" >60630.0</th>\n",
       "                        <td id=\"T_78c0d406_d05c_11ea_8ac7_ac675da017d8row28_col0\" class=\"data row28 col0\" >1808</td>\n",
       "                        <td id=\"T_78c0d406_d05c_11ea_8ac7_ac675da017d8row28_col1\" class=\"data row28 col1\" >1435</td>\n",
       "                        <td id=\"T_78c0d406_d05c_11ea_8ac7_ac675da017d8row28_col2\" class=\"data row28 col2\" >79.369469</td>\n",
       "            </tr>\n",
       "            <tr>\n",
       "                        <th id=\"T_78c0d406_d05c_11ea_8ac7_ac675da017d8level0_row29\" class=\"row_heading level0 row29\" >60631.0</th>\n",
       "                        <td id=\"T_78c0d406_d05c_11ea_8ac7_ac675da017d8row29_col0\" class=\"data row29 col0\" >980</td>\n",
       "                        <td id=\"T_78c0d406_d05c_11ea_8ac7_ac675da017d8row29_col1\" class=\"data row29 col1\" >776</td>\n",
       "                        <td id=\"T_78c0d406_d05c_11ea_8ac7_ac675da017d8row29_col2\" class=\"data row29 col2\" >79.183673</td>\n",
       "            </tr>\n",
       "            <tr>\n",
       "                        <th id=\"T_78c0d406_d05c_11ea_8ac7_ac675da017d8level0_row30\" class=\"row_heading level0 row30\" >60632.0</th>\n",
       "                        <td id=\"T_78c0d406_d05c_11ea_8ac7_ac675da017d8row30_col0\" class=\"data row30 col0\" >2955</td>\n",
       "                        <td id=\"T_78c0d406_d05c_11ea_8ac7_ac675da017d8row30_col1\" class=\"data row30 col1\" >2226</td>\n",
       "                        <td id=\"T_78c0d406_d05c_11ea_8ac7_ac675da017d8row30_col2\" class=\"data row30 col2\" >75.329949</td>\n",
       "            </tr>\n",
       "            <tr>\n",
       "                        <th id=\"T_78c0d406_d05c_11ea_8ac7_ac675da017d8level0_row31\" class=\"row_heading level0 row31\" >60633.0</th>\n",
       "                        <td id=\"T_78c0d406_d05c_11ea_8ac7_ac675da017d8row31_col0\" class=\"data row31 col0\" >230</td>\n",
       "                        <td id=\"T_78c0d406_d05c_11ea_8ac7_ac675da017d8row31_col1\" class=\"data row31 col1\" >170</td>\n",
       "                        <td id=\"T_78c0d406_d05c_11ea_8ac7_ac675da017d8row31_col2\" class=\"data row31 col2\" >73.913043</td>\n",
       "            </tr>\n",
       "            <tr>\n",
       "                        <th id=\"T_78c0d406_d05c_11ea_8ac7_ac675da017d8level0_row32\" class=\"row_heading level0 row32\" >60634.0</th>\n",
       "                        <td id=\"T_78c0d406_d05c_11ea_8ac7_ac675da017d8row32_col0\" class=\"data row32 col0\" >2633</td>\n",
       "                        <td id=\"T_78c0d406_d05c_11ea_8ac7_ac675da017d8row32_col1\" class=\"data row32 col1\" >2094</td>\n",
       "                        <td id=\"T_78c0d406_d05c_11ea_8ac7_ac675da017d8row32_col2\" class=\"data row32 col2\" >79.529054</td>\n",
       "            </tr>\n",
       "            <tr>\n",
       "                        <th id=\"T_78c0d406_d05c_11ea_8ac7_ac675da017d8level0_row33\" class=\"row_heading level0 row33\" >60636.0</th>\n",
       "                        <td id=\"T_78c0d406_d05c_11ea_8ac7_ac675da017d8row33_col0\" class=\"data row33 col0\" >1109</td>\n",
       "                        <td id=\"T_78c0d406_d05c_11ea_8ac7_ac675da017d8row33_col1\" class=\"data row33 col1\" >557</td>\n",
       "                        <td id=\"T_78c0d406_d05c_11ea_8ac7_ac675da017d8row33_col2\" class=\"data row33 col2\" >50.225428</td>\n",
       "            </tr>\n",
       "            <tr>\n",
       "                        <th id=\"T_78c0d406_d05c_11ea_8ac7_ac675da017d8level0_row34\" class=\"row_heading level0 row34\" >60637.0</th>\n",
       "                        <td id=\"T_78c0d406_d05c_11ea_8ac7_ac675da017d8row34_col0\" class=\"data row34 col0\" >1242</td>\n",
       "                        <td id=\"T_78c0d406_d05c_11ea_8ac7_ac675da017d8row34_col1\" class=\"data row34 col1\" >798</td>\n",
       "                        <td id=\"T_78c0d406_d05c_11ea_8ac7_ac675da017d8row34_col2\" class=\"data row34 col2\" >64.251208</td>\n",
       "            </tr>\n",
       "            <tr>\n",
       "                        <th id=\"T_78c0d406_d05c_11ea_8ac7_ac675da017d8level0_row35\" class=\"row_heading level0 row35\" >60638.0</th>\n",
       "                        <td id=\"T_78c0d406_d05c_11ea_8ac7_ac675da017d8row35_col0\" class=\"data row35 col0\" >1905</td>\n",
       "                        <td id=\"T_78c0d406_d05c_11ea_8ac7_ac675da017d8row35_col1\" class=\"data row35 col1\" >1304</td>\n",
       "                        <td id=\"T_78c0d406_d05c_11ea_8ac7_ac675da017d8row35_col2\" class=\"data row35 col2\" >68.451444</td>\n",
       "            </tr>\n",
       "            <tr>\n",
       "                        <th id=\"T_78c0d406_d05c_11ea_8ac7_ac675da017d8level0_row36\" class=\"row_heading level0 row36\" >60639.0</th>\n",
       "                        <td id=\"T_78c0d406_d05c_11ea_8ac7_ac675da017d8row36_col0\" class=\"data row36 col0\" >3257</td>\n",
       "                        <td id=\"T_78c0d406_d05c_11ea_8ac7_ac675da017d8row36_col1\" class=\"data row36 col1\" >2328</td>\n",
       "                        <td id=\"T_78c0d406_d05c_11ea_8ac7_ac675da017d8row36_col2\" class=\"data row36 col2\" >71.476819</td>\n",
       "            </tr>\n",
       "            <tr>\n",
       "                        <th id=\"T_78c0d406_d05c_11ea_8ac7_ac675da017d8level0_row37\" class=\"row_heading level0 row37\" >60640.0</th>\n",
       "                        <td id=\"T_78c0d406_d05c_11ea_8ac7_ac675da017d8row37_col0\" class=\"data row37 col0\" >3794</td>\n",
       "                        <td id=\"T_78c0d406_d05c_11ea_8ac7_ac675da017d8row37_col1\" class=\"data row37 col1\" >3141</td>\n",
       "                        <td id=\"T_78c0d406_d05c_11ea_8ac7_ac675da017d8row37_col2\" class=\"data row37 col2\" >82.788614</td>\n",
       "            </tr>\n",
       "            <tr>\n",
       "                        <th id=\"T_78c0d406_d05c_11ea_8ac7_ac675da017d8level0_row38\" class=\"row_heading level0 row38\" >60641.0</th>\n",
       "                        <td id=\"T_78c0d406_d05c_11ea_8ac7_ac675da017d8row38_col0\" class=\"data row38 col0\" >2497</td>\n",
       "                        <td id=\"T_78c0d406_d05c_11ea_8ac7_ac675da017d8row38_col1\" class=\"data row38 col1\" >1990</td>\n",
       "                        <td id=\"T_78c0d406_d05c_11ea_8ac7_ac675da017d8row38_col2\" class=\"data row38 col2\" >79.695635</td>\n",
       "            </tr>\n",
       "            <tr>\n",
       "                        <th id=\"T_78c0d406_d05c_11ea_8ac7_ac675da017d8level0_row39\" class=\"row_heading level0 row39\" >60642.0</th>\n",
       "                        <td id=\"T_78c0d406_d05c_11ea_8ac7_ac675da017d8row39_col0\" class=\"data row39 col0\" >1761</td>\n",
       "                        <td id=\"T_78c0d406_d05c_11ea_8ac7_ac675da017d8row39_col1\" class=\"data row39 col1\" >1338</td>\n",
       "                        <td id=\"T_78c0d406_d05c_11ea_8ac7_ac675da017d8row39_col2\" class=\"data row39 col2\" >75.979557</td>\n",
       "            </tr>\n",
       "            <tr>\n",
       "                        <th id=\"T_78c0d406_d05c_11ea_8ac7_ac675da017d8level0_row40\" class=\"row_heading level0 row40\" >60643.0</th>\n",
       "                        <td id=\"T_78c0d406_d05c_11ea_8ac7_ac675da017d8row40_col0\" class=\"data row40 col0\" >1581</td>\n",
       "                        <td id=\"T_78c0d406_d05c_11ea_8ac7_ac675da017d8row40_col1\" class=\"data row40 col1\" >1052</td>\n",
       "                        <td id=\"T_78c0d406_d05c_11ea_8ac7_ac675da017d8row40_col2\" class=\"data row40 col2\" >66.540164</td>\n",
       "            </tr>\n",
       "            <tr>\n",
       "                        <th id=\"T_78c0d406_d05c_11ea_8ac7_ac675da017d8level0_row41\" class=\"row_heading level0 row41\" >60644.0</th>\n",
       "                        <td id=\"T_78c0d406_d05c_11ea_8ac7_ac675da017d8row41_col0\" class=\"data row41 col0\" >1234</td>\n",
       "                        <td id=\"T_78c0d406_d05c_11ea_8ac7_ac675da017d8row41_col1\" class=\"data row41 col1\" >719</td>\n",
       "                        <td id=\"T_78c0d406_d05c_11ea_8ac7_ac675da017d8row41_col2\" class=\"data row41 col2\" >58.265802</td>\n",
       "            </tr>\n",
       "            <tr>\n",
       "                        <th id=\"T_78c0d406_d05c_11ea_8ac7_ac675da017d8level0_row42\" class=\"row_heading level0 row42\" >60645.0</th>\n",
       "                        <td id=\"T_78c0d406_d05c_11ea_8ac7_ac675da017d8row42_col0\" class=\"data row42 col0\" >800</td>\n",
       "                        <td id=\"T_78c0d406_d05c_11ea_8ac7_ac675da017d8row42_col1\" class=\"data row42 col1\" >627</td>\n",
       "                        <td id=\"T_78c0d406_d05c_11ea_8ac7_ac675da017d8row42_col2\" class=\"data row42 col2\" >78.375000</td>\n",
       "            </tr>\n",
       "            <tr>\n",
       "                        <th id=\"T_78c0d406_d05c_11ea_8ac7_ac675da017d8level0_row43\" class=\"row_heading level0 row43\" >60646.0</th>\n",
       "                        <td id=\"T_78c0d406_d05c_11ea_8ac7_ac675da017d8row43_col0\" class=\"data row43 col0\" >981</td>\n",
       "                        <td id=\"T_78c0d406_d05c_11ea_8ac7_ac675da017d8row43_col1\" class=\"data row43 col1\" >825</td>\n",
       "                        <td id=\"T_78c0d406_d05c_11ea_8ac7_ac675da017d8row43_col2\" class=\"data row43 col2\" >84.097859</td>\n",
       "            </tr>\n",
       "            <tr>\n",
       "                        <th id=\"T_78c0d406_d05c_11ea_8ac7_ac675da017d8level0_row44\" class=\"row_heading level0 row44\" >60647.0</th>\n",
       "                        <td id=\"T_78c0d406_d05c_11ea_8ac7_ac675da017d8row44_col0\" class=\"data row44 col0\" >5404</td>\n",
       "                        <td id=\"T_78c0d406_d05c_11ea_8ac7_ac675da017d8row44_col1\" class=\"data row44 col1\" >4252</td>\n",
       "                        <td id=\"T_78c0d406_d05c_11ea_8ac7_ac675da017d8row44_col2\" class=\"data row44 col2\" >78.682457</td>\n",
       "            </tr>\n",
       "            <tr>\n",
       "                        <th id=\"T_78c0d406_d05c_11ea_8ac7_ac675da017d8level0_row45\" class=\"row_heading level0 row45\" >60649.0</th>\n",
       "                        <td id=\"T_78c0d406_d05c_11ea_8ac7_ac675da017d8row45_col0\" class=\"data row45 col0\" >1163</td>\n",
       "                        <td id=\"T_78c0d406_d05c_11ea_8ac7_ac675da017d8row45_col1\" class=\"data row45 col1\" >711</td>\n",
       "                        <td id=\"T_78c0d406_d05c_11ea_8ac7_ac675da017d8row45_col2\" class=\"data row45 col2\" >61.134996</td>\n",
       "            </tr>\n",
       "            <tr>\n",
       "                        <th id=\"T_78c0d406_d05c_11ea_8ac7_ac675da017d8level0_row46\" class=\"row_heading level0 row46\" >60651.0</th>\n",
       "                        <td id=\"T_78c0d406_d05c_11ea_8ac7_ac675da017d8row46_col0\" class=\"data row46 col0\" >1385</td>\n",
       "                        <td id=\"T_78c0d406_d05c_11ea_8ac7_ac675da017d8row46_col1\" class=\"data row46 col1\" >733</td>\n",
       "                        <td id=\"T_78c0d406_d05c_11ea_8ac7_ac675da017d8row46_col2\" class=\"data row46 col2\" >52.924188</td>\n",
       "            </tr>\n",
       "            <tr>\n",
       "                        <th id=\"T_78c0d406_d05c_11ea_8ac7_ac675da017d8level0_row47\" class=\"row_heading level0 row47\" >60652.0</th>\n",
       "                        <td id=\"T_78c0d406_d05c_11ea_8ac7_ac675da017d8row47_col0\" class=\"data row47 col0\" >1153</td>\n",
       "                        <td id=\"T_78c0d406_d05c_11ea_8ac7_ac675da017d8row47_col1\" class=\"data row47 col1\" >754</td>\n",
       "                        <td id=\"T_78c0d406_d05c_11ea_8ac7_ac675da017d8row47_col2\" class=\"data row47 col2\" >65.394623</td>\n",
       "            </tr>\n",
       "            <tr>\n",
       "                        <th id=\"T_78c0d406_d05c_11ea_8ac7_ac675da017d8level0_row48\" class=\"row_heading level0 row48\" >60653.0</th>\n",
       "                        <td id=\"T_78c0d406_d05c_11ea_8ac7_ac675da017d8row48_col0\" class=\"data row48 col0\" >961</td>\n",
       "                        <td id=\"T_78c0d406_d05c_11ea_8ac7_ac675da017d8row48_col1\" class=\"data row48 col1\" >638</td>\n",
       "                        <td id=\"T_78c0d406_d05c_11ea_8ac7_ac675da017d8row48_col2\" class=\"data row48 col2\" >66.389178</td>\n",
       "            </tr>\n",
       "            <tr>\n",
       "                        <th id=\"T_78c0d406_d05c_11ea_8ac7_ac675da017d8level0_row49\" class=\"row_heading level0 row49\" >60654.0</th>\n",
       "                        <td id=\"T_78c0d406_d05c_11ea_8ac7_ac675da017d8row49_col0\" class=\"data row49 col0\" >4221</td>\n",
       "                        <td id=\"T_78c0d406_d05c_11ea_8ac7_ac675da017d8row49_col1\" class=\"data row49 col1\" >3479</td>\n",
       "                        <td id=\"T_78c0d406_d05c_11ea_8ac7_ac675da017d8row49_col2\" class=\"data row49 col2\" >82.421227</td>\n",
       "            </tr>\n",
       "            <tr>\n",
       "                        <th id=\"T_78c0d406_d05c_11ea_8ac7_ac675da017d8level0_row50\" class=\"row_heading level0 row50\" >60655.0</th>\n",
       "                        <td id=\"T_78c0d406_d05c_11ea_8ac7_ac675da017d8row50_col0\" class=\"data row50 col0\" >531</td>\n",
       "                        <td id=\"T_78c0d406_d05c_11ea_8ac7_ac675da017d8row50_col1\" class=\"data row50 col1\" >365</td>\n",
       "                        <td id=\"T_78c0d406_d05c_11ea_8ac7_ac675da017d8row50_col2\" class=\"data row50 col2\" >68.738230</td>\n",
       "            </tr>\n",
       "            <tr>\n",
       "                        <th id=\"T_78c0d406_d05c_11ea_8ac7_ac675da017d8level0_row51\" class=\"row_heading level0 row51\" >60656.0</th>\n",
       "                        <td id=\"T_78c0d406_d05c_11ea_8ac7_ac675da017d8row51_col0\" class=\"data row51 col0\" >561</td>\n",
       "                        <td id=\"T_78c0d406_d05c_11ea_8ac7_ac675da017d8row51_col1\" class=\"data row51 col1\" >472</td>\n",
       "                        <td id=\"T_78c0d406_d05c_11ea_8ac7_ac675da017d8row51_col2\" class=\"data row51 col2\" >84.135472</td>\n",
       "            </tr>\n",
       "            <tr>\n",
       "                        <th id=\"T_78c0d406_d05c_11ea_8ac7_ac675da017d8level0_row52\" class=\"row_heading level0 row52\" >60657.0</th>\n",
       "                        <td id=\"T_78c0d406_d05c_11ea_8ac7_ac675da017d8row52_col0\" class=\"data row52 col0\" >5930</td>\n",
       "                        <td id=\"T_78c0d406_d05c_11ea_8ac7_ac675da017d8row52_col1\" class=\"data row52 col1\" >4741</td>\n",
       "                        <td id=\"T_78c0d406_d05c_11ea_8ac7_ac675da017d8row52_col2\" class=\"data row52 col2\" >79.949410</td>\n",
       "            </tr>\n",
       "            <tr>\n",
       "                        <th id=\"T_78c0d406_d05c_11ea_8ac7_ac675da017d8level0_row53\" class=\"row_heading level0 row53\" >60659.0</th>\n",
       "                        <td id=\"T_78c0d406_d05c_11ea_8ac7_ac675da017d8row53_col0\" class=\"data row53 col0\" >2922</td>\n",
       "                        <td id=\"T_78c0d406_d05c_11ea_8ac7_ac675da017d8row53_col1\" class=\"data row53 col1\" >2441</td>\n",
       "                        <td id=\"T_78c0d406_d05c_11ea_8ac7_ac675da017d8row53_col2\" class=\"data row53 col2\" >83.538672</td>\n",
       "            </tr>\n",
       "            <tr>\n",
       "                        <th id=\"T_78c0d406_d05c_11ea_8ac7_ac675da017d8level0_row54\" class=\"row_heading level0 row54\" >60660.0</th>\n",
       "                        <td id=\"T_78c0d406_d05c_11ea_8ac7_ac675da017d8row54_col0\" class=\"data row54 col0\" >2262</td>\n",
       "                        <td id=\"T_78c0d406_d05c_11ea_8ac7_ac675da017d8row54_col1\" class=\"data row54 col1\" >1714</td>\n",
       "                        <td id=\"T_78c0d406_d05c_11ea_8ac7_ac675da017d8row54_col2\" class=\"data row54 col2\" >75.773652</td>\n",
       "            </tr>\n",
       "            <tr>\n",
       "                        <th id=\"T_78c0d406_d05c_11ea_8ac7_ac675da017d8level0_row55\" class=\"row_heading level0 row55\" >60661.0</th>\n",
       "                        <td id=\"T_78c0d406_d05c_11ea_8ac7_ac675da017d8row55_col0\" class=\"data row55 col0\" >2456</td>\n",
       "                        <td id=\"T_78c0d406_d05c_11ea_8ac7_ac675da017d8row55_col1\" class=\"data row55 col1\" >2002</td>\n",
       "                        <td id=\"T_78c0d406_d05c_11ea_8ac7_ac675da017d8row55_col2\" class=\"data row55 col2\" >81.514658</td>\n",
       "            </tr>\n",
       "            <tr>\n",
       "                        <th id=\"T_78c0d406_d05c_11ea_8ac7_ac675da017d8level0_row56\" class=\"row_heading level0 row56\" >60666.0</th>\n",
       "                        <td id=\"T_78c0d406_d05c_11ea_8ac7_ac675da017d8row56_col0\" class=\"data row56 col0\" >2340</td>\n",
       "                        <td id=\"T_78c0d406_d05c_11ea_8ac7_ac675da017d8row56_col1\" class=\"data row56 col1\" >1610</td>\n",
       "                        <td id=\"T_78c0d406_d05c_11ea_8ac7_ac675da017d8row56_col2\" class=\"data row56 col2\" >68.803419</td>\n",
       "            </tr>\n",
       "            <tr>\n",
       "                        <th id=\"T_78c0d406_d05c_11ea_8ac7_ac675da017d8level0_row57\" class=\"row_heading level0 row57\" >60707.0</th>\n",
       "                        <td id=\"T_78c0d406_d05c_11ea_8ac7_ac675da017d8row57_col0\" class=\"data row57 col0\" >766</td>\n",
       "                        <td id=\"T_78c0d406_d05c_11ea_8ac7_ac675da017d8row57_col1\" class=\"data row57 col1\" >562</td>\n",
       "                        <td id=\"T_78c0d406_d05c_11ea_8ac7_ac675da017d8row57_col2\" class=\"data row57 col2\" >73.368146</td>\n",
       "            </tr>\n",
       "            <tr>\n",
       "                        <th id=\"T_78c0d406_d05c_11ea_8ac7_ac675da017d8level0_row58\" class=\"row_heading level0 row58\" >60827.0</th>\n",
       "                        <td id=\"T_78c0d406_d05c_11ea_8ac7_ac675da017d8row58_col0\" class=\"data row58 col0\" >12</td>\n",
       "                        <td id=\"T_78c0d406_d05c_11ea_8ac7_ac675da017d8row58_col1\" class=\"data row58 col1\" >3</td>\n",
       "                        <td id=\"T_78c0d406_d05c_11ea_8ac7_ac675da017d8row58_col2\" class=\"data row58 col2\" >25.000000</td>\n",
       "            </tr>\n",
       "    </tbody></table>"
      ],
      "text/plain": [
       "<pandas.io.formats.style.Styler at 0x15514e94148>"
      ]
     },
     "execution_count": 86,
     "metadata": {},
     "output_type": "execute_result"
    }
   ],
   "source": [
    "#Set restaurant Risk 1 info into dataframe\n",
    "data = pd.DataFrame({\"Number of Restaurants\":count_by_zip,\"Number of Risk 1(High)\":count_of_risk, \"Percentage of High Risk\":percent})       \n",
    "data.style.format({'Percentge of High Risk':\"{:.2f}%\"})"
   ]
  },
  {
   "cell_type": "code",
   "execution_count": 87,
   "metadata": {},
   "outputs": [
    {
     "data": {
      "text/plain": [
       "Risk 1 (High)      103971\n",
       "Risk 2 (Medium)     23467\n",
       "Risk 3 (Low)         1350\n",
       "All                     8\n",
       "Name: Risk, dtype: int64"
      ]
     },
     "execution_count": 87,
     "metadata": {},
     "output_type": "execute_result"
    }
   ],
   "source": [
    "total_risk = clean_data[\"Risk\"].value_counts()\n",
    "total_risk"
   ]
  },
  {
   "cell_type": "code",
   "execution_count": 88,
   "metadata": {},
   "outputs": [
    {
     "data": {
      "image/png": "[encoded data removed]",
      "text/plain": [
       "<Figure size 432x288 with 1 Axes>"
      ]
     },
     "metadata": {},
     "output_type": "display_data"
    }
   ],
   "source": [
    "# Labels for the sections of our pie chart\n",
    "labels = [\"Risk 1 (High)\", \"Risk 2 (Medium)\", \"Risk 3 (Low)\", \"All\"]\n",
    "\n",
    "# The values of each section of the pie chart\n",
    "sizes = total_risk\n",
    "\n",
    "# The colors of each section of the pie chart\n",
    "colors = [\"red\", \"orange\", \"green\"]\n",
    "\n",
    "# Tells matplotlib to seperate the \"Humans\" section from the others\n",
    "explode = (0,0.5,0,1)\n",
    "\n",
    "# Creates the pie chart based upon the values above\n",
    "# Automatically finds the percentages of each part of the pie chart\n",
    "plt.pie(sizes, explode=explode, labels=labels, colors=colors, autopct=\"%1.1f%%\", shadow=True, startangle=90)\n",
    "\n",
    "plt.savefig(\"Risk.png\")\n",
    "\n",
    "plt.show()"
   ]
  },
  {
   "cell_type": "code",
   "execution_count": 89,
   "metadata": {},
   "outputs": [
    {
     "data": {
      "image/png": "[encoded data removed]",
      "text/plain": [
       "<Figure size 864x504 with 1 Axes>"
      ]
     },
     "metadata": {
      "needs_background": "light"
     },
     "output_type": "display_data"
    }
   ],
   "source": [
    "#Bargrapgh that displays all risk one restaurants by zip code\n",
    "count_of_risk.plot(kind=\"bar\", color=\"red\", figsize=(12,7))\n",
    "\n",
    "#Last, we set chart title and axis labels\n",
    "plt.title(\"High Risk Restautants\")\n",
    "plt.xlabel(\"Zip\")\n",
    "plt.ylabel(\"Amount of Risk 1 in each Zipcode\")\n",
    "\n",
    "#show chart and set layout\n",
    "\n",
    "plt.savefig(\"Bar.png\")\n",
    "plt.show()"
   ]
  },
  {
   "cell_type": "code",
   "execution_count": null,
   "metadata": {},
   "outputs": [],
   "source": []
  }
 ],
 "metadata": {
  "kernelspec": {
   "display_name": "Python 3",
   "language": "python",
   "name": "python3"
  },
  "language_info": {
   "codemirror_mode": {
    "name": "ipython",
    "version": 3
   },
   "file_extension": ".py",
   "mimetype": "text/x-python",
   "name": "python",
   "nbconvert_exporter": "python",
   "pygments_lexer": "ipython3",
   "version": "3.7.6"
  }
 },
 "nbformat": 4,
 "nbformat_minor": 4
}
